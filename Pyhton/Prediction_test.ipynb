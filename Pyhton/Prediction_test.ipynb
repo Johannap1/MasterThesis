{
 "cells": [
  {
   "cell_type": "code",
   "execution_count": 3,
   "id": "e9762f77",
   "metadata": {},
   "outputs": [],
   "source": [
    "# General \n",
    "import sys\n",
    "import math\n",
    "import time\n",
    "import numpy as np\n",
    "# import pandas as pd\n",
    "#Plotting\n",
    "# import matplotlib.pyplot as plt\n",
    "# from mpl_toolkits import mplot3d\n",
    "# from matplotlib import cm\n",
    "#GPyTorch\n",
    "import torch\n",
    "import gpytorch\n",
    "from torch.utils.data import TensorDataset, DataLoader\n",
    "from gpytorch.models import ApproximateGP\n",
    "from gpytorch.variational import CholeskyVariationalDistribution\n",
    "from gpytorch.variational import VariationalStrategy\n",
    "# import tqdm\n",
    "# #Sklearn \n",
    "# from sklearn.model_selection import train_test_split\n",
    "# from sklearn.metrics import mean_absolute_error\n",
    "# from sklearn.metrics import mean_squared_error"
   ]
  },
  {
   "cell_type": "code",
   "execution_count": 2,
   "id": "64df474d",
   "metadata": {},
   "outputs": [],
   "source": [
    "class GPModel(ApproximateGP):\n",
    "    def __init__(self, inducing_points):\n",
    "        variational_distribution = CholeskyVariationalDistribution(inducing_points.size(0))\n",
    "        variational_strategy = VariationalStrategy(self, inducing_points, variational_distribution, learn_inducing_locations=True)\n",
    "        super(GPModel, self).__init__(variational_strategy)\n",
    "        self.mean_module = gpytorch.means.ZeroMean()\n",
    "        #self.covar_module = gpytorch.kernels.ScaleKernel(gpytorch.kernels.RBFKernel(ard_num_dims=2))\n",
    "        self.covar_module = gpytorch.kernels.ScaleKernel(gpytorch.kernels.MaternKernel(nu=2.5, ard_num_dims=2))\n",
    "\n",
    "    def forward(self, x):\n",
    "        mean_x = self.mean_module(x)\n",
    "        covar_x = self.covar_module(x)\n",
    "        return gpytorch.distributions.MultivariateNormal(mean_x, covar_x)"
   ]
  },
  {
   "cell_type": "code",
   "execution_count": 3,
   "id": "2d3b2e1f",
   "metadata": {},
   "outputs": [],
   "source": [
    "class Data:\n",
    "    def __init__(self, X=None, y=None):\n",
    "        self.X = X\n",
    "        self.y = y\n",
    "    def set_data(self, X, y):\n",
    "        self.X = X\n",
    "        self.y = y\n",
    "        self.read_data_torch()\n",
    "    def read_data_torch(self):\n",
    "        self.X_train =  torch.FloatTensor(self.X)\n",
    "        self.y_train =  torch.FloatTensor(self.y)\n",
    "        self.X_test =  torch.FloatTensor(self.X)\n",
    "        self.y_test =  torch.FloatTensor(self.y)\n",
    "    def read_data(self, inp):\n",
    "        return"
   ]
  },
  {
   "cell_type": "code",
   "execution_count": 4,
   "id": "9dfec9b8",
   "metadata": {},
   "outputs": [],
   "source": [
    "def create_grid(start, stop, res, array_type = None):\n",
    "    x = np.linspace(start, stop, res)\n",
    "    y = np.linspace(start, stop, res)\n",
    "    x, y = np.meshgrid(x, y)\n",
    "    if array_type is None:\n",
    "        X = np.stack((x.flatten(), y.flatten()), axis=-1)\n",
    "    else:\n",
    "        X = torch.FloatTensor(np.stack((x.flatten(), y.flatten()), axis=-1))\n",
    "    return X, x, y\n",
    "X_grid, x_grid, y_grid = create_grid(-9.9,9.9,51)\n",
    "X_grid_torch, x_grid_torch, y_grid_torch = create_grid(-9.9,9.9,51, \"torch\")"
   ]
  },
  {
   "cell_type": "code",
   "execution_count": 5,
   "id": "2192a9a5",
   "metadata": {},
   "outputs": [
    {
     "ename": "NameError",
     "evalue": "name 'model' is not defined",
     "output_type": "error",
     "traceback": [
      "\u001b[0;31m---------------------------------------------------------------------------\u001b[0m",
      "\u001b[0;31mNameError\u001b[0m                                 Traceback (most recent call last)",
      "Cell \u001b[0;32mIn [5], line 1\u001b[0m\n\u001b[0;32m----> 1\u001b[0m observed_pred \u001b[38;5;241m=\u001b[39m (\u001b[43mmodel\u001b[49m(X_grid_torch))\n\u001b[1;32m      2\u001b[0m mean \u001b[38;5;241m=\u001b[39m observed_pred\u001b[38;5;241m.\u001b[39mmean\u001b[38;5;241m.\u001b[39mdetach()\u001b[38;5;241m.\u001b[39mnumpy()\n\u001b[1;32m      3\u001b[0m lower, upper \u001b[38;5;241m=\u001b[39m observed_pred\u001b[38;5;241m.\u001b[39mconfidence_region()\n",
      "\u001b[0;31mNameError\u001b[0m: name 'model' is not defined"
     ]
    }
   ],
   "source": [
    "observed_pred = (model(X_grid_torch))\n",
    "mean = observed_pred.mean.detach().numpy()\n",
    "lower, upper = observed_pred.confidence_region()\n",
    "lower = lower.detach().numpy()\n",
    "upper = upper.detach().numpy()"
   ]
  },
  {
   "cell_type": "code",
   "execution_count": 79,
   "id": "f2afe352",
   "metadata": {},
   "outputs": [
    {
     "data": {
      "text/plain": [
       "(2, 2601)"
      ]
     },
     "execution_count": 79,
     "metadata": {},
     "output_type": "execute_result"
    }
   ],
   "source": [
    "y2 = np.zeros(mean.shape)\n",
    "y = np.vstack((mean, y2))\n",
    "y.shape"
   ]
  },
  {
   "cell_type": "code",
   "execution_count": 9,
   "id": "78fc3844",
   "metadata": {},
   "outputs": [],
   "source": [
    "def plot_wind_field(X=None, y=None, res=8, title=None, name=None):\n",
    "    fig, ax = plt.subplots(1, 1)\n",
    "    plt.axis('equal')\n",
    "    plt.grid(linestyle=':')\n",
    "    if X is None:\n",
    "        X = X\n",
    "        y = y\n",
    "        title = name\n",
    "    q = plt.quiver(X[::res, 0], X[::res, 1], y[::res,0], y[::res,1], scale=2.54, color='r',\n",
    "                   units='width', scale_units=\"inches\", width=0.003)\n",
    "    plt.title(title)\n",
    "    plt.xlabel('x')\n",
    "    plt.ylabel('y')\n",
    "    plt.ioff()\n",
    "    if not name==None:\n",
    "        plt.savefig(name)\n",
    "    plt.show()"
   ]
  },
  {
   "cell_type": "code",
   "execution_count": 22,
   "id": "44716054",
   "metadata": {},
   "outputs": [
    {
     "ename": "NameError",
     "evalue": "name 'y' is not defined",
     "output_type": "error",
     "traceback": [
      "\u001b[0;31m---------------------------------------------------------------------------\u001b[0m",
      "\u001b[0;31mNameError\u001b[0m                                 Traceback (most recent call last)",
      "Cell \u001b[0;32mIn [22], line 1\u001b[0m\n\u001b[0;32m----> 1\u001b[0m plot_wind_field(X\u001b[38;5;241m=\u001b[39mX_grid, y\u001b[38;5;241m=\u001b[39mnp\u001b[38;5;241m.\u001b[39mtranspose(\u001b[43my\u001b[49m), res\u001b[38;5;241m=\u001b[39m\u001b[38;5;241m4\u001b[39m)\n",
      "\u001b[0;31mNameError\u001b[0m: name 'y' is not defined"
     ]
    }
   ],
   "source": [
    "plot_wind_field(X=X_grid, y=np.transpose(y), res=4)"
   ]
  },
  {
   "cell_type": "markdown",
   "id": "c13d3d3f",
   "metadata": {},
   "source": [
    "# Compute the gradient"
   ]
  },
  {
   "cell_type": "code",
   "execution_count": 23,
   "id": "41c8664e",
   "metadata": {},
   "outputs": [
    {
     "ename": "NameError",
     "evalue": "name 'model' is not defined",
     "output_type": "error",
     "traceback": [
      "\u001b[0;31m---------------------------------------------------------------------------\u001b[0m",
      "\u001b[0;31mNameError\u001b[0m                                 Traceback (most recent call last)",
      "Cell \u001b[0;32mIn [23], line 3\u001b[0m\n\u001b[1;32m      1\u001b[0m tic \u001b[38;5;241m=\u001b[39m time\u001b[38;5;241m.\u001b[39mtime()\n\u001b[1;32m      2\u001b[0m X \u001b[38;5;241m=\u001b[39m torch\u001b[38;5;241m.\u001b[39mautograd\u001b[38;5;241m.\u001b[39mVariable(torch\u001b[38;5;241m.\u001b[39mTensor(X_grid_torch), requires_grad \u001b[38;5;241m=\u001b[39m \u001b[38;5;28;01mTrue\u001b[39;00m)\n\u001b[0;32m----> 3\u001b[0m observed_pred \u001b[38;5;241m=\u001b[39m (\u001b[43mmodel\u001b[49m(X))\n\u001b[1;32m      4\u001b[0m dydtest_x_ag \u001b[38;5;241m=\u001b[39m torch\u001b[38;5;241m.\u001b[39mautograd\u001b[38;5;241m.\u001b[39mgrad(observed_pred\u001b[38;5;241m.\u001b[39mmean\u001b[38;5;241m.\u001b[39msum(), X)[\u001b[38;5;241m0\u001b[39m]\n\u001b[1;32m      5\u001b[0m y_grad \u001b[38;5;241m=\u001b[39m dydtest_x_ag\u001b[38;5;241m.\u001b[39mdetach()\u001b[38;5;241m.\u001b[39mnumpy()\n",
      "\u001b[0;31mNameError\u001b[0m: name 'model' is not defined"
     ]
    }
   ],
   "source": [
    "tic = time.time()\n",
    "X = torch.autograd.Variable(torch.Tensor(X_grid_torch), requires_grad = True)\n",
    "observed_pred = (model(X))\n",
    "dydtest_x_ag = torch.autograd.grad(observed_pred.mean.sum(), X)[0]\n",
    "y_grad = dydtest_x_ag.detach().numpy()\n",
    "print(time.time() - tic)\n",
    "print(y_grad)"
   ]
  },
  {
   "cell_type": "code",
   "execution_count": 24,
   "id": "5575697d",
   "metadata": {},
   "outputs": [
    {
     "ename": "NameError",
     "evalue": "name 'y_grad' is not defined",
     "output_type": "error",
     "traceback": [
      "\u001b[0;31m---------------------------------------------------------------------------\u001b[0m",
      "\u001b[0;31mNameError\u001b[0m                                 Traceback (most recent call last)",
      "Cell \u001b[0;32mIn [24], line 1\u001b[0m\n\u001b[0;32m----> 1\u001b[0m plot_wind_field(X\u001b[38;5;241m=\u001b[39mX_grid, y\u001b[38;5;241m=\u001b[39m\u001b[43my_grad\u001b[49m, res\u001b[38;5;241m=\u001b[39m\u001b[38;5;241m4\u001b[39m, title\u001b[38;5;241m=\u001b[39m\u001b[38;5;124m\"\u001b[39m\u001b[38;5;124mGradient of GP for wind in x\u001b[39m\u001b[38;5;124m\"\u001b[39m)\n",
      "\u001b[0;31mNameError\u001b[0m: name 'y_grad' is not defined"
     ]
    }
   ],
   "source": [
    "plot_wind_field(X=X_grid, y=y_grad, res=4, title=\"Gradient of GP for wind in x\")"
   ]
  },
  {
   "cell_type": "markdown",
   "id": "320e9a35",
   "metadata": {},
   "source": [
    "# Put together the prediction model"
   ]
  },
  {
   "cell_type": "markdown",
   "id": "1247f5ef",
   "metadata": {},
   "source": [
    "# 0.0) Nominal model"
   ]
  },
  {
   "cell_type": "code",
   "execution_count": 53,
   "id": "3560440d",
   "metadata": {},
   "outputs": [],
   "source": [
    "# Continuous time \n",
    "g = 9.81\n",
    "tau = 0.075\n",
    "k = 0.963\n",
    "A = np.zeros([9,9])\n",
    "A[0,3] = 1\n",
    "A[1,4] = 1\n",
    "A[2,5] = 1\n",
    "A[3,7] = g\n",
    "A[4,6] = -g\n",
    "A[6,6] = -1/tau\n",
    "A[7,7] = -1/tau\n",
    "B = np.zeros([9,4])\n",
    "B[5,3] = 1\n",
    "B[6,0] = k/tau\n",
    "B[7,1] = k/tau\n",
    "B[8,2] = 1\n",
    "Bd = np.zeros([9,2])\n",
    "Bd[3,0] = 1\n",
    "Bd[4,1] = 1\n",
    "\n",
    "# Discrete time\n"
   ]
  },
  {
   "cell_type": "code",
   "execution_count": 54,
   "id": "9ecd1e39",
   "metadata": {},
   "outputs": [
    {
     "name": "stdout",
     "output_type": "stream",
     "text": [
      "[[ 0.      0.0022  0.      0.    ]\n",
      " [-0.0022  0.      0.      0.    ]\n",
      " [ 0.      0.      0.      0.0012]\n",
      " [ 0.      0.1276  0.      0.    ]\n",
      " [-0.1276  0.      0.      0.    ]\n",
      " [ 0.      0.      0.      0.05  ]\n",
      " [ 0.4686  0.      0.      0.    ]\n",
      " [ 0.      0.4686  0.      0.    ]\n",
      " [ 0.      0.      0.05    0.    ]]\n"
     ]
    }
   ],
   "source": [
    "from scipy.signal import cont2discrete, lti, dlti, dstep\n",
    "\n",
    "C = np.identity(9)\n",
    "D = np.zeros([9,4])\n",
    "dt = 0.05\n",
    "d_system = cont2discrete((A, B, C, D), dt, method='zoh')\n",
    "A_d = d_system[0]\n",
    "B_d = d_system[1]\n",
    "C_d = d_system[2]\n",
    "D_d = d_system[3]\n",
    "with np.printoptions(precision=4, suppress=True):\n",
    "    print(B_d)"
   ]
  },
  {
   "cell_type": "code",
   "execution_count": 55,
   "id": "3598d0ba",
   "metadata": {},
   "outputs": [
    {
     "name": "stdout",
     "output_type": "stream",
     "text": [
      "[[0.00125 0.     ]\n",
      " [0.      0.00125]\n",
      " [0.      0.     ]\n",
      " [0.05    0.     ]\n",
      " [0.      0.05   ]\n",
      " [0.      0.     ]\n",
      " [0.      0.     ]\n",
      " [0.      0.     ]\n",
      " [0.      0.     ]]\n"
     ]
    }
   ],
   "source": [
    "#Also discretize the disturbance \n",
    "A_ = A\n",
    "B_ = np.hstack([B, Bd])\n",
    "C = np.identity(9)\n",
    "D = np.zeros([9,4])\n",
    "dt = 0.05\n",
    "d_system = cont2discrete((A_, Bd, C, D), dt, method='zoh')\n",
    "B_d_disc = d_system[1]\n",
    "print(B_d_disc)"
   ]
  },
  {
   "cell_type": "markdown",
   "id": "a64dfe09",
   "metadata": {},
   "source": [
    "# 0.1) Load the trained GP models"
   ]
  },
  {
   "cell_type": "code",
   "execution_count": 7,
   "id": "d405b70e",
   "metadata": {},
   "outputs": [],
   "source": [
    "data = np.load('/home/johanna/MasterThesis/data/backup_structured_x_wind/wind_data_4.npz')\n",
    "data_X = data['X']\n",
    "data_y = data['y']\n",
    "inducing_points = torch.FloatTensor(data_X[::int(data_y.shape[0]/30), :])"
   ]
  },
  {
   "cell_type": "code",
   "execution_count": 8,
   "id": "5a16e771",
   "metadata": {},
   "outputs": [
    {
     "data": {
      "text/plain": [
       "31"
      ]
     },
     "execution_count": 8,
     "metadata": {},
     "output_type": "execute_result"
    }
   ],
   "source": [
    "inducing_points.size(0)"
   ]
  },
  {
   "cell_type": "code",
   "execution_count": 26,
   "id": "96bbd428",
   "metadata": {},
   "outputs": [
    {
     "name": "stdout",
     "output_type": "stream",
     "text": [
      "OrderedDict([('variational_strategy.inducing_points', tensor([[  0.6238,   1.6735],\n",
      "        [  2.4993,  -1.8205],\n",
      "        [  8.2422,  -0.1356],\n",
      "        [  7.5675,   6.6363],\n",
      "        [  2.2974,   9.2219],\n",
      "        [ -6.2836,   9.3662],\n",
      "        [ -5.9367,   1.5368],\n",
      "        [ -4.8024,  -1.7412],\n",
      "        [ -4.5350,  -3.1451],\n",
      "        [ -8.9693,  -8.3928],\n",
      "        [ -5.7966, -10.0445],\n",
      "        [ -0.3767,  -9.9683],\n",
      "        [  4.4215,  -9.5435],\n",
      "        [  8.5375,  -9.7206],\n",
      "        [  3.6561,  -5.3003],\n",
      "        [ -1.5771,  -0.5819],\n",
      "        [ -9.0627,  -1.9239],\n",
      "        [ -9.8440,   0.3330],\n",
      "        [ -9.4903,   3.4844],\n",
      "        [ -8.9786,   6.7935],\n",
      "        [ -2.4628,   5.3270],\n",
      "        [  8.4513,   9.5683],\n",
      "        [  9.6003,   3.7080],\n",
      "        [  9.3990,  -3.3051],\n",
      "        [  9.6274,  -5.7380],\n",
      "        [  5.7499,   2.5925],\n",
      "        [  1.9121,   4.7352],\n",
      "        [ -8.7800,  -3.0534],\n",
      "        [ -5.1636,  -4.1952],\n",
      "        [ -2.0399,  -6.6442],\n",
      "        [  6.2088,  -2.2447]])), ('variational_strategy.variational_params_initialized', tensor(1)), ('variational_strategy.updated_strategy', tensor(True)), ('variational_strategy._variational_distribution.variational_mean', tensor([ 2.7275,  1.9786, -0.9070, -0.1217,  0.0270, -0.0542,  0.7861,  2.1987,\n",
      "        -4.1377,  0.0878,  0.1605, -0.0729,  0.1065, -0.1783,  0.5970,  1.2822,\n",
      "         0.9710,  1.2329, -0.4235,  0.4875,  0.0908,  0.0194,  0.0187, -0.0866,\n",
      "        -0.3574,  0.8374, -0.5725, -0.2794,  3.9452, -1.4991,  1.3597])), ('variational_strategy._variational_distribution.chol_variational_covar', tensor([[ 1.0889e-01,  0.0000e+00,  0.0000e+00,  0.0000e+00,  0.0000e+00,\n",
      "          0.0000e+00,  0.0000e+00,  0.0000e+00,  0.0000e+00,  0.0000e+00,\n",
      "          0.0000e+00,  0.0000e+00,  0.0000e+00,  0.0000e+00,  0.0000e+00,\n",
      "          0.0000e+00,  0.0000e+00,  0.0000e+00,  0.0000e+00,  0.0000e+00,\n",
      "          0.0000e+00,  0.0000e+00,  0.0000e+00,  0.0000e+00,  0.0000e+00,\n",
      "          0.0000e+00,  0.0000e+00,  0.0000e+00,  0.0000e+00,  0.0000e+00,\n",
      "          0.0000e+00],\n",
      "        [-4.1647e-02,  8.5413e-02,  0.0000e+00,  0.0000e+00,  0.0000e+00,\n",
      "          0.0000e+00,  0.0000e+00,  0.0000e+00,  0.0000e+00,  0.0000e+00,\n",
      "          0.0000e+00,  0.0000e+00,  0.0000e+00,  0.0000e+00,  0.0000e+00,\n",
      "          0.0000e+00,  0.0000e+00,  0.0000e+00,  0.0000e+00,  0.0000e+00,\n",
      "          0.0000e+00,  0.0000e+00,  0.0000e+00,  0.0000e+00,  0.0000e+00,\n",
      "          0.0000e+00,  0.0000e+00,  0.0000e+00,  0.0000e+00,  0.0000e+00,\n",
      "          0.0000e+00],\n",
      "        [-1.6282e-02, -3.7141e-02,  1.0743e-01,  0.0000e+00,  0.0000e+00,\n",
      "          0.0000e+00,  0.0000e+00,  0.0000e+00,  0.0000e+00,  0.0000e+00,\n",
      "          0.0000e+00,  0.0000e+00,  0.0000e+00,  0.0000e+00,  0.0000e+00,\n",
      "          0.0000e+00,  0.0000e+00,  0.0000e+00,  0.0000e+00,  0.0000e+00,\n",
      "          0.0000e+00,  0.0000e+00,  0.0000e+00,  0.0000e+00,  0.0000e+00,\n",
      "          0.0000e+00,  0.0000e+00,  0.0000e+00,  0.0000e+00,  0.0000e+00,\n",
      "          0.0000e+00],\n",
      "        [ 5.5823e-03,  9.9363e-03, -9.5128e-03,  7.6176e-02,  0.0000e+00,\n",
      "          0.0000e+00,  0.0000e+00,  0.0000e+00,  0.0000e+00,  0.0000e+00,\n",
      "          0.0000e+00,  0.0000e+00,  0.0000e+00,  0.0000e+00,  0.0000e+00,\n",
      "          0.0000e+00,  0.0000e+00,  0.0000e+00,  0.0000e+00,  0.0000e+00,\n",
      "          0.0000e+00,  0.0000e+00,  0.0000e+00,  0.0000e+00,  0.0000e+00,\n",
      "          0.0000e+00,  0.0000e+00,  0.0000e+00,  0.0000e+00,  0.0000e+00,\n",
      "          0.0000e+00],\n",
      "        [ 7.8303e-03,  1.7452e-03, -6.3662e-04, -4.8296e-02,  9.1769e-02,\n",
      "          0.0000e+00,  0.0000e+00,  0.0000e+00,  0.0000e+00,  0.0000e+00,\n",
      "          0.0000e+00,  0.0000e+00,  0.0000e+00,  0.0000e+00,  0.0000e+00,\n",
      "          0.0000e+00,  0.0000e+00,  0.0000e+00,  0.0000e+00,  0.0000e+00,\n",
      "          0.0000e+00,  0.0000e+00,  0.0000e+00,  0.0000e+00,  0.0000e+00,\n",
      "          0.0000e+00,  0.0000e+00,  0.0000e+00,  0.0000e+00,  0.0000e+00,\n",
      "          0.0000e+00],\n",
      "        [ 6.1779e-03,  2.6052e-03, -2.0419e-03,  2.2017e-02, -4.6089e-02,\n",
      "          8.9845e-02,  0.0000e+00,  0.0000e+00,  0.0000e+00,  0.0000e+00,\n",
      "          0.0000e+00,  0.0000e+00,  0.0000e+00,  0.0000e+00,  0.0000e+00,\n",
      "          0.0000e+00,  0.0000e+00,  0.0000e+00,  0.0000e+00,  0.0000e+00,\n",
      "          0.0000e+00,  0.0000e+00,  0.0000e+00,  0.0000e+00,  0.0000e+00,\n",
      "          0.0000e+00,  0.0000e+00,  0.0000e+00,  0.0000e+00,  0.0000e+00,\n",
      "          0.0000e+00],\n",
      "        [-6.0247e-02,  5.8202e-03,  1.9811e-02,  1.0489e-02, -2.7247e-03,\n",
      "          1.5384e-03,  1.2468e-01,  0.0000e+00,  0.0000e+00,  0.0000e+00,\n",
      "          0.0000e+00,  0.0000e+00,  0.0000e+00,  0.0000e+00,  0.0000e+00,\n",
      "          0.0000e+00,  0.0000e+00,  0.0000e+00,  0.0000e+00,  0.0000e+00,\n",
      "          0.0000e+00,  0.0000e+00,  0.0000e+00,  0.0000e+00,  0.0000e+00,\n",
      "          0.0000e+00,  0.0000e+00,  0.0000e+00,  0.0000e+00,  0.0000e+00,\n",
      "          0.0000e+00],\n",
      "        [ 6.3358e-03, -6.7627e-02,  2.0101e-02,  8.1362e-04, -1.7322e-03,\n",
      "          4.8112e-03, -4.8453e-02,  1.2892e-01,  0.0000e+00,  0.0000e+00,\n",
      "          0.0000e+00,  0.0000e+00,  0.0000e+00,  0.0000e+00,  0.0000e+00,\n",
      "          0.0000e+00,  0.0000e+00,  0.0000e+00,  0.0000e+00,  0.0000e+00,\n",
      "          0.0000e+00,  0.0000e+00,  0.0000e+00,  0.0000e+00,  0.0000e+00,\n",
      "          0.0000e+00,  0.0000e+00,  0.0000e+00,  0.0000e+00,  0.0000e+00,\n",
      "          0.0000e+00],\n",
      "        [ 2.0316e-02, -1.0194e-02, -6.6345e-03, -6.0700e-03, -7.4812e-04,\n",
      "         -6.0922e-03,  2.9569e-02, -1.2837e-01,  9.7633e-02,  0.0000e+00,\n",
      "          0.0000e+00,  0.0000e+00,  0.0000e+00,  0.0000e+00,  0.0000e+00,\n",
      "          0.0000e+00,  0.0000e+00,  0.0000e+00,  0.0000e+00,  0.0000e+00,\n",
      "          0.0000e+00,  0.0000e+00,  0.0000e+00,  0.0000e+00,  0.0000e+00,\n",
      "          0.0000e+00,  0.0000e+00,  0.0000e+00,  0.0000e+00,  0.0000e+00,\n",
      "          0.0000e+00],\n",
      "        [-4.5991e-03,  1.0376e-03,  2.2798e-03, -2.0148e-03, -1.1486e-03,\n",
      "          1.5415e-03, -1.3434e-03,  6.6652e-03,  4.3866e-03,  9.0067e-02,\n",
      "          0.0000e+00,  0.0000e+00,  0.0000e+00,  0.0000e+00,  0.0000e+00,\n",
      "          0.0000e+00,  0.0000e+00,  0.0000e+00,  0.0000e+00,  0.0000e+00,\n",
      "          0.0000e+00,  0.0000e+00,  0.0000e+00,  0.0000e+00,  0.0000e+00,\n",
      "          0.0000e+00,  0.0000e+00,  0.0000e+00,  0.0000e+00,  0.0000e+00,\n",
      "          0.0000e+00],\n",
      "        [ 7.6311e-03, -5.6400e-03, -2.9415e-03, -2.7356e-04, -7.5131e-04,\n",
      "         -7.6254e-04,  3.3264e-03,  1.2355e-02, -1.8251e-02, -9.4714e-02,\n",
      "          9.7978e-02,  0.0000e+00,  0.0000e+00,  0.0000e+00,  0.0000e+00,\n",
      "          0.0000e+00,  0.0000e+00,  0.0000e+00,  0.0000e+00,  0.0000e+00,\n",
      "          0.0000e+00,  0.0000e+00,  0.0000e+00,  0.0000e+00,  0.0000e+00,\n",
      "          0.0000e+00,  0.0000e+00,  0.0000e+00,  0.0000e+00,  0.0000e+00,\n",
      "          0.0000e+00],\n",
      "        [ 5.0410e-03, -6.0983e-03, -2.3727e-03, -1.4967e-04,  1.5833e-03,\n",
      "          4.3483e-04, -3.9368e-03,  9.7783e-03,  1.0145e-02,  4.9172e-02,\n",
      "         -5.7610e-02,  9.3149e-02,  0.0000e+00,  0.0000e+00,  0.0000e+00,\n",
      "          0.0000e+00,  0.0000e+00,  0.0000e+00,  0.0000e+00,  0.0000e+00,\n",
      "          0.0000e+00,  0.0000e+00,  0.0000e+00,  0.0000e+00,  0.0000e+00,\n",
      "          0.0000e+00,  0.0000e+00,  0.0000e+00,  0.0000e+00,  0.0000e+00,\n",
      "          0.0000e+00],\n",
      "        [ 2.4417e-04,  1.8888e-02, -9.6342e-03,  2.6943e-03, -2.8159e-04,\n",
      "         -2.4922e-04,  8.0619e-04,  7.9612e-04, -1.1929e-02, -4.0981e-02,\n",
      "          3.5529e-02, -8.8971e-02,  1.0700e-01,  0.0000e+00,  0.0000e+00,\n",
      "          0.0000e+00,  0.0000e+00,  0.0000e+00,  0.0000e+00,  0.0000e+00,\n",
      "          0.0000e+00,  0.0000e+00,  0.0000e+00,  0.0000e+00,  0.0000e+00,\n",
      "          0.0000e+00,  0.0000e+00,  0.0000e+00,  0.0000e+00,  0.0000e+00,\n",
      "          0.0000e+00],\n",
      "        [-9.1461e-04, -2.1897e-02,  2.1018e-02, -4.2077e-03, -2.8268e-04,\n",
      "          3.9801e-03, -1.5768e-04,  1.7185e-04,  1.0258e-02,  3.5282e-02,\n",
      "         -1.7773e-02,  7.3043e-02, -1.6736e-01,  1.2361e-01,  0.0000e+00,\n",
      "          0.0000e+00,  0.0000e+00,  0.0000e+00,  0.0000e+00,  0.0000e+00,\n",
      "          0.0000e+00,  0.0000e+00,  0.0000e+00,  0.0000e+00,  0.0000e+00,\n",
      "          0.0000e+00,  0.0000e+00,  0.0000e+00,  0.0000e+00,  0.0000e+00,\n",
      "          0.0000e+00],\n",
      "        [ 1.7008e-02, -4.2904e-02,  1.2909e-02, -2.4112e-05,  3.7013e-04,\n",
      "         -3.4365e-03, -9.3806e-03,  3.8670e-02, -2.8689e-02,  2.8638e-03,\n",
      "         -6.3410e-03,  1.0349e-02, -3.7358e-02,  8.2744e-03,  7.9343e-02,\n",
      "          0.0000e+00,  0.0000e+00,  0.0000e+00,  0.0000e+00,  0.0000e+00,\n",
      "          0.0000e+00,  0.0000e+00,  0.0000e+00,  0.0000e+00,  0.0000e+00,\n",
      "          0.0000e+00,  0.0000e+00,  0.0000e+00,  0.0000e+00,  0.0000e+00,\n",
      "          0.0000e+00],\n",
      "        [-7.7044e-02, -1.2324e-01, -2.0316e-02, -4.7415e-03, -4.8374e-03,\n",
      "          1.6556e-03,  5.7126e-03, -1.0750e-01,  3.1214e-02,  9.8727e-03,\n",
      "         -8.2517e-03,  4.4959e-03, -7.2353e-03,  2.2406e-03,  8.8556e-04,\n",
      "          2.1677e-01,  0.0000e+00,  0.0000e+00,  0.0000e+00,  0.0000e+00,\n",
      "          0.0000e+00,  0.0000e+00,  0.0000e+00,  0.0000e+00,  0.0000e+00,\n",
      "          0.0000e+00,  0.0000e+00,  0.0000e+00,  0.0000e+00,  0.0000e+00,\n",
      "          0.0000e+00],\n",
      "        [-1.1541e-02, -1.0905e-03, -9.5187e-03, -7.3850e-03, -6.4301e-04,\n",
      "         -2.2872e-03, -1.9427e-03, -2.0198e-01,  3.2344e-03, -4.2990e-04,\n",
      "         -1.4317e-03,  9.4936e-04, -1.2208e-03,  1.5987e-03,  1.0022e-02,\n",
      "          8.6148e-02,  1.5846e-01,  0.0000e+00,  0.0000e+00,  0.0000e+00,\n",
      "          0.0000e+00,  0.0000e+00,  0.0000e+00,  0.0000e+00,  0.0000e+00,\n",
      "          0.0000e+00,  0.0000e+00,  0.0000e+00,  0.0000e+00,  0.0000e+00,\n",
      "          0.0000e+00],\n",
      "        [ 6.0957e-02, -3.4296e-03, -6.9038e-03, -1.2482e-02, -2.3775e-03,\n",
      "         -2.0100e-02, -1.0269e-01, -3.0316e-02,  3.2364e-02, -7.7992e-03,\n",
      "         -5.7619e-04,  2.2660e-03,  7.5867e-03,  1.3519e-03, -1.2219e-02,\n",
      "          1.1573e-02, -7.8016e-02,  1.8440e-01,  0.0000e+00,  0.0000e+00,\n",
      "          0.0000e+00,  0.0000e+00,  0.0000e+00,  0.0000e+00,  0.0000e+00,\n",
      "          0.0000e+00,  0.0000e+00,  0.0000e+00,  0.0000e+00,  0.0000e+00,\n",
      "          0.0000e+00],\n",
      "        [ 2.0185e-02, -2.7378e-02, -1.3254e-05, -8.4050e-03,  1.2911e-03,\n",
      "          1.7900e-03, -8.3434e-02,  1.7573e-02, -1.7053e-02,  6.0038e-03,\n",
      "          5.9345e-04,  7.5064e-04, -6.1085e-03,  3.4602e-03,  7.5985e-03,\n",
      "          3.6250e-02,  9.5244e-03,  7.6724e-03,  1.0634e-01,  0.0000e+00,\n",
      "          0.0000e+00,  0.0000e+00,  0.0000e+00,  0.0000e+00,  0.0000e+00,\n",
      "          0.0000e+00,  0.0000e+00,  0.0000e+00,  0.0000e+00,  0.0000e+00,\n",
      "          0.0000e+00],\n",
      "        [ 8.1575e-04,  1.7094e-02,  2.0823e-02, -2.1280e-02,  2.3534e-02,\n",
      "         -6.0830e-02,  4.9504e-02, -1.8211e-02,  4.9155e-03, -3.0548e-03,\n",
      "          7.1190e-03, -7.6172e-03,  4.8801e-03, -5.4841e-04, -8.0794e-03,\n",
      "         -1.9379e-02, -1.3353e-02,  2.2861e-02, -7.0512e-02,  1.1074e-01,\n",
      "          0.0000e+00,  0.0000e+00,  0.0000e+00,  0.0000e+00,  0.0000e+00,\n",
      "          0.0000e+00,  0.0000e+00,  0.0000e+00,  0.0000e+00,  0.0000e+00,\n",
      "          0.0000e+00],\n",
      "        [-3.9048e-02, -1.1202e-02, -7.4144e-03, -1.4465e-02, -2.3729e-02,\n",
      "          1.2744e-02, -1.5770e-02, -1.0849e-02, -2.8207e-04, -2.4048e-04,\n",
      "         -6.1144e-03, -1.4824e-03,  1.8487e-03, -9.5199e-04,  5.3158e-04,\n",
      "          3.4715e-02,  5.4042e-03,  8.8108e-03, -9.9766e-03, -4.5947e-02,\n",
      "          1.0639e-01,  0.0000e+00,  0.0000e+00,  0.0000e+00,  0.0000e+00,\n",
      "          0.0000e+00,  0.0000e+00,  0.0000e+00,  0.0000e+00,  0.0000e+00,\n",
      "          0.0000e+00],\n",
      "        [-2.2440e-02, -4.2160e-03, -6.3539e-03, -3.8548e-02, -5.9944e-02,\n",
      "          1.0255e-02, -4.7747e-03, -3.3178e-03, -6.6416e-04,  3.6142e-03,\n",
      "         -5.7150e-03,  8.1710e-03, -7.4219e-04,  1.3769e-03, -6.7760e-03,\n",
      "          1.0733e-02,  1.6873e-03,  7.6983e-03, -4.7942e-03, -1.4868e-02,\n",
      "          2.4324e-02,  7.1358e-02,  0.0000e+00,  0.0000e+00,  0.0000e+00,\n",
      "          0.0000e+00,  0.0000e+00,  0.0000e+00,  0.0000e+00,  0.0000e+00,\n",
      "          0.0000e+00],\n",
      "        [-1.5461e-02,  1.4205e-02, -5.1247e-02, -6.4424e-02,  2.9891e-02,\n",
      "         -1.0930e-02,  9.2941e-05, -1.6411e-02,  9.5523e-03,  1.3153e-03,\n",
      "         -9.9679e-03,  1.1551e-02, -4.4240e-03, -1.2735e-03, -1.2307e-02,\n",
      "          1.5315e-02,  7.3821e-03, -1.1610e-02,  6.8444e-03, -1.3743e-04,\n",
      "          2.9960e-03,  1.4952e-02,  1.2516e-01,  0.0000e+00,  0.0000e+00,\n",
      "          0.0000e+00,  0.0000e+00,  0.0000e+00,  0.0000e+00,  0.0000e+00,\n",
      "          0.0000e+00],\n",
      "        [ 2.3531e-02, -4.7559e-02, -4.6418e-02, -4.1706e-03,  1.4009e-03,\n",
      "          2.1127e-03, -2.2263e-02, -3.2053e-03,  1.3622e-02, -1.0960e-03,\n",
      "         -2.4277e-04, -1.0624e-02,  2.7548e-02, -6.5886e-03, -4.4799e-02,\n",
      "          5.0264e-02, -4.1832e-03,  1.3438e-02,  8.5104e-03,  3.3091e-04,\n",
      "          5.0912e-04,  4.2231e-04,  2.5262e-03,  1.2085e-01,  0.0000e+00,\n",
      "          0.0000e+00,  0.0000e+00,  0.0000e+00,  0.0000e+00,  0.0000e+00,\n",
      "          0.0000e+00],\n",
      "        [-1.4091e-02,  4.0990e-02,  1.1854e-02,  3.1968e-03, -1.4907e-03,\n",
      "         -3.2193e-03,  9.8615e-03, -1.9705e-02,  1.6157e-02, -4.0720e-03,\n",
      "         -2.8133e-03,  3.0362e-03,  1.0285e-02, -2.5794e-02, -3.9921e-02,\n",
      "         -2.8956e-02, -1.2065e-03,  3.3925e-03, -7.1703e-03,  2.0253e-03,\n",
      "         -2.9590e-04, -2.4765e-04,  6.6347e-04, -4.9937e-02,  9.8029e-02,\n",
      "          0.0000e+00,  0.0000e+00,  0.0000e+00,  0.0000e+00,  0.0000e+00,\n",
      "          0.0000e+00],\n",
      "        [-2.1560e-01, -2.0398e-02, -6.5714e-02,  2.5292e-02, -2.6048e-02,\n",
      "          6.0079e-03,  9.6443e-02, -5.4299e-02,  1.1019e-02,  1.0822e-02,\n",
      "         -7.5611e-03, -1.6030e-03,  6.0292e-03,  6.4698e-04, -1.1689e-02,\n",
      "          9.3189e-02,  2.9356e-02, -3.1251e-02, -1.3192e-02,  2.5042e-04,\n",
      "         -2.2690e-02, -7.7970e-03, -1.4260e-01,  2.6754e-02, -8.9794e-03,\n",
      "          1.8811e-01,  0.0000e+00,  0.0000e+00,  0.0000e+00,  0.0000e+00,\n",
      "          0.0000e+00],\n",
      "        [-7.2097e-02,  5.8797e-03,  6.5661e-02, -7.6029e-02,  2.1009e-02,\n",
      "         -2.0403e-02,  2.2583e-02, -3.4420e-02, -9.0918e-04,  8.4629e-03,\n",
      "         -9.5852e-04,  1.3223e-02, -1.0521e-02,  3.8778e-04, -2.7534e-03,\n",
      "          5.7192e-02,  1.2669e-02, -2.5976e-03, -2.3150e-02,  3.6468e-02,\n",
      "         -7.6794e-02,  2.8057e-02, -1.1902e-02, -1.3022e-02,  7.4994e-03,\n",
      "         -9.4341e-02,  1.9239e-01,  0.0000e+00,  0.0000e+00,  0.0000e+00,\n",
      "          0.0000e+00],\n",
      "        [ 2.1016e-02,  4.8752e-02,  5.2764e-03,  4.5223e-03,  4.9228e-03,\n",
      "         -1.0272e-02, -3.0488e-02,  1.4460e-01, -6.5439e-02, -3.8664e-02,\n",
      "          2.2070e-02, -1.2599e-02,  2.2119e-03,  1.9173e-03,  2.2880e-02,\n",
      "         -4.6493e-02, -1.5785e-01,  5.8513e-02, -4.9457e-03,  2.7323e-03,\n",
      "          7.0942e-03, -6.9064e-04,  1.4854e-02,  7.9788e-03, -1.9347e-02,\n",
      "         -1.3021e-02, -3.9023e-03,  1.8241e-01,  0.0000e+00,  0.0000e+00,\n",
      "          0.0000e+00],\n",
      "        [-7.8854e-03,  6.8578e-02,  1.7139e-02,  9.4945e-03,  1.6005e-03,\n",
      "          6.8923e-03, -1.6192e-02,  1.3151e-01, -1.7930e-01, -7.5937e-02,\n",
      "          5.1596e-02, -2.2760e-02,  3.3119e-02, -2.7533e-02, -2.0585e-02,\n",
      "         -7.6959e-02, -1.5284e-02, -3.5154e-02,  1.0607e-02, -6.8566e-03,\n",
      "         -2.3725e-03, -1.6228e-03,  4.9824e-03, -2.3474e-02,  2.5094e-02,\n",
      "         -3.4248e-04, -6.7838e-03, -7.1439e-02,  1.5239e-01,  0.0000e+00,\n",
      "          0.0000e+00],\n",
      "        [-6.1390e-03,  4.7737e-02, -1.4875e-02,  2.0633e-03,  2.5330e-03,\n",
      "          1.6508e-03,  4.2679e-03, -2.5845e-02,  4.4805e-02, -1.0889e-02,\n",
      "          1.8794e-02, -5.4824e-02, -1.7077e-02,  1.1838e-02, -7.2258e-02,\n",
      "         -1.1510e-02,  1.4239e-02,  1.3586e-02, -8.7155e-03,  3.1755e-03,\n",
      "          4.8179e-03, -1.9269e-03, -2.4817e-03,  3.1314e-02,  6.6750e-04,\n",
      "          3.7910e-03,  1.5511e-03,  3.7352e-02, -8.4117e-02,  1.2638e-01,\n",
      "          0.0000e+00],\n",
      "        [-2.4052e-02, -1.7705e-01, -6.5444e-02, -2.2626e-02, -9.2840e-03,\n",
      "          1.4548e-02,  5.3552e-03, -3.8067e-02,  8.3895e-02,  2.4314e-02,\n",
      "         -2.4832e-02,  2.1524e-02, -3.3533e-02, -6.3673e-03,  1.3524e-02,\n",
      "          1.1302e-01,  7.9279e-03,  5.5183e-03,  2.4706e-02, -2.0280e-02,\n",
      "          1.1643e-02,  1.0991e-02,  1.3656e-02, -2.0393e-01,  1.5109e-03,\n",
      "          6.3605e-02, -4.0265e-02, -1.2054e-02,  9.2384e-03,  5.2411e-04,\n",
      "          3.0712e-01]])), ('covar_module.raw_outputscale', tensor(-1.0276)), ('covar_module.base_kernel.raw_lengthscale', tensor([[5.5580, 2.0696]])), ('covar_module.base_kernel.raw_lengthscale_constraint.lower_bound', tensor(0.)), ('covar_module.base_kernel.raw_lengthscale_constraint.upper_bound', tensor(inf)), ('covar_module.raw_outputscale_constraint.lower_bound', tensor(0.)), ('covar_module.raw_outputscale_constraint.upper_bound', tensor(inf))])\n"
     ]
    }
   ],
   "source": [
    "model = GPModel(inducing_points=inducing_points)\n",
    "state_dict = torch.load('gpytorch_y1_model.pth')\n",
    "model.load_state_dict(state_dict)\n",
    "print(state_dict)"
   ]
  },
  {
   "cell_type": "code",
   "execution_count": 59,
   "id": "7281b1bf",
   "metadata": {},
   "outputs": [],
   "source": [
    "length_scale = (state_dict['covar_module.base_kernel.raw_lengthscale'].detach().numpy()[0])"
   ]
  },
  {
   "cell_type": "code",
   "execution_count": 60,
   "id": "5901469c",
   "metadata": {},
   "outputs": [
    {
     "data": {
      "text/plain": [
       "<All keys matched successfully>"
      ]
     },
     "execution_count": 60,
     "metadata": {},
     "output_type": "execute_result"
    }
   ],
   "source": [
    "model1 = GPModel(inducing_points=inducing_points)\n",
    "state_dict = torch.load('gpytorch_y1_model.pth')\n",
    "model1.load_state_dict(state_dict)"
   ]
  },
  {
   "cell_type": "code",
   "execution_count": 13,
   "id": "e6691ead",
   "metadata": {},
   "outputs": [
    {
     "data": {
      "text/plain": [
       "<All keys matched successfully>"
      ]
     },
     "execution_count": 13,
     "metadata": {},
     "output_type": "execute_result"
    }
   ],
   "source": [
    "model2 = GPModel(inducing_points=inducing_points)\n",
    "state_dict = torch.load('gpytorch_y2_model.pth')\n",
    "model2.load_state_dict(state_dict)"
   ]
  },
  {
   "cell_type": "code",
   "execution_count": 14,
   "id": "36cf032e",
   "metadata": {},
   "outputs": [],
   "source": [
    "# TODO: turn this into one function and move to ROS "
   ]
  },
  {
   "cell_type": "markdown",
   "id": "0b574b47",
   "metadata": {},
   "source": [
    "# 1) Retrieve mean prediction, standard deviation and gradient"
   ]
  },
  {
   "cell_type": "code",
   "execution_count": 15,
   "id": "90326e7f",
   "metadata": {},
   "outputs": [],
   "source": [
    "def GP_predict(X):\n",
    "    print(X)\n",
    "    X_grad = torch.autograd.Variable(torch.Tensor(X), requires_grad = True)\n",
    "    print(X_grad)\n",
    "    observed_pred1 = (model1(X_grad))\n",
    "    mean1 = observed_pred1.mean.detach().numpy()\n",
    "    covar1 = observed_pred1.covariance_matrix.detach().numpy()\n",
    "    dydtest_x_ag = torch.autograd.grad(observed_pred1.mean.sum(), X_grad)[0]\n",
    "    y_grad1 = dydtest_x_ag.detach().numpy()\n",
    "    observed_pred2 = (model2(X_grad))\n",
    "    mean2 = observed_pred2.mean.detach().numpy()\n",
    "    covar2 = observed_pred2.covariance_matrix.detach().numpy()\n",
    "    dydtest_x_ag = torch.autograd.grad(observed_pred2.mean.sum(), X_grad)[0]\n",
    "    y_grad2 = dydtest_x_ag.detach().numpy()\n",
    "    y_mean = np.vstack((mean1, mean2))\n",
    "    y_covar = np.diag([covar1[0,0], covar2[0,0]])\n",
    "    y_grad = np.zeros([2,9])\n",
    "    y_grad[:,0] = y_grad1\n",
    "    y_grad[:,1] = y_grad2\n",
    "    return y_mean, y_covar, y_grad\n",
    "    #plot_wind_field(X=X_grid[1300:1301], y=np.transpose(y), res=1)"
   ]
  },
  {
   "cell_type": "code",
   "execution_count": 16,
   "id": "ddbde255",
   "metadata": {},
   "outputs": [
    {
     "name": "stdout",
     "output_type": "stream",
     "text": [
      "[[0. 0.]]\n",
      "tensor([[0., 0.]], requires_grad=True)\n",
      "test\n",
      "test\n",
      "test\n",
      "test\n",
      "test\n",
      "test\n"
     ]
    },
    {
     "name": "stderr",
     "output_type": "stream",
     "text": [
      "/home/johanna/.local/lib/python3.8/site-packages/gpytorch/lazy/triangular_lazy_tensor.py:136: UserWarning: torch.triangular_solve is deprecated in favor of torch.linalg.solve_triangularand will be removed in a future PyTorch release.\n",
      "torch.linalg.solve_triangular has its arguments reversed and does not return a copy of one of the inputs.\n",
      "X = torch.triangular_solve(B, A).solution\n",
      "should be replaced with\n",
      "X = torch.linalg.solve_triangular(A, B). (Triggered internally at ../aten/src/ATen/native/BatchLinearAlgebra.cpp:2115.)\n",
      "  res = torch.triangular_solve(right_tensor, self.evaluate(), upper=self.upper).solution\n"
     ]
    },
    {
     "data": {
      "text/plain": [
       "(2, 1)"
      ]
     },
     "execution_count": 16,
     "metadata": {},
     "output_type": "execute_result"
    }
   ],
   "source": [
    "# Multiple points versus one point \n",
    "y_pred, y_covar, y_grad = GP_predict(X_grid[1300:1301])\n",
    "y_pred.shape"
   ]
  },
  {
   "cell_type": "markdown",
   "id": "ae9df705",
   "metadata": {},
   "source": [
    "# 2) Initialize state and uncertainty"
   ]
  },
  {
   "cell_type": "code",
   "execution_count": 17,
   "id": "d6bf4793",
   "metadata": {},
   "outputs": [],
   "source": [
    "# Initialize state and uncertainty (uncertainty at the first state is zero)\n",
    "x0 = np.zeros([9,1])\n",
    "sigma_x0 = np.zeros([9,9])\n",
    "u = np.zeros([4,1])"
   ]
  },
  {
   "cell_type": "code",
   "execution_count": 18,
   "id": "426777c5",
   "metadata": {},
   "outputs": [
    {
     "data": {
      "text/plain": [
       "(9, 1)"
      ]
     },
     "execution_count": 18,
     "metadata": {},
     "output_type": "execute_result"
    }
   ],
   "source": [
    "x0.shape"
   ]
  },
  {
   "cell_type": "markdown",
   "id": "a812ac60",
   "metadata": {},
   "source": [
    "# 3) Model prediction"
   ]
  },
  {
   "cell_type": "code",
   "execution_count": 19,
   "id": "e3ed5e70",
   "metadata": {},
   "outputs": [],
   "source": [
    "def continuous_model(x_mean, x_covar, u):\n",
    "    # Retrieve disturbance information \n",
    "    x_gp = np.transpose(x_mean[0:2,:])\n",
    "    print(x_gp)\n",
    "    d_mean, d_covar, d_grad = GP_predict(x_gp)\n",
    "    print(d_covar)\n",
    "    # Compute the mean of the next state\n",
    "    x_full = np.vstack([x_mean, d_mean])\n",
    "    print(x_full)\n",
    "    x_i_next = np.matmul(np.hstack([A,Bd]), x_full) + np.matmul(B,u)\n",
    "    # Compute the covariance of the next state \n",
    "    sigma_i_x = x_covar\n",
    "    print(sigma_i_x)\n",
    "    sigma_i_xd = np.matmul(d_grad, sigma_i_x)\n",
    "    print(sigma_i_xd)\n",
    "    sigma_i = np.bmat([[sigma_i_x, np.transpose(sigma_i_xd)], [sigma_i_xd, d_covar]])\n",
    "    print(sigma_i)\n",
    "    sigma_x_i_next = np.hstack([A,Bd]).dot(sigma_i).dot(np.transpose(np.hstack([A,Bd])))\n",
    "    print(sigma_x_i_next)\n",
    "    return(x_i_next, sigma_x_i_next)"
   ]
  },
  {
   "cell_type": "code",
   "execution_count": 20,
   "id": "d51b31a6",
   "metadata": {},
   "outputs": [
    {
     "data": {
      "text/plain": [
       "array([[0.],\n",
       "       [0.],\n",
       "       [0.],\n",
       "       [0.],\n",
       "       [0.],\n",
       "       [0.],\n",
       "       [0.],\n",
       "       [0.],\n",
       "       [0.]])"
      ]
     },
     "execution_count": 20,
     "metadata": {},
     "output_type": "execute_result"
    }
   ],
   "source": [
    "x0"
   ]
  },
  {
   "cell_type": "code",
   "execution_count": 21,
   "id": "7479eda9",
   "metadata": {},
   "outputs": [
    {
     "name": "stdout",
     "output_type": "stream",
     "text": [
      "[array([0.]), array([0.])]\n",
      "tensor([[0.],\n",
      "        [0.]], requires_grad=True)\n"
     ]
    },
    {
     "name": "stderr",
     "output_type": "stream",
     "text": [
      "/tmp/ipykernel_15549/1637952563.py:3: UserWarning: Creating a tensor from a list of numpy.ndarrays is extremely slow. Please consider converting the list to a single numpy.ndarray with numpy.array() before converting to a tensor. (Triggered internally at ../torch/csrc/utils/tensor_new.cpp:230.)\n",
      "  X_grad = torch.autograd.Variable(torch.Tensor(X), requires_grad = True)\n"
     ]
    },
    {
     "ename": "RuntimeError",
     "evalue": "Sizes of tensors must match except in dimension 0. Expected size 2 but got size 1 for tensor number 1 in the list.",
     "output_type": "error",
     "traceback": [
      "\u001b[0;31m---------------------------------------------------------------------------\u001b[0m",
      "\u001b[0;31mRuntimeError\u001b[0m                              Traceback (most recent call last)",
      "Cell \u001b[0;32mIn [21], line 2\u001b[0m\n\u001b[1;32m      1\u001b[0m x_gp \u001b[38;5;241m=\u001b[39m [x0[\u001b[38;5;241m0\u001b[39m,:], x0[\u001b[38;5;241m1\u001b[39m,:]]\n\u001b[0;32m----> 2\u001b[0m \u001b[43mGP_predict\u001b[49m\u001b[43m(\u001b[49m\u001b[43mx_gp\u001b[49m\u001b[43m)\u001b[49m\n",
      "Cell \u001b[0;32mIn [15], line 5\u001b[0m, in \u001b[0;36mGP_predict\u001b[0;34m(X)\u001b[0m\n\u001b[1;32m      3\u001b[0m X_grad \u001b[38;5;241m=\u001b[39m torch\u001b[38;5;241m.\u001b[39mautograd\u001b[38;5;241m.\u001b[39mVariable(torch\u001b[38;5;241m.\u001b[39mTensor(X), requires_grad \u001b[38;5;241m=\u001b[39m \u001b[38;5;28;01mTrue\u001b[39;00m)\n\u001b[1;32m      4\u001b[0m \u001b[38;5;28mprint\u001b[39m(X_grad)\n\u001b[0;32m----> 5\u001b[0m observed_pred1 \u001b[38;5;241m=\u001b[39m (\u001b[43mmodel1\u001b[49m\u001b[43m(\u001b[49m\u001b[43mX_grad\u001b[49m\u001b[43m)\u001b[49m)\n\u001b[1;32m      6\u001b[0m mean1 \u001b[38;5;241m=\u001b[39m observed_pred1\u001b[38;5;241m.\u001b[39mmean\u001b[38;5;241m.\u001b[39mdetach()\u001b[38;5;241m.\u001b[39mnumpy()\n\u001b[1;32m      7\u001b[0m covar1 \u001b[38;5;241m=\u001b[39m observed_pred1\u001b[38;5;241m.\u001b[39mcovariance_matrix\u001b[38;5;241m.\u001b[39mdetach()\u001b[38;5;241m.\u001b[39mnumpy()\n",
      "File \u001b[0;32m~/.local/lib/python3.8/site-packages/gpytorch/models/approximate_gp.py:108\u001b[0m, in \u001b[0;36mApproximateGP.__call__\u001b[0;34m(self, inputs, prior, **kwargs)\u001b[0m\n\u001b[1;32m    106\u001b[0m \u001b[38;5;28;01mif\u001b[39;00m inputs\u001b[38;5;241m.\u001b[39mdim() \u001b[38;5;241m==\u001b[39m \u001b[38;5;241m1\u001b[39m:\n\u001b[1;32m    107\u001b[0m     inputs \u001b[38;5;241m=\u001b[39m inputs\u001b[38;5;241m.\u001b[39munsqueeze(\u001b[38;5;241m-\u001b[39m\u001b[38;5;241m1\u001b[39m)\n\u001b[0;32m--> 108\u001b[0m \u001b[38;5;28;01mreturn\u001b[39;00m \u001b[38;5;28;43mself\u001b[39;49m\u001b[38;5;241;43m.\u001b[39;49m\u001b[43mvariational_strategy\u001b[49m\u001b[43m(\u001b[49m\u001b[43minputs\u001b[49m\u001b[43m,\u001b[49m\u001b[43m \u001b[49m\u001b[43mprior\u001b[49m\u001b[38;5;241;43m=\u001b[39;49m\u001b[43mprior\u001b[49m\u001b[43m,\u001b[49m\u001b[43m \u001b[49m\u001b[38;5;241;43m*\u001b[39;49m\u001b[38;5;241;43m*\u001b[39;49m\u001b[43mkwargs\u001b[49m\u001b[43m)\u001b[49m\n",
      "File \u001b[0;32m~/.local/lib/python3.8/site-packages/gpytorch/variational/variational_strategy.py:242\u001b[0m, in \u001b[0;36mVariationalStrategy.__call__\u001b[0;34m(self, x, prior, **kwargs)\u001b[0m\n\u001b[1;32m    239\u001b[0m         \u001b[38;5;66;03m# Mark that we have updated the variational strategy\u001b[39;00m\n\u001b[1;32m    240\u001b[0m         \u001b[38;5;28mself\u001b[39m\u001b[38;5;241m.\u001b[39mupdated_strategy\u001b[38;5;241m.\u001b[39mfill_(\u001b[38;5;28;01mTrue\u001b[39;00m)\n\u001b[0;32m--> 242\u001b[0m \u001b[38;5;28;01mreturn\u001b[39;00m \u001b[38;5;28;43msuper\u001b[39;49m\u001b[43m(\u001b[49m\u001b[43m)\u001b[49m\u001b[38;5;241;43m.\u001b[39;49m\u001b[38;5;21;43m__call__\u001b[39;49m\u001b[43m(\u001b[49m\u001b[43mx\u001b[49m\u001b[43m,\u001b[49m\u001b[43m \u001b[49m\u001b[43mprior\u001b[49m\u001b[38;5;241;43m=\u001b[39;49m\u001b[43mprior\u001b[49m\u001b[43m,\u001b[49m\u001b[43m \u001b[49m\u001b[38;5;241;43m*\u001b[39;49m\u001b[38;5;241;43m*\u001b[39;49m\u001b[43mkwargs\u001b[49m\u001b[43m)\u001b[49m\n",
      "File \u001b[0;32m~/.local/lib/python3.8/site-packages/gpytorch/variational/_variational_strategy.py:302\u001b[0m, in \u001b[0;36m_VariationalStrategy.__call__\u001b[0;34m(self, x, prior, **kwargs)\u001b[0m\n\u001b[1;32m    300\u001b[0m \u001b[38;5;66;03m# Get q(f)\u001b[39;00m\n\u001b[1;32m    301\u001b[0m \u001b[38;5;28;01mif\u001b[39;00m \u001b[38;5;28misinstance\u001b[39m(variational_dist_u, MultivariateNormal):\n\u001b[0;32m--> 302\u001b[0m     \u001b[38;5;28;01mreturn\u001b[39;00m \u001b[38;5;28;43msuper\u001b[39;49m\u001b[43m(\u001b[49m\u001b[43m)\u001b[49m\u001b[38;5;241;43m.\u001b[39;49m\u001b[38;5;21;43m__call__\u001b[39;49m\u001b[43m(\u001b[49m\n\u001b[1;32m    303\u001b[0m \u001b[43m        \u001b[49m\u001b[43mx\u001b[49m\u001b[43m,\u001b[49m\n\u001b[1;32m    304\u001b[0m \u001b[43m        \u001b[49m\u001b[43minducing_points\u001b[49m\u001b[43m,\u001b[49m\n\u001b[1;32m    305\u001b[0m \u001b[43m        \u001b[49m\u001b[43minducing_values\u001b[49m\u001b[38;5;241;43m=\u001b[39;49m\u001b[43mvariational_dist_u\u001b[49m\u001b[38;5;241;43m.\u001b[39;49m\u001b[43mmean\u001b[49m\u001b[43m,\u001b[49m\n\u001b[1;32m    306\u001b[0m \u001b[43m        \u001b[49m\u001b[43mvariational_inducing_covar\u001b[49m\u001b[38;5;241;43m=\u001b[39;49m\u001b[43mvariational_dist_u\u001b[49m\u001b[38;5;241;43m.\u001b[39;49m\u001b[43mlazy_covariance_matrix\u001b[49m\u001b[43m,\u001b[49m\n\u001b[1;32m    307\u001b[0m \u001b[43m        \u001b[49m\u001b[38;5;241;43m*\u001b[39;49m\u001b[38;5;241;43m*\u001b[39;49m\u001b[43mkwargs\u001b[49m\u001b[43m,\u001b[49m\n\u001b[1;32m    308\u001b[0m \u001b[43m    \u001b[49m\u001b[43m)\u001b[49m\n\u001b[1;32m    309\u001b[0m \u001b[38;5;28;01melif\u001b[39;00m \u001b[38;5;28misinstance\u001b[39m(variational_dist_u, Delta):\n\u001b[1;32m    310\u001b[0m     \u001b[38;5;28;01mreturn\u001b[39;00m \u001b[38;5;28msuper\u001b[39m()\u001b[38;5;241m.\u001b[39m\u001b[38;5;21m__call__\u001b[39m(\n\u001b[1;32m    311\u001b[0m         x, inducing_points, inducing_values\u001b[38;5;241m=\u001b[39mvariational_dist_u\u001b[38;5;241m.\u001b[39mmean, variational_inducing_covar\u001b[38;5;241m=\u001b[39m\u001b[38;5;28;01mNone\u001b[39;00m, \u001b[38;5;241m*\u001b[39m\u001b[38;5;241m*\u001b[39mkwargs\n\u001b[1;32m    312\u001b[0m     )\n",
      "File \u001b[0;32m~/.local/lib/python3.8/site-packages/gpytorch/module.py:30\u001b[0m, in \u001b[0;36mModule.__call__\u001b[0;34m(self, *inputs, **kwargs)\u001b[0m\n\u001b[1;32m     29\u001b[0m \u001b[38;5;28;01mdef\u001b[39;00m \u001b[38;5;21m__call__\u001b[39m(\u001b[38;5;28mself\u001b[39m, \u001b[38;5;241m*\u001b[39minputs, \u001b[38;5;241m*\u001b[39m\u001b[38;5;241m*\u001b[39mkwargs):\n\u001b[0;32m---> 30\u001b[0m     outputs \u001b[38;5;241m=\u001b[39m \u001b[38;5;28;43mself\u001b[39;49m\u001b[38;5;241;43m.\u001b[39;49m\u001b[43mforward\u001b[49m\u001b[43m(\u001b[49m\u001b[38;5;241;43m*\u001b[39;49m\u001b[43minputs\u001b[49m\u001b[43m,\u001b[49m\u001b[43m \u001b[49m\u001b[38;5;241;43m*\u001b[39;49m\u001b[38;5;241;43m*\u001b[39;49m\u001b[43mkwargs\u001b[49m\u001b[43m)\u001b[49m\n\u001b[1;32m     31\u001b[0m     \u001b[38;5;28;01mif\u001b[39;00m \u001b[38;5;28misinstance\u001b[39m(outputs, \u001b[38;5;28mlist\u001b[39m):\n\u001b[1;32m     32\u001b[0m         \u001b[38;5;28;01mreturn\u001b[39;00m [_validate_module_outputs(output) \u001b[38;5;28;01mfor\u001b[39;00m output \u001b[38;5;129;01min\u001b[39;00m outputs]\n",
      "File \u001b[0;32m~/.local/lib/python3.8/site-packages/gpytorch/variational/variational_strategy.py:162\u001b[0m, in \u001b[0;36mVariationalStrategy.forward\u001b[0;34m(self, x, inducing_points, inducing_values, variational_inducing_covar, **kwargs)\u001b[0m\n\u001b[1;32m    160\u001b[0m \u001b[38;5;28;01mdef\u001b[39;00m \u001b[38;5;21mforward\u001b[39m(\u001b[38;5;28mself\u001b[39m, x, inducing_points, inducing_values, variational_inducing_covar\u001b[38;5;241m=\u001b[39m\u001b[38;5;28;01mNone\u001b[39;00m, \u001b[38;5;241m*\u001b[39m\u001b[38;5;241m*\u001b[39mkwargs):\n\u001b[1;32m    161\u001b[0m     \u001b[38;5;66;03m# Compute full prior distribution\u001b[39;00m\n\u001b[0;32m--> 162\u001b[0m     full_inputs \u001b[38;5;241m=\u001b[39m \u001b[43mtorch\u001b[49m\u001b[38;5;241;43m.\u001b[39;49m\u001b[43mcat\u001b[49m\u001b[43m(\u001b[49m\u001b[43m[\u001b[49m\u001b[43minducing_points\u001b[49m\u001b[43m,\u001b[49m\u001b[43m \u001b[49m\u001b[43mx\u001b[49m\u001b[43m]\u001b[49m\u001b[43m,\u001b[49m\u001b[43m \u001b[49m\u001b[43mdim\u001b[49m\u001b[38;5;241;43m=\u001b[39;49m\u001b[38;5;241;43m-\u001b[39;49m\u001b[38;5;241;43m2\u001b[39;49m\u001b[43m)\u001b[49m\n\u001b[1;32m    163\u001b[0m     full_output \u001b[38;5;241m=\u001b[39m \u001b[38;5;28mself\u001b[39m\u001b[38;5;241m.\u001b[39mmodel\u001b[38;5;241m.\u001b[39mforward(full_inputs, \u001b[38;5;241m*\u001b[39m\u001b[38;5;241m*\u001b[39mkwargs)\n\u001b[1;32m    164\u001b[0m     full_covar \u001b[38;5;241m=\u001b[39m full_output\u001b[38;5;241m.\u001b[39mlazy_covariance_matrix\n",
      "\u001b[0;31mRuntimeError\u001b[0m: Sizes of tensors must match except in dimension 0. Expected size 2 but got size 1 for tensor number 1 in the list."
     ]
    }
   ],
   "source": [
    "x_gp = [x0[0,:], x0[1,:]]\n",
    "GP_predict(x_gp)"
   ]
  },
  {
   "cell_type": "code",
   "execution_count": 22,
   "id": "2f602120",
   "metadata": {},
   "outputs": [
    {
     "name": "stdout",
     "output_type": "stream",
     "text": [
      "[[0, 0]]\n",
      "tensor([[0., 0.]], requires_grad=True)\n",
      "test\n",
      "test\n",
      "test\n",
      "test\n",
      "test\n",
      "test\n"
     ]
    },
    {
     "data": {
      "text/plain": [
       "(array([[ 2.27506566e+00],\n",
       "        [-1.18832235e-04]], dtype=float32),\n",
       " array([[0.03416535, 0.        ],\n",
       "        [0.        , 0.00115217]], dtype=float32),\n",
       " array([[-1.86019734e-01,  2.30687292e-05,  0.00000000e+00,\n",
       "          0.00000000e+00,  0.00000000e+00,  0.00000000e+00,\n",
       "          0.00000000e+00,  0.00000000e+00,  0.00000000e+00],\n",
       "        [-2.35518292e-01,  5.72945146e-06,  0.00000000e+00,\n",
       "          0.00000000e+00,  0.00000000e+00,  0.00000000e+00,\n",
       "          0.00000000e+00,  0.00000000e+00,  0.00000000e+00]]))"
      ]
     },
     "execution_count": 22,
     "metadata": {},
     "output_type": "execute_result"
    }
   ],
   "source": [
    "x = [0,0]\n",
    "x_ = x[0]\n",
    "y_ = x[1]\n",
    "x_gp = [[x_, y_]]\n",
    "GP_predict(x_gp)"
   ]
  },
  {
   "cell_type": "code",
   "execution_count": 8,
   "id": "dcb546c2",
   "metadata": {},
   "outputs": [],
   "source": [
    "def discrete_model(x_mean, x_covar, u):\n",
    "    # Retrieve disturbance information \n",
    "    x_gp = np.transpose(x_mean[0:2,:])\n",
    "    d_mean, d_covar, d_grad = GP_predict(x_gp)\n",
    "    print(d_mean)\n",
    "    # Compute the mean of the next state\n",
    "    x_full = np.vstack([x_mean, d_mean])\n",
    "    x_i_next = np.matmul(np.hstack([A_d,B_d_disc]), x_full) + np.matmul(B_d,u)\n",
    "    # Compute the covariance of the next state \n",
    "    sigma_i_x = x_covar\n",
    "    sigma_i_xd = np.matmul(d_grad, sigma_i_x)\n",
    "    sigma_i = np.bmat([[sigma_i_x, np.transpose(sigma_i_xd)], [sigma_i_xd, d_covar]])\n",
    "    stack_mat = np.hstack([A_d,B_d_disc])\n",
    "    prod1 = np.hstack([A_d,B_d_disc]).dot(sigma_i)\n",
    "    sigma_x_i_next = np.hstack([A_d,B_d_disc]).dot(sigma_i).dot(np.transpose(np.hstack([A_d,B_d_disc])))\n",
    "    return(x_i_next, sigma_x_i_next, stack_mat, prod1)"
   ]
  },
  {
   "cell_type": "code",
   "execution_count": 9,
   "id": "90803120",
   "metadata": {},
   "outputs": [
    {
     "data": {
      "text/plain": [
       "array([[1],\n",
       "       [2],\n",
       "       [3],\n",
       "       [4],\n",
       "       [5]])"
      ]
     },
     "execution_count": 9,
     "metadata": {},
     "output_type": "execute_result"
    }
   ],
   "source": [
    "x = [1, 2,3 ,4, 5]\n",
    "test = (np.array(x))\n",
    "test.reshape((5,1))"
   ]
  },
  {
   "cell_type": "code",
   "execution_count": 10,
   "id": "8c4082ac",
   "metadata": {},
   "outputs": [
    {
     "ename": "NameError",
     "evalue": "name 'x_i_next' is not defined",
     "output_type": "error",
     "traceback": [
      "\u001b[0;31m---------------------------------------------------------------------------\u001b[0m",
      "\u001b[0;31mNameError\u001b[0m                                 Traceback (most recent call last)",
      "Cell \u001b[0;32mIn [10], line 1\u001b[0m\n\u001b[0;32m----> 1\u001b[0m \u001b[43mx_i_next\u001b[49m[:,\u001b[38;5;241m0\u001b[39m]\n",
      "\u001b[0;31mNameError\u001b[0m: name 'x_i_next' is not defined"
     ]
    }
   ],
   "source": [
    "x_i_next[:,0]"
   ]
  },
  {
   "cell_type": "code",
   "execution_count": 26,
   "id": "6e7d34b3",
   "metadata": {},
   "outputs": [
    {
     "ename": "KeyError",
     "evalue": "'velocity_pred is not a file in the archive'",
     "output_type": "error",
     "traceback": [
      "\u001b[0;31m---------------------------------------------------------------------------\u001b[0m",
      "\u001b[0;31mKeyError\u001b[0m                                  Traceback (most recent call last)",
      "Cell \u001b[0;32mIn [26], line 4\u001b[0m\n\u001b[1;32m      2\u001b[0m data_X \u001b[38;5;241m=\u001b[39m data[\u001b[38;5;124m'\u001b[39m\u001b[38;5;124mX\u001b[39m\u001b[38;5;124m'\u001b[39m]\n\u001b[1;32m      3\u001b[0m data_y \u001b[38;5;241m=\u001b[39m data[\u001b[38;5;124m'\u001b[39m\u001b[38;5;124my\u001b[39m\u001b[38;5;124m'\u001b[39m]\n\u001b[0;32m----> 4\u001b[0m data_vel \u001b[38;5;241m=\u001b[39m \u001b[43mdata\u001b[49m\u001b[43m[\u001b[49m\u001b[38;5;124;43m'\u001b[39;49m\u001b[38;5;124;43mvelocity_pred\u001b[39;49m\u001b[38;5;124;43m'\u001b[39;49m\u001b[43m]\u001b[49m\n",
      "File \u001b[0;32m~/.local/lib/python3.8/site-packages/numpy/lib/npyio.py:260\u001b[0m, in \u001b[0;36mNpzFile.__getitem__\u001b[0;34m(self, key)\u001b[0m\n\u001b[1;32m    258\u001b[0m         \u001b[38;5;28;01mreturn\u001b[39;00m \u001b[38;5;28mself\u001b[39m\u001b[38;5;241m.\u001b[39mzip\u001b[38;5;241m.\u001b[39mread(key)\n\u001b[1;32m    259\u001b[0m \u001b[38;5;28;01melse\u001b[39;00m:\n\u001b[0;32m--> 260\u001b[0m     \u001b[38;5;28;01mraise\u001b[39;00m \u001b[38;5;167;01mKeyError\u001b[39;00m(\u001b[38;5;124m\"\u001b[39m\u001b[38;5;132;01m%s\u001b[39;00m\u001b[38;5;124m is not a file in the archive\u001b[39m\u001b[38;5;124m\"\u001b[39m \u001b[38;5;241m%\u001b[39m key)\n",
      "\u001b[0;31mKeyError\u001b[0m: 'velocity_pred is not a file in the archive'"
     ]
    }
   ],
   "source": [
    "data = np.load('/home/johanna/MasterThesis/data/wind_data_1.npz')\n",
    "data_X = data['X']\n",
    "data_y = data['y']\n",
    "data_vel = data['velocity_pred']"
   ]
  },
  {
   "cell_type": "code",
   "execution_count": 27,
   "id": "b6718b98",
   "metadata": {},
   "outputs": [
    {
     "data": {
      "text/plain": [
       "KeysView(<numpy.lib.npyio.NpzFile object at 0x7f45570cf550>)"
      ]
     },
     "execution_count": 27,
     "metadata": {},
     "output_type": "execute_result"
    }
   ],
   "source": [
    "data.keys()"
   ]
  },
  {
   "cell_type": "code",
   "execution_count": 13,
   "id": "286986bb",
   "metadata": {},
   "outputs": [],
   "source": [
    "import casadi"
   ]
  },
  {
   "cell_type": "code",
   "execution_count": 29,
   "id": "1bcfccb3",
   "metadata": {},
   "outputs": [],
   "source": [
    "# Casadi stuff \n",
    "\n",
    "x0 = casadi.SX.sym(\"x_0\")\n",
    "x1 = casadi.SX.sym(\"x_1\")"
   ]
  },
  {
   "cell_type": "code",
   "execution_count": 30,
   "id": "922c6056",
   "metadata": {},
   "outputs": [
    {
     "ename": "Exception",
     "evalue": "Implicit conversion of symbolic CasADi type to numeric matrix not supported.\nThis may occur when you pass a CasADi object to a numpy function.\nUse an equivalent CasADi function instead of that numpy function.",
     "output_type": "error",
     "traceback": [
      "\u001b[0;31m---------------------------------------------------------------------------\u001b[0m",
      "\u001b[0;31mAttributeError\u001b[0m                            Traceback (most recent call last)",
      "File \u001b[0;32m~/.local/lib/python3.8/site-packages/casadi/casadi.py:9140\u001b[0m, in \u001b[0;36mSX.__array__\u001b[0;34m(self, *args, **kwargs)\u001b[0m\n\u001b[1;32m   9139\u001b[0m \u001b[38;5;28;01mtry\u001b[39;00m:\n\u001b[0;32m-> 9140\u001b[0m   \u001b[38;5;28;01mreturn\u001b[39;00m \u001b[38;5;28;43mself\u001b[39;49m\u001b[38;5;241;43m.\u001b[39;49m\u001b[43mfull\u001b[49m()\n\u001b[1;32m   9141\u001b[0m \u001b[38;5;28;01mexcept\u001b[39;00m:\n",
      "File \u001b[0;32m~/.local/lib/python3.8/site-packages/casadi/casadi.py:7942\u001b[0m, in \u001b[0;36mSX.<lambda>\u001b[0;34m(self, name)\u001b[0m\n\u001b[1;32m   7941\u001b[0m     __swig_getmethods__\u001b[38;5;241m.\u001b[39mupdate(\u001b[38;5;28mgetattr\u001b[39m(_s, \u001b[38;5;124m'\u001b[39m\u001b[38;5;124m__swig_getmethods__\u001b[39m\u001b[38;5;124m'\u001b[39m, {}))\n\u001b[0;32m-> 7942\u001b[0m \u001b[38;5;21m__getattr__\u001b[39m \u001b[38;5;241m=\u001b[39m \u001b[38;5;28;01mlambda\u001b[39;00m \u001b[38;5;28mself\u001b[39m, name: \u001b[43m_swig_getattr\u001b[49m\u001b[43m(\u001b[49m\u001b[38;5;28;43mself\u001b[39;49m\u001b[43m,\u001b[49m\u001b[43m \u001b[49m\u001b[43mSX\u001b[49m\u001b[43m,\u001b[49m\u001b[43m \u001b[49m\u001b[43mname\u001b[49m\u001b[43m)\u001b[49m\n\u001b[1;32m   7943\u001b[0m \u001b[38;5;21m__repr__\u001b[39m \u001b[38;5;241m=\u001b[39m _swig_repr\n",
      "File \u001b[0;32m~/.local/lib/python3.8/site-packages/casadi/casadi.py:83\u001b[0m, in \u001b[0;36m_swig_getattr\u001b[0;34m(self, class_type, name)\u001b[0m\n\u001b[1;32m     82\u001b[0m     \u001b[38;5;28;01mreturn\u001b[39;00m method(\u001b[38;5;28mself\u001b[39m)\n\u001b[0;32m---> 83\u001b[0m \u001b[38;5;28;01mraise\u001b[39;00m \u001b[38;5;167;01mAttributeError\u001b[39;00m(\u001b[38;5;124m\"\u001b[39m\u001b[38;5;124m'\u001b[39m\u001b[38;5;132;01m%s\u001b[39;00m\u001b[38;5;124m'\u001b[39m\u001b[38;5;124m object has no attribute \u001b[39m\u001b[38;5;124m'\u001b[39m\u001b[38;5;132;01m%s\u001b[39;00m\u001b[38;5;124m'\u001b[39m\u001b[38;5;124m\"\u001b[39m \u001b[38;5;241m%\u001b[39m (class_type\u001b[38;5;241m.\u001b[39m\u001b[38;5;18m__name__\u001b[39m, name))\n",
      "\u001b[0;31mAttributeError\u001b[0m: 'SX' object has no attribute 'full'",
      "\nDuring handling of the above exception, another exception occurred:\n",
      "\u001b[0;31mException\u001b[0m                                 Traceback (most recent call last)",
      "Cell \u001b[0;32mIn [30], line 1\u001b[0m\n\u001b[0;32m----> 1\u001b[0m X \u001b[38;5;241m=\u001b[39m \u001b[43mnp\u001b[49m\u001b[38;5;241;43m.\u001b[39;49m\u001b[43marray\u001b[49m\u001b[43m(\u001b[49m\u001b[43m[\u001b[49m\u001b[43mx0\u001b[49m\u001b[43m,\u001b[49m\u001b[43m \u001b[49m\u001b[43mx1\u001b[49m\u001b[43m]\u001b[49m\u001b[43m)\u001b[49m\n\u001b[1;32m      2\u001b[0m casadi\u001b[38;5;241m.\u001b[39mDM(x0\u001b[38;5;241m.\u001b[39mdetach()\u001b[38;5;241m.\u001b[39mnumpy())\n",
      "File \u001b[0;32m~/.local/lib/python3.8/site-packages/casadi/casadi.py:9142\u001b[0m, in \u001b[0;36mSX.__array__\u001b[0;34m(self, *args, **kwargs)\u001b[0m\n\u001b[1;32m   9140\u001b[0m   \u001b[38;5;28;01mreturn\u001b[39;00m \u001b[38;5;28mself\u001b[39m\u001b[38;5;241m.\u001b[39mfull()\n\u001b[1;32m   9141\u001b[0m \u001b[38;5;28;01mexcept\u001b[39;00m:\n\u001b[0;32m-> 9142\u001b[0m   \u001b[38;5;28;01mraise\u001b[39;00m \u001b[38;5;167;01mException\u001b[39;00m(\u001b[38;5;124m\"\u001b[39m\u001b[38;5;124mImplicit conversion of symbolic CasADi type to numeric matrix not supported.\u001b[39m\u001b[38;5;130;01m\\n\u001b[39;00m\u001b[38;5;124m\"\u001b[39m\n\u001b[1;32m   9143\u001b[0m              \u001b[38;5;241m+\u001b[39m \u001b[38;5;124m\"\u001b[39m\u001b[38;5;124mThis may occur when you pass a CasADi object to a numpy function.\u001b[39m\u001b[38;5;130;01m\\n\u001b[39;00m\u001b[38;5;124m\"\u001b[39m\n\u001b[1;32m   9144\u001b[0m              \u001b[38;5;241m+\u001b[39m \u001b[38;5;124m\"\u001b[39m\u001b[38;5;124mUse an equivalent CasADi function instead of that numpy function.\u001b[39m\u001b[38;5;124m\"\u001b[39m)\n",
      "\u001b[0;31mException\u001b[0m: Implicit conversion of symbolic CasADi type to numeric matrix not supported.\nThis may occur when you pass a CasADi object to a numpy function.\nUse an equivalent CasADi function instead of that numpy function."
     ]
    }
   ],
   "source": [
    "X = np.array([x0, x1])\n",
    "casadi.DM(x0.detach().numpy())"
   ]
  },
  {
   "cell_type": "code",
   "execution_count": null,
   "id": "74f58308",
   "metadata": {},
   "outputs": [],
   "source": [
    "X_grad = torch.autograd.Variable(torch.Tensor(X), requires_grad = True)"
   ]
  },
  {
   "cell_type": "code",
   "execution_count": 31,
   "id": "090455d0",
   "metadata": {},
   "outputs": [],
   "source": [
    "def GP_predict(X):\n",
    "    print(X)\n",
    "    X_grad = torch.autograd.Variable(torch.Tensor(X), requires_grad = True)\n",
    "    print(X_grad)\n",
    "    observed_pred1 = (model1(X_grad))\n",
    "    mean1 = observed_pred1.mean.detach().numpy()\n",
    "    covar1 = observed_pred1.covariance_matrix.detach().numpy()\n",
    "    dydtest_x_ag = torch.autograd.grad(observed_pred1.mean.sum(), X_grad)[0]\n",
    "    y_grad1 = dydtest_x_ag.detach().numpy()\n",
    "    observed_pred2 = (model2(X_grad))\n",
    "    mean2 = observed_pred2.mean.detach().numpy()\n",
    "    covar2 = observed_pred2.covariance_matrix.detach().numpy()\n",
    "    dydtest_x_ag = torch.autograd.grad(observed_pred2.mean.sum(), X_grad)[0]\n",
    "    y_grad2 = dydtest_x_ag.detach().numpy()\n",
    "    y_mean = np.vstack((mean1, mean2))\n",
    "    y_covar = np.diag([covar1[0,0], covar2[0,0]])\n",
    "    y_grad = np.zeros([2,9])\n",
    "    y_grad[:,0] = y_grad1\n",
    "    y_grad[:,1] = y_grad2\n",
    "    return y_mean, y_covar, y_grad\n",
    "    #plot_wind_field(X=X_grid[1300:1301], y=np.transpose(y), res=1)"
   ]
  },
  {
   "cell_type": "code",
   "execution_count": 32,
   "id": "1e15e47c",
   "metadata": {},
   "outputs": [],
   "source": [
    "from casadi import * "
   ]
  },
  {
   "cell_type": "code",
   "execution_count": 33,
   "id": "f01e97e1",
   "metadata": {},
   "outputs": [],
   "source": [
    "class GPR(Callback):\n",
    "    def __init__(self, name, opts: dict = None):\n",
    "        if opts is None:\n",
    "            opts = dict()\n",
    "\n",
    "        Callback.__init__(self)\n",
    "        self.construct(name, opts)\n",
    "        \n",
    "    def eval(self, arg):\n",
    "        X_grad = torch.autograd.Variable(np.array([arg[0], arg[1]]), requires_grad = True)\n",
    "        observed_pred1 = (model1(X_grad))\n",
    "        mean1 = observed_pred1.mean.detach().numpy()\n",
    "        covar1 = observed_pred1.covariance_matrix.detach().numpy()\n",
    "        dydtest_x_ag = torch.autograd.grad(observed_pred1.mean.sum(), X_grad)[0]\n",
    "        y_grad1 = dydtest_x_ag.detach().numpy()\n",
    "        observed_pred2 = (model2(X_grad))\n",
    "        mean2 = observed_pred2.mean.detach().numpy()\n",
    "        covar2 = observed_pred2.covariance_matrix.detach().numpy()\n",
    "        dydtest_x_ag = torch.autograd.grad(observed_pred2.mean.sum(), X_grad)[0]\n",
    "        y_grad2 = dydtest_x_ag.detach().numpy()\n",
    "        y_mean = np.vstack((mean1, mean2))\n",
    "        y_covar = np.diag([covar1[0,0], covar2[0,0]])\n",
    "        y_grad = np.zeros([2,9])\n",
    "        y_grad[:,0] = y_grad1\n",
    "        y_grad[:,1] = y_grad2\n",
    "        return y_mean"
   ]
  },
  {
   "cell_type": "code",
   "execution_count": null,
   "id": "88d69a43",
   "metadata": {},
   "outputs": [],
   "source": []
  },
  {
   "cell_type": "code",
   "execution_count": 34,
   "id": "565fe93d",
   "metadata": {},
   "outputs": [
    {
     "name": "stdout",
     "output_type": "stream",
     "text": [
      "GPR:(i0)->(o0) CallbackInternal\n"
     ]
    }
   ],
   "source": [
    "gpr = GPR('GPR')\n",
    "print(gpr)"
   ]
  },
  {
   "cell_type": "code",
   "execution_count": 35,
   "id": "29c0f3a4",
   "metadata": {},
   "outputs": [
    {
     "data": {
      "text/plain": [
       "DM([nan, nan])"
      ]
     },
     "execution_count": 35,
     "metadata": {},
     "output_type": "execute_result"
    }
   ],
   "source": [
    "w = casadi.SX.sym('w', 2)\n",
    "DM(w)"
   ]
  },
  {
   "cell_type": "code",
   "execution_count": 36,
   "id": "c7447530",
   "metadata": {},
   "outputs": [
    {
     "ename": "RuntimeError",
     "evalue": ".../casadi/core/function_internal.cpp:1821: 'eval_sx' not defined for CallbackInternal",
     "output_type": "error",
     "traceback": [
      "\u001b[0;31m---------------------------------------------------------------------------\u001b[0m",
      "\u001b[0;31mRuntimeError\u001b[0m                              Traceback (most recent call last)",
      "Cell \u001b[0;32mIn [36], line 1\u001b[0m\n\u001b[0;32m----> 1\u001b[0m prob \u001b[38;5;241m=\u001b[39m {\u001b[38;5;124m'\u001b[39m\u001b[38;5;124mf\u001b[39m\u001b[38;5;124m'\u001b[39m: \u001b[43mgpr\u001b[49m\u001b[43m(\u001b[49m\u001b[43mw\u001b[49m\u001b[43m)\u001b[49m, \u001b[38;5;124m'\u001b[39m\u001b[38;5;124mx\u001b[39m\u001b[38;5;124m'\u001b[39m: w, }\n\u001b[1;32m      2\u001b[0m \u001b[38;5;28mprint\u001b[39m(prob)\n",
      "File \u001b[0;32m~/.local/lib/python3.8/site-packages/casadi/casadi.py:13334\u001b[0m, in \u001b[0;36mFunction.__call__\u001b[0;34m(self, *args, **kwargs)\u001b[0m\n\u001b[1;32m  13331\u001b[0m     \u001b[38;5;28;01mraise\u001b[39;00m \u001b[38;5;167;01mSyntaxError\u001b[39;00m(\u001b[38;5;124m'\u001b[39m\u001b[38;5;124mFunction evaluation requires all arguments to be named or none\u001b[39m\u001b[38;5;124m'\u001b[39m)\n\u001b[1;32m  13332\u001b[0m   \u001b[38;5;28;01mif\u001b[39;00m \u001b[38;5;28mlen\u001b[39m(args)\u001b[38;5;241m>\u001b[39m\u001b[38;5;241m0\u001b[39m:\n\u001b[1;32m  13333\u001b[0m \u001b[38;5;66;03m# Ordered inputs -> return tuple\u001b[39;00m\n\u001b[0;32m> 13334\u001b[0m     ret \u001b[38;5;241m=\u001b[39m \u001b[38;5;28;43mself\u001b[39;49m\u001b[38;5;241;43m.\u001b[39;49m\u001b[43mcall\u001b[49m\u001b[43m(\u001b[49m\u001b[43margs\u001b[49m\u001b[43m)\u001b[49m\n\u001b[1;32m  13335\u001b[0m     \u001b[38;5;28;01mif\u001b[39;00m \u001b[38;5;28mlen\u001b[39m(ret)\u001b[38;5;241m==\u001b[39m\u001b[38;5;241m0\u001b[39m:\n\u001b[1;32m  13336\u001b[0m       \u001b[38;5;28;01mreturn\u001b[39;00m \u001b[38;5;28;01mNone\u001b[39;00m\n",
      "File \u001b[0;32m~/.local/lib/python3.8/site-packages/casadi/casadi.py:12214\u001b[0m, in \u001b[0;36mFunction.call\u001b[0;34m(self, *args)\u001b[0m\n\u001b[1;32m  12146\u001b[0m \u001b[38;5;28;01mdef\u001b[39;00m \u001b[38;5;21mcall\u001b[39m(\u001b[38;5;28mself\u001b[39m, \u001b[38;5;241m*\u001b[39margs) \u001b[38;5;241m-\u001b[39m\u001b[38;5;241m>\u001b[39m \u001b[38;5;124m\"\u001b[39m\u001b[38;5;124mvoid\u001b[39m\u001b[38;5;124m\"\u001b[39m:\n\u001b[1;32m  12147\u001b[0m     \u001b[38;5;124;03m\"\"\"\u001b[39;00m\n\u001b[1;32m  12148\u001b[0m \u001b[38;5;124;03m      Generate a Jacobian function of output oind with respect to input iind.\u001b[39;00m\n\u001b[1;32m  12149\u001b[0m \n\u001b[0;32m   (...)\u001b[0m\n\u001b[1;32m  12212\u001b[0m \n\u001b[1;32m  12213\u001b[0m \u001b[38;5;124;03m    \"\"\"\u001b[39;00m\n\u001b[0;32m> 12214\u001b[0m     \u001b[38;5;28;01mreturn\u001b[39;00m \u001b[43m_casadi\u001b[49m\u001b[38;5;241;43m.\u001b[39;49m\u001b[43mFunction_call\u001b[49m\u001b[43m(\u001b[49m\u001b[38;5;28;43mself\u001b[39;49m\u001b[43m,\u001b[49m\u001b[43m \u001b[49m\u001b[38;5;241;43m*\u001b[39;49m\u001b[43margs\u001b[49m\u001b[43m)\u001b[49m\n",
      "\u001b[0;31mRuntimeError\u001b[0m: .../casadi/core/function_internal.cpp:1821: 'eval_sx' not defined for CallbackInternal"
     ]
    }
   ],
   "source": [
    "prob = {'f': gpr(w), 'x': w, }\n",
    "print(prob)"
   ]
  },
  {
   "cell_type": "code",
   "execution_count": 37,
   "id": "14b747d7",
   "metadata": {},
   "outputs": [
    {
     "ename": "ModuleNotFoundError",
     "evalue": "No module named 'tensorflow'",
     "output_type": "error",
     "traceback": [
      "\u001b[0;31m---------------------------------------------------------------------------\u001b[0m",
      "\u001b[0;31mModuleNotFoundError\u001b[0m                       Traceback (most recent call last)",
      "Cell \u001b[0;32mIn [37], line 2\u001b[0m\n\u001b[1;32m      1\u001b[0m \u001b[38;5;28;01mfrom\u001b[39;00m \u001b[38;5;21;01mcasadi\u001b[39;00m \u001b[38;5;28;01mimport\u001b[39;00m \u001b[38;5;241m*\u001b[39m\n\u001b[0;32m----> 2\u001b[0m \u001b[38;5;28;01mimport\u001b[39;00m \u001b[38;5;21;01mtensorflow\u001b[39;00m \u001b[38;5;28;01mas\u001b[39;00m \u001b[38;5;21;01mtf\u001b[39;00m\n\u001b[1;32m      3\u001b[0m \u001b[38;5;28;01mimport\u001b[39;00m \u001b[38;5;21;01mgpflow\u001b[39;00m\n\u001b[1;32m      5\u001b[0m \u001b[38;5;66;03m# Needs: pip install gpflow casadi\u001b[39;00m\n\u001b[1;32m      6\u001b[0m \n\u001b[1;32m      7\u001b[0m \u001b[38;5;66;03m# Create data points: a noisy sine wave\u001b[39;00m\n",
      "\u001b[0;31mModuleNotFoundError\u001b[0m: No module named 'tensorflow'"
     ]
    }
   ],
   "source": [
    "from casadi import *\n",
    "import tensorflow as tf\n",
    "import gpflow\n",
    "\n",
    "# Needs: pip install gpflow casadi\n",
    "\n",
    "# Create data points: a noisy sine wave\n",
    "N = 20\n",
    "np.random.seed(0)\n",
    "data = np.linspace(0, 10, N).reshape((N, 1))\n",
    "value = np.sin(data) + np.random.normal(0, 0.1, (N, 1))\n",
    "\n",
    "# Perform Gaussian process regression\n",
    "model = gpflow.models.GPR((data, value), gpflow.kernels.Constant(1) + gpflow.kernels.Linear(1) + gpflow.kernels.White(\n",
    "    1) + gpflow.kernels.RBF(1))\n",
    "opt = gpflow.optimizers.Scipy()\n",
    "opt.minimize(model.training_loss, model.trainable_variables, options=dict(maxiter=100))\n",
    "\n",
    "\n",
    "# Package the resulting regression model in a CasADi callback\n",
    "class GPR(Callback):\n",
    "    def __init__(self, name, opts: dict = None):\n",
    "        if opts is None:\n",
    "            opts = dict()\n",
    "\n",
    "        Callback.__init__(self)\n",
    "        self.construct(name, opts)\n",
    "\n",
    "    def eval(self, arg):\n",
    "        [mean, _] = model.predict_f(np.array(arg[0]))\n",
    "        return [mean]\n",
    "\n",
    "\n",
    "# Instantiate the Callback (make sure to keep a reference to it!)\n",
    "gpr = GPR('GPR', opts={\"enable_fd\": True})\n",
    "print(gpr)\n",
    "\n",
    "# Find the minimum of the regression model\n",
    "x = MX.sym(\"x\")\n",
    "solver = nlpsol(\"solver\", \"ipopt\", {\"x\": x, \"f\": gpr(x)})\n",
    "res = solver(x0=5)\n",
    "\n",
    "plot(res[\"x\"], gpr(res[\"x\"]), 'k*', markersize=10, label=\"Function minimum by CasADi/Ipopt\")\n",
    "legend()\n",
    "savefig('gpflow1d_min.png', bbox_inches='tight')"
   ]
  },
  {
   "cell_type": "markdown",
   "id": "8e2fcaff",
   "metadata": {},
   "source": [
    "# Sparse GP hard code"
   ]
  },
  {
   "cell_type": "code",
   "execution_count": 9,
   "id": "cd1c85e8",
   "metadata": {},
   "outputs": [
    {
     "name": "stdout",
     "output_type": "stream",
     "text": [
      "OrderedDict([('variational_strategy.inducing_points', tensor([[  0.6238,   1.6735],\n",
      "        [  2.4993,  -1.8205],\n",
      "        [  8.2422,  -0.1356],\n",
      "        [  7.5675,   6.6363],\n",
      "        [  2.2974,   9.2219],\n",
      "        [ -6.2836,   9.3662],\n",
      "        [ -5.9367,   1.5368],\n",
      "        [ -4.8024,  -1.7412],\n",
      "        [ -4.5350,  -3.1451],\n",
      "        [ -8.9693,  -8.3928],\n",
      "        [ -5.7966, -10.0445],\n",
      "        [ -0.3767,  -9.9683],\n",
      "        [  4.4215,  -9.5435],\n",
      "        [  8.5375,  -9.7206],\n",
      "        [  3.6561,  -5.3003],\n",
      "        [ -1.5771,  -0.5819],\n",
      "        [ -9.0627,  -1.9239],\n",
      "        [ -9.8440,   0.3330],\n",
      "        [ -9.4903,   3.4844],\n",
      "        [ -8.9786,   6.7935],\n",
      "        [ -2.4628,   5.3270],\n",
      "        [  8.4513,   9.5683],\n",
      "        [  9.6003,   3.7080],\n",
      "        [  9.3990,  -3.3051],\n",
      "        [  9.6274,  -5.7380],\n",
      "        [  5.7499,   2.5925],\n",
      "        [  1.9121,   4.7352],\n",
      "        [ -8.7800,  -3.0534],\n",
      "        [ -5.1636,  -4.1952],\n",
      "        [ -2.0399,  -6.6442],\n",
      "        [  6.2088,  -2.2447]])), ('variational_strategy.variational_params_initialized', tensor(1)), ('variational_strategy.updated_strategy', tensor(True)), ('variational_strategy._variational_distribution.variational_mean', tensor([ 2.7275,  1.9786, -0.9070, -0.1217,  0.0270, -0.0542,  0.7861,  2.1987,\n",
      "        -4.1377,  0.0878,  0.1605, -0.0729,  0.1065, -0.1783,  0.5970,  1.2822,\n",
      "         0.9710,  1.2329, -0.4235,  0.4875,  0.0908,  0.0194,  0.0187, -0.0866,\n",
      "        -0.3574,  0.8374, -0.5725, -0.2794,  3.9452, -1.4991,  1.3597])), ('variational_strategy._variational_distribution.chol_variational_covar', tensor([[ 1.0889e-01,  0.0000e+00,  0.0000e+00,  0.0000e+00,  0.0000e+00,\n",
      "          0.0000e+00,  0.0000e+00,  0.0000e+00,  0.0000e+00,  0.0000e+00,\n",
      "          0.0000e+00,  0.0000e+00,  0.0000e+00,  0.0000e+00,  0.0000e+00,\n",
      "          0.0000e+00,  0.0000e+00,  0.0000e+00,  0.0000e+00,  0.0000e+00,\n",
      "          0.0000e+00,  0.0000e+00,  0.0000e+00,  0.0000e+00,  0.0000e+00,\n",
      "          0.0000e+00,  0.0000e+00,  0.0000e+00,  0.0000e+00,  0.0000e+00,\n",
      "          0.0000e+00],\n",
      "        [-4.1647e-02,  8.5413e-02,  0.0000e+00,  0.0000e+00,  0.0000e+00,\n",
      "          0.0000e+00,  0.0000e+00,  0.0000e+00,  0.0000e+00,  0.0000e+00,\n",
      "          0.0000e+00,  0.0000e+00,  0.0000e+00,  0.0000e+00,  0.0000e+00,\n",
      "          0.0000e+00,  0.0000e+00,  0.0000e+00,  0.0000e+00,  0.0000e+00,\n",
      "          0.0000e+00,  0.0000e+00,  0.0000e+00,  0.0000e+00,  0.0000e+00,\n",
      "          0.0000e+00,  0.0000e+00,  0.0000e+00,  0.0000e+00,  0.0000e+00,\n",
      "          0.0000e+00],\n",
      "        [-1.6282e-02, -3.7141e-02,  1.0743e-01,  0.0000e+00,  0.0000e+00,\n",
      "          0.0000e+00,  0.0000e+00,  0.0000e+00,  0.0000e+00,  0.0000e+00,\n",
      "          0.0000e+00,  0.0000e+00,  0.0000e+00,  0.0000e+00,  0.0000e+00,\n",
      "          0.0000e+00,  0.0000e+00,  0.0000e+00,  0.0000e+00,  0.0000e+00,\n",
      "          0.0000e+00,  0.0000e+00,  0.0000e+00,  0.0000e+00,  0.0000e+00,\n",
      "          0.0000e+00,  0.0000e+00,  0.0000e+00,  0.0000e+00,  0.0000e+00,\n",
      "          0.0000e+00],\n",
      "        [ 5.5823e-03,  9.9363e-03, -9.5128e-03,  7.6176e-02,  0.0000e+00,\n",
      "          0.0000e+00,  0.0000e+00,  0.0000e+00,  0.0000e+00,  0.0000e+00,\n",
      "          0.0000e+00,  0.0000e+00,  0.0000e+00,  0.0000e+00,  0.0000e+00,\n",
      "          0.0000e+00,  0.0000e+00,  0.0000e+00,  0.0000e+00,  0.0000e+00,\n",
      "          0.0000e+00,  0.0000e+00,  0.0000e+00,  0.0000e+00,  0.0000e+00,\n",
      "          0.0000e+00,  0.0000e+00,  0.0000e+00,  0.0000e+00,  0.0000e+00,\n",
      "          0.0000e+00],\n",
      "        [ 7.8303e-03,  1.7452e-03, -6.3662e-04, -4.8296e-02,  9.1769e-02,\n",
      "          0.0000e+00,  0.0000e+00,  0.0000e+00,  0.0000e+00,  0.0000e+00,\n",
      "          0.0000e+00,  0.0000e+00,  0.0000e+00,  0.0000e+00,  0.0000e+00,\n",
      "          0.0000e+00,  0.0000e+00,  0.0000e+00,  0.0000e+00,  0.0000e+00,\n",
      "          0.0000e+00,  0.0000e+00,  0.0000e+00,  0.0000e+00,  0.0000e+00,\n",
      "          0.0000e+00,  0.0000e+00,  0.0000e+00,  0.0000e+00,  0.0000e+00,\n",
      "          0.0000e+00],\n",
      "        [ 6.1779e-03,  2.6052e-03, -2.0419e-03,  2.2017e-02, -4.6089e-02,\n",
      "          8.9845e-02,  0.0000e+00,  0.0000e+00,  0.0000e+00,  0.0000e+00,\n",
      "          0.0000e+00,  0.0000e+00,  0.0000e+00,  0.0000e+00,  0.0000e+00,\n",
      "          0.0000e+00,  0.0000e+00,  0.0000e+00,  0.0000e+00,  0.0000e+00,\n",
      "          0.0000e+00,  0.0000e+00,  0.0000e+00,  0.0000e+00,  0.0000e+00,\n",
      "          0.0000e+00,  0.0000e+00,  0.0000e+00,  0.0000e+00,  0.0000e+00,\n",
      "          0.0000e+00],\n",
      "        [-6.0247e-02,  5.8202e-03,  1.9811e-02,  1.0489e-02, -2.7247e-03,\n",
      "          1.5384e-03,  1.2468e-01,  0.0000e+00,  0.0000e+00,  0.0000e+00,\n",
      "          0.0000e+00,  0.0000e+00,  0.0000e+00,  0.0000e+00,  0.0000e+00,\n",
      "          0.0000e+00,  0.0000e+00,  0.0000e+00,  0.0000e+00,  0.0000e+00,\n",
      "          0.0000e+00,  0.0000e+00,  0.0000e+00,  0.0000e+00,  0.0000e+00,\n",
      "          0.0000e+00,  0.0000e+00,  0.0000e+00,  0.0000e+00,  0.0000e+00,\n",
      "          0.0000e+00],\n",
      "        [ 6.3358e-03, -6.7627e-02,  2.0101e-02,  8.1362e-04, -1.7322e-03,\n",
      "          4.8112e-03, -4.8453e-02,  1.2892e-01,  0.0000e+00,  0.0000e+00,\n",
      "          0.0000e+00,  0.0000e+00,  0.0000e+00,  0.0000e+00,  0.0000e+00,\n",
      "          0.0000e+00,  0.0000e+00,  0.0000e+00,  0.0000e+00,  0.0000e+00,\n",
      "          0.0000e+00,  0.0000e+00,  0.0000e+00,  0.0000e+00,  0.0000e+00,\n",
      "          0.0000e+00,  0.0000e+00,  0.0000e+00,  0.0000e+00,  0.0000e+00,\n",
      "          0.0000e+00],\n",
      "        [ 2.0316e-02, -1.0194e-02, -6.6345e-03, -6.0700e-03, -7.4812e-04,\n",
      "         -6.0922e-03,  2.9569e-02, -1.2837e-01,  9.7633e-02,  0.0000e+00,\n",
      "          0.0000e+00,  0.0000e+00,  0.0000e+00,  0.0000e+00,  0.0000e+00,\n",
      "          0.0000e+00,  0.0000e+00,  0.0000e+00,  0.0000e+00,  0.0000e+00,\n",
      "          0.0000e+00,  0.0000e+00,  0.0000e+00,  0.0000e+00,  0.0000e+00,\n",
      "          0.0000e+00,  0.0000e+00,  0.0000e+00,  0.0000e+00,  0.0000e+00,\n",
      "          0.0000e+00],\n",
      "        [-4.5991e-03,  1.0376e-03,  2.2798e-03, -2.0148e-03, -1.1486e-03,\n",
      "          1.5415e-03, -1.3434e-03,  6.6652e-03,  4.3866e-03,  9.0067e-02,\n",
      "          0.0000e+00,  0.0000e+00,  0.0000e+00,  0.0000e+00,  0.0000e+00,\n",
      "          0.0000e+00,  0.0000e+00,  0.0000e+00,  0.0000e+00,  0.0000e+00,\n",
      "          0.0000e+00,  0.0000e+00,  0.0000e+00,  0.0000e+00,  0.0000e+00,\n",
      "          0.0000e+00,  0.0000e+00,  0.0000e+00,  0.0000e+00,  0.0000e+00,\n",
      "          0.0000e+00],\n",
      "        [ 7.6311e-03, -5.6400e-03, -2.9415e-03, -2.7356e-04, -7.5131e-04,\n",
      "         -7.6254e-04,  3.3264e-03,  1.2355e-02, -1.8251e-02, -9.4714e-02,\n",
      "          9.7978e-02,  0.0000e+00,  0.0000e+00,  0.0000e+00,  0.0000e+00,\n",
      "          0.0000e+00,  0.0000e+00,  0.0000e+00,  0.0000e+00,  0.0000e+00,\n",
      "          0.0000e+00,  0.0000e+00,  0.0000e+00,  0.0000e+00,  0.0000e+00,\n",
      "          0.0000e+00,  0.0000e+00,  0.0000e+00,  0.0000e+00,  0.0000e+00,\n",
      "          0.0000e+00],\n",
      "        [ 5.0410e-03, -6.0983e-03, -2.3727e-03, -1.4967e-04,  1.5833e-03,\n",
      "          4.3483e-04, -3.9368e-03,  9.7783e-03,  1.0145e-02,  4.9172e-02,\n",
      "         -5.7610e-02,  9.3149e-02,  0.0000e+00,  0.0000e+00,  0.0000e+00,\n",
      "          0.0000e+00,  0.0000e+00,  0.0000e+00,  0.0000e+00,  0.0000e+00,\n",
      "          0.0000e+00,  0.0000e+00,  0.0000e+00,  0.0000e+00,  0.0000e+00,\n",
      "          0.0000e+00,  0.0000e+00,  0.0000e+00,  0.0000e+00,  0.0000e+00,\n",
      "          0.0000e+00],\n",
      "        [ 2.4417e-04,  1.8888e-02, -9.6342e-03,  2.6943e-03, -2.8159e-04,\n",
      "         -2.4922e-04,  8.0619e-04,  7.9612e-04, -1.1929e-02, -4.0981e-02,\n",
      "          3.5529e-02, -8.8971e-02,  1.0700e-01,  0.0000e+00,  0.0000e+00,\n",
      "          0.0000e+00,  0.0000e+00,  0.0000e+00,  0.0000e+00,  0.0000e+00,\n",
      "          0.0000e+00,  0.0000e+00,  0.0000e+00,  0.0000e+00,  0.0000e+00,\n",
      "          0.0000e+00,  0.0000e+00,  0.0000e+00,  0.0000e+00,  0.0000e+00,\n",
      "          0.0000e+00],\n",
      "        [-9.1461e-04, -2.1897e-02,  2.1018e-02, -4.2077e-03, -2.8268e-04,\n",
      "          3.9801e-03, -1.5768e-04,  1.7185e-04,  1.0258e-02,  3.5282e-02,\n",
      "         -1.7773e-02,  7.3043e-02, -1.6736e-01,  1.2361e-01,  0.0000e+00,\n",
      "          0.0000e+00,  0.0000e+00,  0.0000e+00,  0.0000e+00,  0.0000e+00,\n",
      "          0.0000e+00,  0.0000e+00,  0.0000e+00,  0.0000e+00,  0.0000e+00,\n",
      "          0.0000e+00,  0.0000e+00,  0.0000e+00,  0.0000e+00,  0.0000e+00,\n",
      "          0.0000e+00],\n",
      "        [ 1.7008e-02, -4.2904e-02,  1.2909e-02, -2.4112e-05,  3.7013e-04,\n",
      "         -3.4365e-03, -9.3806e-03,  3.8670e-02, -2.8689e-02,  2.8638e-03,\n",
      "         -6.3410e-03,  1.0349e-02, -3.7358e-02,  8.2744e-03,  7.9343e-02,\n",
      "          0.0000e+00,  0.0000e+00,  0.0000e+00,  0.0000e+00,  0.0000e+00,\n",
      "          0.0000e+00,  0.0000e+00,  0.0000e+00,  0.0000e+00,  0.0000e+00,\n",
      "          0.0000e+00,  0.0000e+00,  0.0000e+00,  0.0000e+00,  0.0000e+00,\n",
      "          0.0000e+00],\n",
      "        [-7.7044e-02, -1.2324e-01, -2.0316e-02, -4.7415e-03, -4.8374e-03,\n",
      "          1.6556e-03,  5.7126e-03, -1.0750e-01,  3.1214e-02,  9.8727e-03,\n",
      "         -8.2517e-03,  4.4959e-03, -7.2353e-03,  2.2406e-03,  8.8556e-04,\n",
      "          2.1677e-01,  0.0000e+00,  0.0000e+00,  0.0000e+00,  0.0000e+00,\n",
      "          0.0000e+00,  0.0000e+00,  0.0000e+00,  0.0000e+00,  0.0000e+00,\n",
      "          0.0000e+00,  0.0000e+00,  0.0000e+00,  0.0000e+00,  0.0000e+00,\n",
      "          0.0000e+00],\n",
      "        [-1.1541e-02, -1.0905e-03, -9.5187e-03, -7.3850e-03, -6.4301e-04,\n",
      "         -2.2872e-03, -1.9427e-03, -2.0198e-01,  3.2344e-03, -4.2990e-04,\n",
      "         -1.4317e-03,  9.4936e-04, -1.2208e-03,  1.5987e-03,  1.0022e-02,\n",
      "          8.6148e-02,  1.5846e-01,  0.0000e+00,  0.0000e+00,  0.0000e+00,\n",
      "          0.0000e+00,  0.0000e+00,  0.0000e+00,  0.0000e+00,  0.0000e+00,\n",
      "          0.0000e+00,  0.0000e+00,  0.0000e+00,  0.0000e+00,  0.0000e+00,\n",
      "          0.0000e+00],\n",
      "        [ 6.0957e-02, -3.4296e-03, -6.9038e-03, -1.2482e-02, -2.3775e-03,\n",
      "         -2.0100e-02, -1.0269e-01, -3.0316e-02,  3.2364e-02, -7.7992e-03,\n",
      "         -5.7619e-04,  2.2660e-03,  7.5867e-03,  1.3519e-03, -1.2219e-02,\n",
      "          1.1573e-02, -7.8016e-02,  1.8440e-01,  0.0000e+00,  0.0000e+00,\n",
      "          0.0000e+00,  0.0000e+00,  0.0000e+00,  0.0000e+00,  0.0000e+00,\n",
      "          0.0000e+00,  0.0000e+00,  0.0000e+00,  0.0000e+00,  0.0000e+00,\n",
      "          0.0000e+00],\n",
      "        [ 2.0185e-02, -2.7378e-02, -1.3254e-05, -8.4050e-03,  1.2911e-03,\n",
      "          1.7900e-03, -8.3434e-02,  1.7573e-02, -1.7053e-02,  6.0038e-03,\n",
      "          5.9345e-04,  7.5064e-04, -6.1085e-03,  3.4602e-03,  7.5985e-03,\n",
      "          3.6250e-02,  9.5244e-03,  7.6724e-03,  1.0634e-01,  0.0000e+00,\n",
      "          0.0000e+00,  0.0000e+00,  0.0000e+00,  0.0000e+00,  0.0000e+00,\n",
      "          0.0000e+00,  0.0000e+00,  0.0000e+00,  0.0000e+00,  0.0000e+00,\n",
      "          0.0000e+00],\n",
      "        [ 8.1575e-04,  1.7094e-02,  2.0823e-02, -2.1280e-02,  2.3534e-02,\n",
      "         -6.0830e-02,  4.9504e-02, -1.8211e-02,  4.9155e-03, -3.0548e-03,\n",
      "          7.1190e-03, -7.6172e-03,  4.8801e-03, -5.4841e-04, -8.0794e-03,\n",
      "         -1.9379e-02, -1.3353e-02,  2.2861e-02, -7.0512e-02,  1.1074e-01,\n",
      "          0.0000e+00,  0.0000e+00,  0.0000e+00,  0.0000e+00,  0.0000e+00,\n",
      "          0.0000e+00,  0.0000e+00,  0.0000e+00,  0.0000e+00,  0.0000e+00,\n",
      "          0.0000e+00],\n",
      "        [-3.9048e-02, -1.1202e-02, -7.4144e-03, -1.4465e-02, -2.3729e-02,\n",
      "          1.2744e-02, -1.5770e-02, -1.0849e-02, -2.8207e-04, -2.4048e-04,\n",
      "         -6.1144e-03, -1.4824e-03,  1.8487e-03, -9.5199e-04,  5.3158e-04,\n",
      "          3.4715e-02,  5.4042e-03,  8.8108e-03, -9.9766e-03, -4.5947e-02,\n",
      "          1.0639e-01,  0.0000e+00,  0.0000e+00,  0.0000e+00,  0.0000e+00,\n",
      "          0.0000e+00,  0.0000e+00,  0.0000e+00,  0.0000e+00,  0.0000e+00,\n",
      "          0.0000e+00],\n",
      "        [-2.2440e-02, -4.2160e-03, -6.3539e-03, -3.8548e-02, -5.9944e-02,\n",
      "          1.0255e-02, -4.7747e-03, -3.3178e-03, -6.6416e-04,  3.6142e-03,\n",
      "         -5.7150e-03,  8.1710e-03, -7.4219e-04,  1.3769e-03, -6.7760e-03,\n",
      "          1.0733e-02,  1.6873e-03,  7.6983e-03, -4.7942e-03, -1.4868e-02,\n",
      "          2.4324e-02,  7.1358e-02,  0.0000e+00,  0.0000e+00,  0.0000e+00,\n",
      "          0.0000e+00,  0.0000e+00,  0.0000e+00,  0.0000e+00,  0.0000e+00,\n",
      "          0.0000e+00],\n",
      "        [-1.5461e-02,  1.4205e-02, -5.1247e-02, -6.4424e-02,  2.9891e-02,\n",
      "         -1.0930e-02,  9.2941e-05, -1.6411e-02,  9.5523e-03,  1.3153e-03,\n",
      "         -9.9679e-03,  1.1551e-02, -4.4240e-03, -1.2735e-03, -1.2307e-02,\n",
      "          1.5315e-02,  7.3821e-03, -1.1610e-02,  6.8444e-03, -1.3743e-04,\n",
      "          2.9960e-03,  1.4952e-02,  1.2516e-01,  0.0000e+00,  0.0000e+00,\n",
      "          0.0000e+00,  0.0000e+00,  0.0000e+00,  0.0000e+00,  0.0000e+00,\n",
      "          0.0000e+00],\n",
      "        [ 2.3531e-02, -4.7559e-02, -4.6418e-02, -4.1706e-03,  1.4009e-03,\n",
      "          2.1127e-03, -2.2263e-02, -3.2053e-03,  1.3622e-02, -1.0960e-03,\n",
      "         -2.4277e-04, -1.0624e-02,  2.7548e-02, -6.5886e-03, -4.4799e-02,\n",
      "          5.0264e-02, -4.1832e-03,  1.3438e-02,  8.5104e-03,  3.3091e-04,\n",
      "          5.0912e-04,  4.2231e-04,  2.5262e-03,  1.2085e-01,  0.0000e+00,\n",
      "          0.0000e+00,  0.0000e+00,  0.0000e+00,  0.0000e+00,  0.0000e+00,\n",
      "          0.0000e+00],\n",
      "        [-1.4091e-02,  4.0990e-02,  1.1854e-02,  3.1968e-03, -1.4907e-03,\n",
      "         -3.2193e-03,  9.8615e-03, -1.9705e-02,  1.6157e-02, -4.0720e-03,\n",
      "         -2.8133e-03,  3.0362e-03,  1.0285e-02, -2.5794e-02, -3.9921e-02,\n",
      "         -2.8956e-02, -1.2065e-03,  3.3925e-03, -7.1703e-03,  2.0253e-03,\n",
      "         -2.9590e-04, -2.4765e-04,  6.6347e-04, -4.9937e-02,  9.8029e-02,\n",
      "          0.0000e+00,  0.0000e+00,  0.0000e+00,  0.0000e+00,  0.0000e+00,\n",
      "          0.0000e+00],\n",
      "        [-2.1560e-01, -2.0398e-02, -6.5714e-02,  2.5292e-02, -2.6048e-02,\n",
      "          6.0079e-03,  9.6443e-02, -5.4299e-02,  1.1019e-02,  1.0822e-02,\n",
      "         -7.5611e-03, -1.6030e-03,  6.0292e-03,  6.4698e-04, -1.1689e-02,\n",
      "          9.3189e-02,  2.9356e-02, -3.1251e-02, -1.3192e-02,  2.5042e-04,\n",
      "         -2.2690e-02, -7.7970e-03, -1.4260e-01,  2.6754e-02, -8.9794e-03,\n",
      "          1.8811e-01,  0.0000e+00,  0.0000e+00,  0.0000e+00,  0.0000e+00,\n",
      "          0.0000e+00],\n",
      "        [-7.2097e-02,  5.8797e-03,  6.5661e-02, -7.6029e-02,  2.1009e-02,\n",
      "         -2.0403e-02,  2.2583e-02, -3.4420e-02, -9.0918e-04,  8.4629e-03,\n",
      "         -9.5852e-04,  1.3223e-02, -1.0521e-02,  3.8778e-04, -2.7534e-03,\n",
      "          5.7192e-02,  1.2669e-02, -2.5976e-03, -2.3150e-02,  3.6468e-02,\n",
      "         -7.6794e-02,  2.8057e-02, -1.1902e-02, -1.3022e-02,  7.4994e-03,\n",
      "         -9.4341e-02,  1.9239e-01,  0.0000e+00,  0.0000e+00,  0.0000e+00,\n",
      "          0.0000e+00],\n",
      "        [ 2.1016e-02,  4.8752e-02,  5.2764e-03,  4.5223e-03,  4.9228e-03,\n",
      "         -1.0272e-02, -3.0488e-02,  1.4460e-01, -6.5439e-02, -3.8664e-02,\n",
      "          2.2070e-02, -1.2599e-02,  2.2119e-03,  1.9173e-03,  2.2880e-02,\n",
      "         -4.6493e-02, -1.5785e-01,  5.8513e-02, -4.9457e-03,  2.7323e-03,\n",
      "          7.0942e-03, -6.9064e-04,  1.4854e-02,  7.9788e-03, -1.9347e-02,\n",
      "         -1.3021e-02, -3.9023e-03,  1.8241e-01,  0.0000e+00,  0.0000e+00,\n",
      "          0.0000e+00],\n",
      "        [-7.8854e-03,  6.8578e-02,  1.7139e-02,  9.4945e-03,  1.6005e-03,\n",
      "          6.8923e-03, -1.6192e-02,  1.3151e-01, -1.7930e-01, -7.5937e-02,\n",
      "          5.1596e-02, -2.2760e-02,  3.3119e-02, -2.7533e-02, -2.0585e-02,\n",
      "         -7.6959e-02, -1.5284e-02, -3.5154e-02,  1.0607e-02, -6.8566e-03,\n",
      "         -2.3725e-03, -1.6228e-03,  4.9824e-03, -2.3474e-02,  2.5094e-02,\n",
      "         -3.4248e-04, -6.7838e-03, -7.1439e-02,  1.5239e-01,  0.0000e+00,\n",
      "          0.0000e+00],\n",
      "        [-6.1390e-03,  4.7737e-02, -1.4875e-02,  2.0633e-03,  2.5330e-03,\n",
      "          1.6508e-03,  4.2679e-03, -2.5845e-02,  4.4805e-02, -1.0889e-02,\n",
      "          1.8794e-02, -5.4824e-02, -1.7077e-02,  1.1838e-02, -7.2258e-02,\n",
      "         -1.1510e-02,  1.4239e-02,  1.3586e-02, -8.7155e-03,  3.1755e-03,\n",
      "          4.8179e-03, -1.9269e-03, -2.4817e-03,  3.1314e-02,  6.6750e-04,\n",
      "          3.7910e-03,  1.5511e-03,  3.7352e-02, -8.4117e-02,  1.2638e-01,\n",
      "          0.0000e+00],\n",
      "        [-2.4052e-02, -1.7705e-01, -6.5444e-02, -2.2626e-02, -9.2840e-03,\n",
      "          1.4548e-02,  5.3552e-03, -3.8067e-02,  8.3895e-02,  2.4314e-02,\n",
      "         -2.4832e-02,  2.1524e-02, -3.3533e-02, -6.3673e-03,  1.3524e-02,\n",
      "          1.1302e-01,  7.9279e-03,  5.5183e-03,  2.4706e-02, -2.0280e-02,\n",
      "          1.1643e-02,  1.0991e-02,  1.3656e-02, -2.0393e-01,  1.5109e-03,\n",
      "          6.3605e-02, -4.0265e-02, -1.2054e-02,  9.2384e-03,  5.2411e-04,\n",
      "          3.0712e-01]])), ('covar_module.raw_outputscale', tensor(-1.0276)), ('covar_module.base_kernel.raw_lengthscale', tensor([[5.5580, 2.0696]])), ('covar_module.base_kernel.raw_lengthscale_constraint.lower_bound', tensor(0.)), ('covar_module.base_kernel.raw_lengthscale_constraint.upper_bound', tensor(inf)), ('covar_module.raw_outputscale_constraint.lower_bound', tensor(0.)), ('covar_module.raw_outputscale_constraint.upper_bound', tensor(inf))])\n"
     ]
    }
   ],
   "source": [
    "model = GPModel(inducing_points=inducing_points)\n",
    "state_dict = torch.load('gpytorch_y1_model.pth')\n",
    "model.load_state_dict(state_dict)\n",
    "print(state_dict)\n",
    "\n",
    "constraint = model.covar_module.raw_outputscale_constraint\n",
    "length_scale = constraint.transform(state_dict['covar_module.base_kernel.raw_lengthscale']).detach().numpy()[0]\n",
    "output_scale = constraint.transform(state_dict['covar_module.raw_outputscale']).detach().numpy()\n",
    "u = state_dict['variational_strategy.inducing_points'].detach().numpy()\n",
    "mu = np.array([state_dict['variational_strategy._variational_distribution.variational_mean'].detach().numpy()])\n",
    "S = state_dict['variational_strategy._variational_distribution.chol_variational_covar'].detach().numpy()"
   ]
  },
  {
   "cell_type": "code",
   "execution_count": 10,
   "id": "18be22be",
   "metadata": {},
   "outputs": [],
   "source": [
    "from scipy.spatial.distance import pdist, cdist, squareform\n",
    "import casadi as cs"
   ]
  },
  {
   "cell_type": "code",
   "execution_count": 28,
   "id": "93a0429f",
   "metadata": {},
   "outputs": [],
   "source": [
    "class GPpredict_():\n",
    "    def __init__(self, l, sigma_f, u, mu, S):\n",
    "        self.l=l\n",
    "        self.sigma_f=sigma_f\n",
    "        self.u=u\n",
    "        self.mu=mu\n",
    "        self.S=S\n",
    "        self.Kuu = self.squared_exponential_kernel(u, u) + 1e-03* np.identity(self.u.shape[-2])\n",
    "        self.inv_L = np.linalg.inv(np.linalg.cholesky(self.Kuu))\n",
    "        self.var = np.matmul(S, np.transpose(S)) - np.identity(S.shape[-1])\n",
    "    def squared_exponential_kernel(self, x_1, x_2=None):\n",
    "        \"\"\"\n",
    "        Anisotropic (diagonal length-scale) matrix squared exponential kernel. Computes a covariance matrix from points\n",
    "        in x_1 and x_2.\n",
    "\n",
    "        Args:\n",
    "            x_1: Array of m points (m x d).\n",
    "            x_2: Array of n points (n x d).\n",
    "\n",
    "        Returns:\n",
    "            Covariance matrix (m x n).\n",
    "        \"\"\"\n",
    "\n",
    "        if isinstance(x_2, cs.SX):\n",
    "            return self._squared_exponential_kernel_cs(x_1, x_2)\n",
    "\n",
    "        # Length scale parameter\n",
    "        len_scale = self.l\n",
    "\n",
    "        # Vertical variation parameter\n",
    "        sigma_f = self.sigma_f\n",
    "\n",
    "        x_1 = np.atleast_2d(x_1)\n",
    "        length_scale = self._check_length_scale(x_1, len_scale)\n",
    "        if x_2 is None:\n",
    "            dists = pdist(x_1 / length_scale, metric='sqeuclidean')\n",
    "            k = sigma_f * np.exp(-.5 * dists)\n",
    "            # convert from upper-triangular matrix to square matrix\n",
    "            k = squareform(k)\n",
    "            np.fill_diagonal(k, 1)\n",
    "        else:\n",
    "            dists = cdist(x_1 / length_scale, x_2 / length_scale, metric='sqeuclidean')\n",
    "            k = sigma_f * np.exp(-.5 * dists)\n",
    "\n",
    "        return k\n",
    "    \n",
    "    def _check_length_scale(self, x, length_scale):\n",
    "        length_scale = np.squeeze(length_scale).astype(float)\n",
    "        if np.ndim(length_scale) > 1:\n",
    "            raise ValueError(\"length_scale cannot be of dimension greater than 1\")\n",
    "        if np.ndim(length_scale) == 1 and x.shape[1] != length_scale.shape[0]:\n",
    "            raise ValueError(\"Anisotropic kernel must have the same number of dimensions as data (%d!=%d)\"\n",
    "                             % (length_scale.shape[0], x.shape[1]))\n",
    "        return length_scale\n",
    "\n",
    "    def _squared_exponential_kernel_cs(self, x_1, x_2):\n",
    "        \"\"\"\n",
    "        Symbolic implementation of the anisotropic squared exponential kernel\n",
    "        :param x_1: Array of m points (m x d).\n",
    "        :param x_2: Array of n points (m x d).\n",
    "        :return: Covariance matrix (m x n).\n",
    "        \"\"\"\n",
    "\n",
    "        # Length scale parameter\n",
    "        len_scale = self.l\n",
    "        # Vertical variation parameter\n",
    "        sigma_f =  self.sigma_f\n",
    "\n",
    "        if x_1.shape != x_2.shape and x_2.shape[0] == 1:\n",
    "            tiling_ones = cs.SX.ones(x_1.shape[0], 1)\n",
    "            d = x_1 - cs.mtimes(tiling_ones, x_2)\n",
    "            dist = cs.sum2(d ** 2 / cs.mtimes(tiling_ones, cs.SX(len_scale ** 2).T))\n",
    "        else:\n",
    "            d = x_1 - x_2\n",
    "            dist = cs.sum1(d ** 2 / cs.SX(len_scale ** 2).T)\n",
    "\n",
    "        return sigma_f * cs.SX.exp(-.5 * dist)\n",
    "    def predict(self, X):\n",
    "        Kxu = self.squared_exponential_kernel(self.u, X)\n",
    "        Kxx = self.squared_exponential_kernel(X, X) + 1e-04* np.identity(X.shape[-2])\n",
    "        interp_term = cs.mtimes(self.inv_L, Kxu)\n",
    "        mean = cs.mtimes(self.mu, interp_term)\n",
    "        covar = Kxx + cs.mtimes(interp_term.T,cs.mtimes(self.var, interp_term))\n",
    "        return mean, covar\n",
    "    def mean(self, X):\n",
    "        Kxu = self.squared_exponential_kernel(self.u, X)\n",
    "        interp_term = cs.mtimes(self.inv_L, Kxu)\n",
    "        mean = cs.mtimes(self.mu, interp_term)\n",
    "        return mean\n",
    "    def covar(self, X):\n",
    "        Kxu = self.squared_exponential_kernel(self.u, X)\n",
    "        Kxx = self.squared_exponential_kernel(X, X) + 1e-04* np.identity(X.shape[-2])\n",
    "        interp_term = cs.mtimes(self.inv_L, Kxu)\n",
    "        covar = Kxx + cs.mtimes(interp_term.T,cs.mtimes(self.var, interp_term))\n",
    "        return mean"
   ]
  },
  {
   "cell_type": "code",
   "execution_count": 29,
   "id": "809aeb3e",
   "metadata": {},
   "outputs": [
    {
     "name": "stdout",
     "output_type": "stream",
     "text": [
      "x_5 x_6\n",
      "[[x_5, x_6]]\n"
     ]
    }
   ],
   "source": [
    "x1 = cs.SX.sym('x_5', 1)\n",
    "x2 = cs.SX.sym('x_6', 1)\n",
    "print(x1,x2)\n",
    "X = cs.horzcat(x1,x2)\n",
    "print(X)"
   ]
  },
  {
   "cell_type": "code",
   "execution_count": 30,
   "id": "c68d839c",
   "metadata": {},
   "outputs": [],
   "source": [
    "def f(x1, x2):\n",
    "    X = cs.horzcat(x1,x2)\n",
    "    mean= predict.mean(X)\n",
    "    return mean"
   ]
  },
  {
   "cell_type": "code",
   "execution_count": 31,
   "id": "d317e651",
   "metadata": {},
   "outputs": [],
   "source": [
    "X = np.array([[-9,0]])"
   ]
  },
  {
   "cell_type": "code",
   "execution_count": 32,
   "id": "01963381",
   "metadata": {},
   "outputs": [
    {
     "ename": "NameError",
     "evalue": "name 'predict' is not defined",
     "output_type": "error",
     "traceback": [
      "\u001b[0;31m---------------------------------------------------------------------------\u001b[0m",
      "\u001b[0;31mNameError\u001b[0m                                 Traceback (most recent call last)",
      "Cell \u001b[0;32mIn [32], line 1\u001b[0m\n\u001b[0;32m----> 1\u001b[0m f1 \u001b[38;5;241m=\u001b[39m cs\u001b[38;5;241m.\u001b[39mFunction(\u001b[38;5;124m'\u001b[39m\u001b[38;5;124mf\u001b[39m\u001b[38;5;124m'\u001b[39m,[x1,x2],[\u001b[43mf\u001b[49m\u001b[43m(\u001b[49m\u001b[43mx1\u001b[49m\u001b[43m,\u001b[49m\u001b[43mx2\u001b[49m\u001b[43m)\u001b[49m]);\n\u001b[1;32m      2\u001b[0m f1(\u001b[38;5;241m-\u001b[39m\u001b[38;5;241m9\u001b[39m,\u001b[38;5;241m0\u001b[39m)\n",
      "Cell \u001b[0;32mIn [30], line 3\u001b[0m, in \u001b[0;36mf\u001b[0;34m(x1, x2)\u001b[0m\n\u001b[1;32m      1\u001b[0m \u001b[38;5;28;01mdef\u001b[39;00m \u001b[38;5;21mf\u001b[39m(x1, x2):\n\u001b[1;32m      2\u001b[0m     X \u001b[38;5;241m=\u001b[39m cs\u001b[38;5;241m.\u001b[39mhorzcat(x1,x2)\n\u001b[0;32m----> 3\u001b[0m     mean\u001b[38;5;241m=\u001b[39m \u001b[43mpredict\u001b[49m\u001b[38;5;241m.\u001b[39mmean(X)\n\u001b[1;32m      4\u001b[0m     \u001b[38;5;28;01mreturn\u001b[39;00m mean\n",
      "\u001b[0;31mNameError\u001b[0m: name 'predict' is not defined"
     ]
    }
   ],
   "source": [
    "f1 = cs.Function('f',[x1,x2],[f(x1,x2)]);\n",
    "f1(-9,0)"
   ]
  },
  {
   "cell_type": "code",
   "execution_count": 33,
   "id": "827505ab",
   "metadata": {},
   "outputs": [
    {
     "ename": "NameError",
     "evalue": "name 'length_scale' is not defined",
     "output_type": "error",
     "traceback": [
      "\u001b[0;31m---------------------------------------------------------------------------\u001b[0m",
      "\u001b[0;31mNameError\u001b[0m                                 Traceback (most recent call last)",
      "Cell \u001b[0;32mIn [33], line 1\u001b[0m\n\u001b[0;32m----> 1\u001b[0m predict \u001b[38;5;241m=\u001b[39m GPpredict_(\u001b[43mlength_scale\u001b[49m, output_scale, u, mu, S)\n\u001b[1;32m      2\u001b[0m mean\u001b[38;5;241m=\u001b[39m predict\u001b[38;5;241m.\u001b[39mmean(X)\n\u001b[1;32m      3\u001b[0m \u001b[38;5;28mprint\u001b[39m(mean)\n",
      "\u001b[0;31mNameError\u001b[0m: name 'length_scale' is not defined"
     ]
    }
   ],
   "source": [
    "predict = GPpredict_(length_scale, output_scale, u, mu, S)\n",
    "mean= predict.mean(X)\n",
    "print(mean)"
   ]
  },
  {
   "cell_type": "code",
   "execution_count": 20,
   "id": "97047997",
   "metadata": {},
   "outputs": [],
   "source": [
    "from casadi import *"
   ]
  },
  {
   "cell_type": "code",
   "execution_count": 21,
   "id": "32c69952",
   "metadata": {},
   "outputs": [],
   "source": [
    "#Load the trained GP model\n",
    "#Load the data\n",
    "data = np.load('/home/johanna/MasterThesis/data/wind_data_4.npz')\n",
    "data_X = data['X']\n",
    "data_y = data['y']\n",
    "inducing_points = torch.FloatTensor(data_X[::int(data_y.shape[0]/30), :])\n",
    "\n",
    "#Load model in first direction\n",
    "model1 = GPModel(inducing_points=inducing_points)\n",
    "state_dict = torch.load('/home/johanna/MasterThesis/Pyhton/gpytorch_y1_model.pth')\n",
    "model1.load_state_dict(state_dict)\n",
    "constraint1 = model1.covar_module.raw_outputscale_constraint\n",
    "length_scale1 = constraint1.transform(state_dict['covar_module.base_kernel.raw_lengthscale']).detach().numpy()[0]\n",
    "output_scale1 = constraint1.transform(state_dict['covar_module.raw_outputscale']).detach().numpy()\n",
    "u1 = state_dict['variational_strategy.inducing_points'].detach().numpy()\n",
    "mu1 = np.array([state_dict['variational_strategy._variational_distribution.variational_mean'].detach().numpy()])\n",
    "S1 = state_dict['variational_strategy._variational_distribution.chol_variational_covar'].detach().numpy()\n",
    "\n",
    "prediction_model1 = GPpredict_(length_scale1, output_scale1, u1, mu1, S1)\n",
    "\n",
    "model2 = GPModel(inducing_points=inducing_points)\n",
    "state_dict = torch.load('/home/johanna/MasterThesis/Pyhton/gpytorch_y2_model.pth')\n",
    "model2.load_state_dict(state_dict)\n",
    "constraint2 = model2.covar_module.raw_outputscale_constraint\n",
    "length_scale2 = constraint2.transform(state_dict['covar_module.base_kernel.raw_lengthscale']).detach().numpy()[0]\n",
    "output_scale2 = constraint2.transform(state_dict['covar_module.raw_outputscale']).detach().numpy()\n",
    "u2 = state_dict['variational_strategy.inducing_points'].detach().numpy()\n",
    "mu2 = np.array(\n",
    "    [state_dict['variational_strategy._variational_distribution.variational_mean'].detach().numpy()])\n",
    "S2 = state_dict['variational_strategy._variational_distribution.chol_variational_covar'].detach().numpy()\n",
    "\n",
    "prediction_model2 = GPpredict_(length_scale2, output_scale2, u2, mu2, S2)"
   ]
  },
  {
   "cell_type": "code",
   "execution_count": 22,
   "id": "4536dcc5",
   "metadata": {},
   "outputs": [],
   "source": [
    "def f(x1, x2):\n",
    "    X = cs.horzcat(x1,x2)\n",
    "    mean1= prediction_model1.mean(X)\n",
    "    return mean1\n",
    "f1 = cs.Function('f',[x1,x2],[f(x1,x2)]);\n",
    "f1(-9,0)"
   ]
  },
  {
   "cell_type": "code",
   "execution_count": 23,
   "id": "c0251469",
   "metadata": {},
   "outputs": [
    {
     "ename": "NameError",
     "evalue": "name 'x1' is not defined",
     "output_type": "error",
     "traceback": [
      "\u001b[0;31m---------------------------------------------------------------------------\u001b[0m",
      "\u001b[0;31mNameError\u001b[0m                                 Traceback (most recent call last)",
      "Cell \u001b[0;32mIn [23], line 1\u001b[0m\n\u001b[0;32m----> 1\u001b[0m f1 \u001b[38;5;241m=\u001b[39m cs\u001b[38;5;241m.\u001b[39mFunction(\u001b[38;5;124m'\u001b[39m\u001b[38;5;124mf\u001b[39m\u001b[38;5;124m'\u001b[39m,[\u001b[43mx1\u001b[49m,x2],[f(x1,x2)]);\n\u001b[1;32m      2\u001b[0m f1(\u001b[38;5;241m-\u001b[39m\u001b[38;5;241m9\u001b[39m,\u001b[38;5;241m0\u001b[39m)\n",
      "\u001b[0;31mNameError\u001b[0m: name 'x1' is not defined"
     ]
    }
   ],
   "source": []
  },
  {
   "cell_type": "code",
   "execution_count": 132,
   "id": "62a98c87",
   "metadata": {},
   "outputs": [],
   "source": [
    "class GPpredict_():\n",
    "    def __init__(self, l, sigma_f, u, mu, S):\n",
    "        self.l = l\n",
    "        self.sigma_f = sigma_f\n",
    "        self.u = u\n",
    "        self.mu = mu\n",
    "        self.S = S\n",
    "        self.Kuu = self.squared_exponential_kernel(u, u) + 1e-03 * np.identity(self.u.shape[-2])\n",
    "        self.inv_L = np.linalg.inv(np.linalg.cholesky(self.Kuu))\n",
    "        self.var = np.matmul(S, np.transpose(S)) - np.identity(S.shape[-1])\n",
    "\n",
    "    def squared_exponential_kernel(self, x_1, x_2=None):\n",
    "        \"\"\"\n",
    "        Anisotropic (diagonal length-scale) matrix squared exponential kernel. Computes a covariance matrix from points\n",
    "        in x_1 and x_2.\n",
    "\n",
    "        Args:\n",
    "            x_1: Array of m points (m x d).\n",
    "            x_2: Array of n points (n x d).\n",
    "\n",
    "        Returns:\n",
    "            Covariance matrix (m x n).\n",
    "        \"\"\"\n",
    "\n",
    "        if isinstance(x_2, casadi.SX):\n",
    "            return self._squared_exponential_kernel_cs(x_1, x_2)\n",
    "\n",
    "        # Length scale parameter\n",
    "        len_scale = self.l\n",
    "\n",
    "        # Vertical variation parameter\n",
    "        sigma_f = self.sigma_f\n",
    "\n",
    "        x_1 = np.atleast_2d(x_1)\n",
    "        length_scale = self._check_length_scale(x_1, len_scale)\n",
    "        if x_2 is None:\n",
    "            dists = pdist(x_1 / length_scale, metric='sqeuclidean')\n",
    "            k = sigma_f * np.exp(-.5 * dists)\n",
    "            # convert from upper-triangular matrix to square matrix\n",
    "            k = squareform(k)\n",
    "            np.fill_diagonal(k, 1)\n",
    "        else:\n",
    "            dists = cdist(x_1 / length_scale, x_2 / length_scale, metric='sqeuclidean')\n",
    "            k = sigma_f * np.exp(-.5 * dists)\n",
    "\n",
    "        return k\n",
    "\n",
    "    def _check_length_scale(self, x, length_scale):\n",
    "        length_scale = np.squeeze(length_scale).astype(float)\n",
    "        if np.ndim(length_scale) > 1:\n",
    "            raise ValueError(\"length_scale cannot be of dimension greater than 1\")\n",
    "        if np.ndim(length_scale) == 1 and x.shape[1] != length_scale.shape[0]:\n",
    "            raise ValueError(\"Anisotropic kernel must have the same number of dimensions as data (%d!=%d)\"\n",
    "                             % (length_scale.shape[0], x.shape[1]))\n",
    "        return length_scale\n",
    "\n",
    "    def _squared_exponential_kernel_cs(self, x_1, x_2):\n",
    "        \"\"\"\n",
    "        Symbolic implementation of the anisotropic squared exponential kernel\n",
    "        :param x_1: Array of m points (m x d).\n",
    "        :param x_2: Array of n points (m x d).\n",
    "        :return: Covariance matrix (m x n).\n",
    "        \"\"\"\n",
    "\n",
    "        # Length scale parameter\n",
    "        len_scale = self.l\n",
    "        # Vertical variation parameter\n",
    "        sigma_f = self.sigma_f\n",
    "\n",
    "        if x_1.shape != x_2.shape and x_2.shape[0] == 1:\n",
    "            tiling_ones = casadi.SX.ones(x_1.shape[0], 1)\n",
    "            d = x_1 - casadi.mtimes(tiling_ones, x_2)\n",
    "            dist = casadi.sum2(d ** 2 / casadi.mtimes(tiling_ones, casadi.SX(len_scale ** 2).T))\n",
    "        else:\n",
    "            d = x_1 - x_2\n",
    "            dist = casadi.sum1(d ** 2 / casadi.SX(len_scale ** 2).T)\n",
    "\n",
    "        return sigma_f * casadi.SX.exp(-.5 * dist)\n",
    "\n",
    "    def predict(self, X):\n",
    "        Kxu = self.squared_exponential_kernel(self.u, X)\n",
    "        Kxx = self.squared_exponential_kernel(X, X) + 1e-04 * np.identity(X.shape[-2])\n",
    "        interp_term = casadi.mtimes(self.inv_L, Kxu)\n",
    "        mean = casadi.mtimes(self.mu, interp_term)\n",
    "        covar = Kxx + casadi.mtimes(interp_term.T, casadi.mtimes(self.var, interp_term))\n",
    "        return mean, covar\n",
    "\n",
    "    def mean(self, X):\n",
    "        Kxu = self.squared_exponential_kernel(self.u, X)\n",
    "        interp_term = casadi.mtimes(self.inv_L, Kxu)\n",
    "        test = casadi.mtimes(self.mu, self.inv_L)\n",
    "        print(test.shape)\n",
    "        mean = casadi.mtimes(self.mu, interp_term)\n",
    "        return mean\n",
    "\n",
    "    def covar(self, X):\n",
    "        Kxu = self.squared_exponential_kernel(self.u, X)\n",
    "        Kxx = self.squared_exponential_kernel(X, X) + 1e-04 * np.identity(X.shape[-2])\n",
    "        interp_term = casadi.mtimes(self.inv_L, Kxu)\n",
    "        print(interp_term.shape)\n",
    "        covar = Kxx + casadi.mtimes(interp_term.T, casadi.mtimes(self.var, interp_term))\n",
    "        return covar\n",
    "\n",
    "class GPModel(ApproximateGP):\n",
    "    def __init__(self, inducing_points):\n",
    "        variational_distribution = CholeskyVariationalDistribution(inducing_points.size(0))\n",
    "        variational_strategy = VariationalStrategy(self, inducing_points, variational_distribution, learn_inducing_locations=True)\n",
    "        super(GPModel, self).__init__(variational_strategy)\n",
    "        self.mean_module = gpytorch.means.ZeroMean()\n",
    "        self.covar_module = gpytorch.kernels.ScaleKernel(gpytorch.kernels.RBFKernel(ard_num_dims=2))\n",
    "\n",
    "    def forward(self, x):\n",
    "        mean_x = self.mean_module(x)\n",
    "        covar_x = self.covar_module(x)\n",
    "        return gpytorch.distributions.MultivariateNormal(mean_x, covar_x)"
   ]
  },
  {
   "cell_type": "code",
   "execution_count": 18,
   "id": "6c7000f5",
   "metadata": {},
   "outputs": [],
   "source": [
    "def _matern_kernel_cs(x_1, x_2, length_scale):\n",
    "        \"\"\"\n",
    "        Symbolic implementation of the anisotropic squared exponential kernel\n",
    "        :param x_1: Array of m points (m x d).\n",
    "        :param x_2: Array of n points (m x d).\n",
    "        :return: Covariance matrix (m x n).\n",
    "        \"\"\"\n",
    "\n",
    "        # Length scale parameter\n",
    "        len_scale = length_scale\n",
    "\n",
    "        d = (abs(x_1[0]-x_2[0]))/len_scale[0] **2+ (abs(x_1[1]-x_2[1]))/len_scale[1] # TODO: check if squared or not\n",
    "        print(d) \n",
    "        k = 1 + sqrt(5) * d + 5/3 * d ** 2 + casadi.SX.exp(- sqrt(5) * d)\n",
    "\n",
    "        return k"
   ]
  },
  {
   "cell_type": "code",
   "execution_count": 20,
   "id": "979e4744",
   "metadata": {},
   "outputs": [],
   "source": [
    "def cov_matrix(x1, x2, cov_function, length_scale, output_scale) -> np.array:\n",
    "    return np.array([[cov_function(a, b, length_scale, output_scale) for a in x1] for b in x2])"
   ]
  },
  {
   "cell_type": "code",
   "execution_count": 369,
   "id": "6b496606",
   "metadata": {},
   "outputs": [],
   "source": [
    "import torch\n",
    "import gpytorch\n",
    "from torch.utils.data import TensorDataset, DataLoader\n",
    "from gpytorch.models import ApproximateGP\n",
    "from gpytorch.variational import CholeskyVariationalDistribution\n",
    "from gpytorch.variational import VariationalStrategy"
   ]
  },
  {
   "cell_type": "code",
   "execution_count": 89,
   "id": "95f184cc",
   "metadata": {},
   "outputs": [],
   "source": [
    "covar_module = gpytorch.kernels.ScaleKernel(gpytorch.kernels.RBFKernel(ard_num_dims=2))\n",
    "covar_module.outputscale = output_scale\n",
    "covar_module.base_kernel.lengthscale = torch.Tensor(length_scale)"
   ]
  },
  {
   "cell_type": "code",
   "execution_count": 370,
   "id": "68649526",
   "metadata": {},
   "outputs": [
    {
     "name": "stdout",
     "output_type": "stream",
     "text": [
      "[[2.33055912e-02 2.08357006e-01 4.43746150e-02 5.62368147e-03\n",
      "  2.39281014e-01 2.71179438e-01 4.87431675e-01 6.59181893e-01\n",
      "  4.86321412e-02 2.86762923e-01]\n",
      " [1.60200074e-02 9.05320805e-04 2.14634649e-02 1.60669163e-02\n",
      "  8.49599659e-04 1.23536796e-03 7.37863884e-04 4.27832507e-04\n",
      "  2.00892910e-02 1.47261890e-04]\n",
      " [1.16611786e-01 2.01199815e-01 3.26504976e-01 3.97158824e-02\n",
      "  2.16114700e-01 3.98408860e-01 3.47797453e-01 2.90645540e-01\n",
      "  3.50367129e-01 1.07362427e-01]\n",
      " [1.91233680e-01 5.90712018e-02 6.15330637e-01 9.88800302e-02\n",
      "  5.94249405e-02 1.09675847e-01 7.11840019e-02 4.90280092e-02\n",
      "  6.19557202e-01 1.80834476e-02]\n",
      " [3.43802082e-03 3.90245090e-03 7.52145946e-02 2.49917284e-01\n",
      "  4.42508003e-03 1.08670682e-01 1.23194708e-02 1.70405824e-02\n",
      "  7.09801465e-02 4.88254838e-02]\n",
      " [7.22265523e-03 4.73513119e-02 7.76290544e-04 3.13388009e-05\n",
      "  4.36096936e-02 1.50620076e-03 1.71983484e-02 1.06113255e-02\n",
      "  8.86396912e-04 1.20136410e-03]\n",
      " [4.41306174e-01 1.80603996e-01 4.01793607e-02 2.09435821e-03\n",
      "  1.57927677e-01 1.42639391e-02 6.60786554e-02 3.04801650e-02\n",
      "  4.41500954e-02 3.44003411e-03]\n",
      " [1.19325504e-01 4.88749146e-01 1.19391009e-01 9.69087146e-03\n",
      "  5.21728456e-01 2.24147528e-01 6.28829837e-01 4.50719327e-01\n",
      "  1.31945387e-01 9.24051404e-02]\n",
      " [9.45092365e-03 2.71486547e-02 1.00558341e-01 5.98883331e-02\n",
      "  3.14217098e-02 4.88567322e-01 9.06420425e-02 1.39030769e-01\n",
      "  1.01991653e-01 3.33904088e-01]\n",
      " [3.35795283e-02 6.05648085e-02 2.77270973e-01 9.19410512e-02\n",
      "  6.77456781e-02 5.86949408e-01 1.57016546e-01 1.83299601e-01\n",
      "  2.83640414e-01 1.85615152e-01]]\n"
     ]
    }
   ],
   "source": [
    "x1 = torch.randn(10, 2)\n",
    "x2 = torch.randn(10, 2)\n",
    "covar_module = gpytorch.kernels.ScaleKernel(gpytorch.kernels.MaternKernel(nu=2.5, ard_num_dims=2))\n",
    "covar = covar_module(x1,x2)  # Output: LazyVariable of size (10 x 10)\n",
    "print(covar.detach().numpy())"
   ]
  },
  {
   "cell_type": "markdown",
   "id": "6abc06da",
   "metadata": {},
   "source": [
    "# Check Dynamics Model"
   ]
  },
  {
   "cell_type": "code",
   "execution_count": 34,
   "id": "9559300d",
   "metadata": {},
   "outputs": [],
   "source": [
    "from casadi import *\n",
    "import torch\n",
    "from scipy.spatial.distance import pdist, cdist, squareform\n",
    "import casadi as cs\n",
    "import gpytorch\n",
    "from gpytorch.models import ApproximateGP\n",
    "from gpytorch.variational import CholeskyVariationalDistribution\n",
    "from gpytorch.variational import VariationalStrategy"
   ]
  },
  {
   "cell_type": "code",
   "execution_count": 35,
   "id": "74ed4697",
   "metadata": {},
   "outputs": [],
   "source": [
    "class DynamicModel:\n",
    "\n",
    "    def __init__(self, system):\n",
    "        self.nvar = self.nu + self.nx\n",
    "        self.system = system\n",
    "\n",
    "    def __str__(self):\n",
    "        result = 'Dynamical Model: ' + str(type(self)) + '\\n' +\\\n",
    "               'System: ' + str(self.system) + '\\n'\n",
    "\n",
    "        if hasattr(self, 'interfaces'):\n",
    "            result += 'Interfaces: '\n",
    "\n",
    "            for interface in self.interfaces:\n",
    "                result += interface + \" \"\n",
    "\n",
    "            result += \"\\n\"\n",
    "\n",
    "        result += 'States: ' + str(self.states) + '\\n'\n",
    "        result += 'Inputs: ' + str(self.inputs) + '\\n'\n",
    "        return result\n",
    "\n",
    "    # Appends upper bounds from system\n",
    "    def upper_bound(self):\n",
    "        result = np.array([])\n",
    "\n",
    "        for input in self.inputs:\n",
    "            result = np.append(result, self.system.upper_bound[input])\n",
    "\n",
    "        for state in self.states:\n",
    "            result = np.append(result, self.system.upper_bound[state])\n",
    "\n",
    "        return result\n",
    "\n",
    "    # Appends lower bounds from system\n",
    "    def lower_bound(self):\n",
    "        result = np.array([])\n",
    "\n",
    "        for input in self.inputs:\n",
    "            result = np.append(result, self.system.lower_bound[input])\n",
    "\n",
    "        for state in self.states:\n",
    "            result = np.append(result, self.system.lower_bound[state])\n",
    "\n",
    "        return result\n"
   ]
  },
  {
   "cell_type": "code",
   "execution_count": 36,
   "id": "26aa4b53",
   "metadata": {},
   "outputs": [],
   "source": [
    "class DroneModel(DynamicModel):\n",
    "\n",
    "    def __init__(self, system, options):\n",
    "        # Check whether model should be nonlinear and whether yaw component should be included or not\n",
    "        self.nonlin = options['nonlin']\n",
    "        self.with_yaw = options['with_yaw']\n",
    "\n",
    "        if not self.with_yaw:\n",
    "            self.states = ['x', 'y', 'z', 'vx', 'vy', 'vz', 'phi', 'theta', 'v', 'spline']\n",
    "            self.states_from_sensor = [True, True, True, True, True, True, True, True, True, False]\n",
    "            self.states_from_sensor_at_infeasible = [True, True, True, True, True, True, True, True, True, False]\n",
    "\n",
    "            self.inputs = ['phi_c', 'theta_c', 'thrust_c', 'a']\n",
    "            self.possible_inputs_to_vehicle = ['phi_c', 'theta_c', 'thrust_c', 'a']\n",
    "        else:\n",
    "            self.states = ['x', 'y', 'z', 'vx', 'vy', 'vz', 'phi', 'theta', 'psi', 'v', 'spline']\n",
    "            self.states_from_sensor = [True, True, True, True, True, True, True, True, True, True, False]\n",
    "            self.states_from_sensor_at_infeasible = [True, True, True, True, True, True, True, True, True, True, False]\n",
    "\n",
    "            self.inputs = ['phi_c', 'theta_c', 'dpsi_c', 'thrust_c', 'a']\n",
    "            self.possible_inputs_to_vehicle = ['phi_c', 'theta_c', 'dpsi_c', 'thrust_c', 'a']\n",
    "\n",
    "        # Load the trained GP model\n",
    "        # Load the data\n",
    "        data = np.load('/home/johanna/MasterThesis/data/wind_data_4.npz')\n",
    "        data_X = data['X']\n",
    "        data_y = data['y']\n",
    "        inducing_points = torch.FloatTensor(data_X[::int(data_y.shape[0] / 30), :])\n",
    "\n",
    "        # Load model in first direction\n",
    "        self.model1 = GPModel(inducing_points=inducing_points)\n",
    "        state_dict = torch.load('/home/johanna/MasterThesis/Pyhton/gpytorch_y1_model.pth')\n",
    "        self.model1.load_state_dict(state_dict)\n",
    "        constraint1 = self.model1.covar_module.raw_outputscale_constraint\n",
    "        length_scale1 = constraint1.transform(state_dict['covar_module.base_kernel.raw_lengthscale']).detach().numpy()[0]\n",
    "        output_scale1 = constraint1.transform(state_dict['covar_module.raw_outputscale']).detach().numpy()\n",
    "        u1 = state_dict['variational_strategy.inducing_points'].detach().numpy()\n",
    "        mu1 = np.array(\n",
    "            [state_dict['variational_strategy._variational_distribution.variational_mean'].detach().numpy()])\n",
    "        S1 = state_dict['variational_strategy._variational_distribution.chol_variational_covar'].detach().numpy()\n",
    "\n",
    "        self.prediction_model1 = GPpredict_(length_scale1, output_scale1, u1, mu1, S1)\n",
    "\n",
    "        self.model2 = GPModel(inducing_points=inducing_points)\n",
    "        state_dict = torch.load('/home/johanna/MasterThesis/Pyhton/gpytorch_y2_model.pth')\n",
    "        self.model2.load_state_dict(state_dict)\n",
    "        constraint2 = self.model2.covar_module.raw_outputscale_constraint\n",
    "        length_scale2 = constraint2.transform(state_dict['covar_module.base_kernel.raw_lengthscale']).detach().numpy()[0]\n",
    "        output_scale2 = constraint2.transform(state_dict['covar_module.raw_outputscale']).detach().numpy()\n",
    "        u2 = state_dict['variational_strategy.inducing_points'].detach().numpy()\n",
    "        mu2 = np.array(\n",
    "            [state_dict['variational_strategy._variational_distribution.variational_mean'].detach().numpy()])\n",
    "        S2 = state_dict['variational_strategy._variational_distribution.chol_variational_covar'].detach().numpy()\n",
    "\n",
    "        self.prediction_model2 = GPpredict_(length_scale2, output_scale2, u2, mu2, S2)\n",
    "\n",
    "        self.nu = len(self.inputs)\n",
    "        self.nx = len(self.states)\n",
    "        super(DroneModel, self).__init__(system)\n",
    "\n",
    "    def continuous_model(self, x, u):\n",
    "        # Load runtime parameters\n",
    "        # settings.weights.set_weights(param)\n",
    "\n",
    "        # Input to the GP\n",
    "        x_gp = casadi.horzcat(x[0], x[1])\n",
    "\n",
    "        # States\n",
    "        vx = x[3]\n",
    "        vy = x[4]\n",
    "        vz = x[5]\n",
    "        phi = x[6]\n",
    "        theta = x[7]\n",
    "        if not self.with_yaw:\n",
    "            v = x[8]\n",
    "            spline = x[9]\n",
    "        else:\n",
    "            psi = x[8]\n",
    "            v = x[9]\n",
    "            spline = x[10]\n",
    "\n",
    "        # Inputs\n",
    "        phi_c = u[0]            # Commanded roll angle around body frame x-axis [rad]\n",
    "        theta_c = u[1]          # Commanded pitch angle around body frame y-axis [rad]\n",
    "        if not self.with_yaw:\n",
    "            thrust_c = u[2]     # Commanded acceleration along body frame z-axis [m/s^2]\n",
    "            a = u[3]\n",
    "        else:\n",
    "            dpsi_c = u[2]       # Commanded yaw rate around body frame z-axis [rad/s]\n",
    "            thrust_c = u[3]     # Commanded acceleration along body frame z-axis [m/s^2]\n",
    "            a = u[4]\n",
    "        # Note: thrust_c = desired thrust (N) / mass (kg)\n",
    "        # The final commanded thrust to PX4 is T_c in [0, 1]\n",
    "        # Find out relation between thrust_c and T_c by:\n",
    "        # - Hovering experiments with different mass: (m+delta_m)*g = T_c' = m*(g+thrust_c)\n",
    "        # - Measuring PWM-thrust relation with force sensor: [0, 1] maps linearly to PWM values\n",
    "        # Note also: a is a virtual control input, also called progress acceleration, allowing to limit the reference\n",
    "        # velocity along the path when v is not included in the standard system states, and therefore included as an\n",
    "        # extra state v\n",
    "\n",
    "        # Identified constants\n",
    "        k_phi = 1.04\n",
    "        tau_phi = 0.17\n",
    "        k_theta = 1.04\n",
    "        tau_theta = 0.17\n",
    "        # kD_x = 0.02  # TODO: minimum value from ETH paper\n",
    "        # kD_y = 0.02  # TODO: minimum value from ETH paper\n",
    "\n",
    "        # Constants\n",
    "        m = 1.9\n",
    "        g = 9.81\n",
    "\n",
    "        # Calculate derivatives\n",
    "        dx = vx\n",
    "        dy = vy\n",
    "        dz = vz\n",
    "\n",
    "        if not self.nonlin:\n",
    "            dvx = g * theta\n",
    "            dvy = -g * phi\n",
    "            # dvx = -kD_x * vx + g * theta\n",
    "            # dvy = -kD_y * vy - g * phi\n",
    "            dvz = thrust_c\n",
    "        else:\n",
    "            dvx = thrust_c * (casadi.sin(phi) * casadi.sin(psi) + casadi.cos(phi) * casadi.sin(theta) * casadi.cos(psi))\n",
    "            dvy = thrust_c * (-casadi.sin(phi) * casadi.cos(psi) + casadi.cos(phi) * casadi.sin(theta) * casadi.sin(psi))\n",
    "            dvz = thrust_c * (casadi.cos(phi) * casadi.cos(theta)) - g\n",
    "        dphi = (k_phi * phi_c - phi) / tau_phi\n",
    "        dtheta = (k_theta * theta_c - theta) / tau_theta\n",
    "        if self.with_yaw:\n",
    "            ddpsi = dpsi_c\n",
    "        # dspline = vy  # TODO Change this value to something else\n",
    "        # v = casadi.norm_2(np.array([vx, vy]))\n",
    "        # v = casadi.norm_2(np.array([vx, vy, vz]))\n",
    "        # dspline = v\n",
    "        # dspline = casadi.sqrt(2)*vx\n",
    "        # dspline = settings.weights.velocity_reference\n",
    "        dv = a\n",
    "        dspline = v\n",
    "\n",
    "        if not self.with_yaw:\n",
    "            return np.array([dx, dy, dz, dvx, dvy, dvz, dphi, dtheta, dv, dspline])\n",
    "        else:\n",
    "            return np.array([dx, dy, dz, dvx, dvy, dvz, dphi, dtheta, ddpsi, dv, dspline])"
   ]
  },
  {
   "cell_type": "code",
   "execution_count": 105,
   "id": "da560bf8",
   "metadata": {},
   "outputs": [],
   "source": [
    "# Linear Gaussian Process Model\n",
    "class DroneGPModel(DynamicModel):\n",
    "\n",
    "    def __init__(self, system, options):\n",
    "        # Check whether model should be nonlinear and whether yaw component should be included or not\n",
    "        self.nonlin = options['nonlin']\n",
    "        self.with_yaw = options['with_yaw']\n",
    "\n",
    "        if not self.with_yaw:\n",
    "            self.states = ['x', 'y', 'z', 'vx', 'vy', 'vz', 'phi', 'theta', 'v', 'spline']\n",
    "            self.states_from_sensor = [True, True, True, True, True, True, True, True, True, False]\n",
    "            self.states_from_sensor_at_infeasible = [True, True, True, True, True, True, True, True, True, False]\n",
    "\n",
    "            self.inputs = ['phi_c', 'theta_c', 'thrust_c', 'a']\n",
    "            self.possible_inputs_to_vehicle = ['phi_c', 'theta_c', 'thrust_c', 'a']\n",
    "        else:\n",
    "            self.states = ['x', 'y', 'z', 'vx', 'vy', 'vz', 'phi', 'theta', 'psi', 'v', 'spline']\n",
    "            self.states_from_sensor = [True, True, True, True, True, True, True, True, True, True, False]\n",
    "            self.states_from_sensor_at_infeasible = [True, True, True, True, True, True, True, True, True, True, False]\n",
    "\n",
    "            self.inputs = ['phi_c', 'theta_c', 'dpsi_c', 'thrust_c', 'a']\n",
    "            self.possible_inputs_to_vehicle = ['phi_c', 'theta_c', 'dpsi_c', 'thrust_c', 'a']\n",
    "\n",
    "        # Constants\n",
    "        self.g = 9.81\n",
    "\n",
    "        # Identified constants\n",
    "        self.tau_phi = 0.17\n",
    "        self.k_phi = 1.04\n",
    "        self.tau_theta = 0.17\n",
    "        self.k_theta = 1.04\n",
    "        self.kD = 0.02  # Drag coefficient\n",
    "\n",
    "        # Initialize continuous matrices\n",
    "        if not self.with_yaw:\n",
    "            self.A = np.zeros([8,8])\n",
    "            self.A[0,3] = 1\n",
    "            self.A[1,4] = 1\n",
    "            self.A[2,5] = 1\n",
    "            self.A[3,7] = self.g\n",
    "            self.A[4,6] = -self.g\n",
    "            self.A[6,6] = -1/self.tau_phi\n",
    "            self.A[7,7] = -1/self.tau_theta\n",
    "            self.B = np.zeros([8,3])\n",
    "            self.B[6,0] = self.k_theta/self.tau_theta\n",
    "            self.B[7,1] = self.k_theta/self.tau_phi\n",
    "            self.Bd = np.zeros([8,2])\n",
    "            self.Bd[3,0] = 1\n",
    "            self.Bd[4,1] = 1\n",
    "        else:\n",
    "            self.A = np.zeros([9,9])\n",
    "            self.A[0,3] = 1\n",
    "            self.A[1,4] = 1\n",
    "            self.A[2,5] = 1\n",
    "            self.A[3,7] = self.g\n",
    "            self.A[4,6] = -self.g\n",
    "            self.A[6,6] = -1/self.tau_phi\n",
    "            self.A[7,7] = -1/self.tau_theta\n",
    "            self.B = np.zeros([9,4])\n",
    "            self.B[5,3] = 1\n",
    "            self.B[6,0] = self.k_theta/self.tau_theta\n",
    "            self.B[7,1] = self.k_theta/self.tau_phi\n",
    "            self.B[8,2] = 1\n",
    "            self.Bd = np.zeros([9,2])\n",
    "            self.Bd[3,0] = 1\n",
    "            self.Bd[4,1] = 1\n",
    "            \n",
    "        print(self.A, self.B)\n",
    "\n",
    "        #Load the trained GP model\n",
    "        #Load the data\n",
    "        data = np.load('/home/johanna/MasterThesis/data/wind_data_4.npz')\n",
    "        data_X = data['X']\n",
    "        data_y = data['y']\n",
    "        inducing_points = torch.FloatTensor(data_X[::int(data_y.shape[0]/30), :])\n",
    "\n",
    "        #Load model in first direction\n",
    "        self.model1 = GPModel(inducing_points=inducing_points)\n",
    "        state_dict = torch.load('/home/johanna/MasterThesis/Pyhton/gpytorch_y1_model.pth')\n",
    "        self.model1.load_state_dict(state_dict)\n",
    "        constraint1 = self.model1.covar_module.raw_outputscale_constraint\n",
    "        length_scale1 = constraint1.transform(state_dict['covar_module.base_kernel.raw_lengthscale']).detach().numpy()[0]\n",
    "        output_scale1 = constraint1.transform(state_dict['covar_module.raw_outputscale']).detach().numpy()\n",
    "        u1 = state_dict['variational_strategy.inducing_points'].detach().numpy()\n",
    "        mu1 = np.array([state_dict['variational_strategy._variational_distribution.variational_mean'].detach().numpy()])\n",
    "        S1 = state_dict['variational_strategy._variational_distribution.chol_variational_covar'].detach().numpy()\n",
    "\n",
    "        self.prediction_model1 = GPpredict_(length_scale1, output_scale1, u1, mu1, S1)\n",
    "\n",
    "        self.model2 = GPModel(inducing_points=inducing_points)\n",
    "        state_dict = torch.load('/home/johanna/MasterThesis/Pyhton/gpytorch_y2_model.pth')\n",
    "        self.model2.load_state_dict(state_dict)\n",
    "        constraint2 = self.model2.covar_module.raw_outputscale_constraint\n",
    "        length_scale2 = constraint2.transform(state_dict['covar_module.base_kernel.raw_lengthscale']).detach().numpy()[0]\n",
    "        output_scale2 = constraint2.transform(state_dict['covar_module.raw_outputscale']).detach().numpy()\n",
    "        u2 = state_dict['variational_strategy.inducing_points'].detach().numpy()\n",
    "        mu2 = np.array(\n",
    "            [state_dict['variational_strategy._variational_distribution.variational_mean'].detach().numpy()])\n",
    "        S2 = state_dict['variational_strategy._variational_distribution.chol_variational_covar'].detach().numpy()\n",
    "\n",
    "        self.prediction_model2 = GPpredict_(length_scale2, output_scale2, u2, mu2, S2)\n",
    "\n",
    "        self.nu = len(self.inputs)\n",
    "        self.nx = len(self.states)\n",
    "        super(DroneGPModel, self).__init__(system)\n",
    "\n",
    "    def continuous_model(self, x, u): #, param, settings):\n",
    "        # Load runtime parameters\n",
    "        #settings.weights.set_weights(param)\n",
    "\n",
    "        # States\n",
    "        if not self.with_yaw:\n",
    "            v = x[8]\n",
    "            spline = x[9]\n",
    "            x_mean = x[:8]\n",
    "            inp = u[:3]\n",
    "        else:\n",
    "            print(\"this\")\n",
    "            v = x[9]\n",
    "            spline = x[10]\n",
    "            x_mean = x[:9]\n",
    "            inp = u[:4]\n",
    "\n",
    "        x_gp = casadi.horzcat(x_mean[0], x_mean[1])\n",
    "        print(x_gp)\n",
    "        mean1 = self.prediction_model1.mean(x_gp)\n",
    "        mean2 = self.prediction_model2.mean(x_gp)\n",
    "        d_mean = casadi.vertcat(mean1, mean2)\n",
    "        print(x_mean.shape)\n",
    "        print(d_mean.shape)\n",
    "        # d_mean = [test(x_gp[0], x_gp[1]),  test(x_gp[0], x_gp[1])]\n",
    "        # print(d_mean)\n",
    "\n",
    "        # Compute the mean of the next state\n",
    "        x_full = casadi.vertcat(x_mean, d_mean)\n",
    "        x_i_next = casadi.mtimes(np.hstack([self.A,self.Bd]), x_full) + casadi.mtimes(self.B, inp)\n",
    "\n",
    "        # Other inputs\n",
    "        if not self.with_yaw:\n",
    "            a = u[3]\n",
    "        else:\n",
    "            a = u[4]\n",
    "        # Note: thrust_c = desired thrust (N) / mass (kg)\n",
    "        # The final commanded thrust to PX4 is T_c in [0, 1]\n",
    "        # Find out relation between thrust_c and T_c by:\n",
    "        # - Hovering experiments with different mass: (m+delta_m)*g = T_c' = m*(g+thrust_c)\n",
    "        # - Measuring PWM-thrust relation with force sensor: [0, 1] maps linearly to PWM values\n",
    "        # Note also: a is a virtual control input, also called progress acceleration, allowing to limit the reference\n",
    "        # velocity along the path when v is not included in the standard system states, and therefore included as an\n",
    "        # extra state v\n",
    "\n",
    "\n",
    "        # dspline = vy  # TODO Change this value to something else\n",
    "        # v = casadi.norm_2(np.array([vx, vy]))\n",
    "        # v = casadi.norm_2(np.array([vx, vy, vz]))\n",
    "        # dspline = v\n",
    "        # dspline = casadi.sqrt(2)*vx\n",
    "        # dspline = settings.weights.velocity_reference\n",
    "        dv = a\n",
    "        dspline = v\n",
    "\n",
    "        if not self.with_yaw:\n",
    "            return np.array([x_i_next[0], x_i_next[1], x_i_next[2], x_i_next[3], x_i_next[4], x_i_next[5], x_i_next[6], x_i_next[7], dv, dspline])\n",
    "        else:\n",
    "            return np.array([x_i_next[0], x_i_next[1], x_i_next[2], x_i_next[3], x_i_next[4], x_i_next[5], x_i_next[6], x_i_next[7], x_i_next[8], dv, dspline])\n",
    "\n",
    "\n",
    "class GPpredict_():\n",
    "    def __init__(self, l, sigma_f, u, mu, S):\n",
    "        self.l = l\n",
    "        self.sigma_f = sigma_f\n",
    "        self.u = u\n",
    "        self.mu = mu\n",
    "        self.S = S\n",
    "        self.Kuu = self.squared_exponential_kernel(u, u) + 1e-03 * np.identity(self.u.shape[-2])\n",
    "        self.inv_L = np.linalg.inv(np.linalg.cholesky(self.Kuu))\n",
    "        self.var = np.matmul(S, np.transpose(S)) - np.identity(S.shape[-1])\n",
    "\n",
    "    def squared_exponential_kernel(self, x_1, x_2=None):\n",
    "        \"\"\"\n",
    "        Anisotropic (diagonal length-scale) matrix squared exponential kernel. Computes a covariance matrix from points\n",
    "        in x_1 and x_2.\n",
    "\n",
    "        Args:\n",
    "            x_1: Array of m points (m x d).\n",
    "            x_2: Array of n points (n x d).\n",
    "\n",
    "        Returns:\n",
    "            Covariance matrix (m x n).\n",
    "        \"\"\"\n",
    "\n",
    "        if isinstance(x_2, casadi.SX):\n",
    "            return self._squared_exponential_kernel_cs(x_1, x_2)\n",
    "\n",
    "        # Length scale parameter\n",
    "        len_scale = self.l\n",
    "\n",
    "        # Vertical variation parameter\n",
    "        sigma_f = self.sigma_f\n",
    "\n",
    "        x_1 = np.atleast_2d(x_1)\n",
    "        length_scale = self._check_length_scale(x_1, len_scale)\n",
    "        if x_2 is None:\n",
    "            dists = pdist(x_1 / length_scale, metric='sqeuclidean')\n",
    "            k = sigma_f * np.exp(-.5 * dists)\n",
    "            # convert from upper-triangular matrix to square matrix\n",
    "            k = squareform(k)\n",
    "            np.fill_diagonal(k, 1)\n",
    "        else:\n",
    "            dists = cdist(x_1 / length_scale , x_2 / length_scale, metric='sqeuclidean')\n",
    "            k = sigma_f * np.exp(-.5 * dists)\n",
    "\n",
    "        return k\n",
    "\n",
    "    def _check_length_scale(self, x, length_scale):\n",
    "        length_scale = np.squeeze(length_scale).astype(float)\n",
    "        if np.ndim(length_scale) > 1:\n",
    "            raise ValueError(\"length_scale cannot be of dimension greater than 1\")\n",
    "        if np.ndim(length_scale) == 1 and x.shape[1] != length_scale.shape[0]:\n",
    "            raise ValueError(\"Anisotropic kernel must have the same number of dimensions as data (%d!=%d)\"\n",
    "                             % (length_scale.shape[0], x.shape[1]))\n",
    "        return length_scale\n",
    "\n",
    "    def _squared_exponential_kernel_cs(self, x_1, x_2):\n",
    "        \"\"\"\n",
    "        Symbolic implementation of the anisotropic squared exponential kernel\n",
    "        :param x_1: Array of m points (m x d).\n",
    "        :param x_2: Array of n points (m x d).\n",
    "        :return: Covariance matrix (m x n).\n",
    "        \"\"\"\n",
    "\n",
    "        # Length scale parameter\n",
    "        len_scale = self.l\n",
    "        # Vertical variation parameter\n",
    "        sigma_f = self.sigma_f\n",
    "\n",
    "        if x_1.shape != x_2.shape and x_2.shape[0] == 1:\n",
    "            tiling_ones = casadi.SX.ones(x_1.shape[0], 1)\n",
    "            d = x_1 - casadi.mtimes(tiling_ones, x_2)\n",
    "            dist = casadi.sum2(d ** 2 / casadi.mtimes(tiling_ones, casadi.SX(len_scale ** 2).T))\n",
    "        else:\n",
    "            d = x_1 - x_2\n",
    "            dist = casadi.sum1(d ** 2 / casadi.SX(len_scale ** 2).T)\n",
    "\n",
    "        return sigma_f * casadi.SX.exp(-.5 * dist)\n",
    "\n",
    "    def predict(self, X):\n",
    "        Kxu = self.squared_exponential_kernel(self.u, X)\n",
    "        Kxx = self.squared_exponential_kernel(X, X) + 1e-04 * np.identity(X.shape[-2])\n",
    "        interp_term = casadi.mtimes(self.inv_L, Kxu)\n",
    "        mean = casadi.mtimes(self.mu, interp_term)\n",
    "        covar = Kxx + casadi.mtimes(interp_term.T, casadi.mtimes(self.var, interp_term))\n",
    "        return mean, covar\n",
    "\n",
    "    def mean(self, X):\n",
    "        Kxu = self.squared_exponential_kernel(self.u, X)\n",
    "        interp_term = casadi.mtimes(self.inv_L, Kxu)\n",
    "        mean = casadi.mtimes(self.mu, interp_term)\n",
    "        return mean\n",
    "\n",
    "    def covar(self, X):\n",
    "        Kxu = self.squared_exponential_kernel(self.u, X)\n",
    "        Kxx = self.squared_exponential_kernel(X, X) + 1e-04 * np.identity(X.shape[-2])\n",
    "        interp_term = casadi.mtimes(self.inv_L, Kxu)\n",
    "        covar = Kxx + casadi.mtimes(interp_term.T, casadi.mtimes(self.var, interp_term))\n",
    "        return covar\n",
    "\n",
    "class GPModel(ApproximateGP):\n",
    "    def __init__(self, inducing_points):\n",
    "        variational_distribution = CholeskyVariationalDistribution(inducing_points.size(0))\n",
    "        variational_strategy = VariationalStrategy(self, inducing_points, variational_distribution, learn_inducing_locations=True)\n",
    "        super(GPModel, self).__init__(variational_strategy)\n",
    "        self.mean_module = gpytorch.means.ZeroMean()\n",
    "        self.covar_module = gpytorch.kernels.ScaleKernel(gpytorch.kernels.RBFKernel(ard_num_dims=2))\n",
    "\n",
    "    def forward(self, x):\n",
    "        mean_x = self.mean_module(x)\n",
    "        covar_x = self.covar_module(x)\n",
    "        return gpytorch.distributions.MultivariateNormal(mean_x, covar_x)"
   ]
  },
  {
   "cell_type": "code",
   "execution_count": 106,
   "id": "07354ff0",
   "metadata": {},
   "outputs": [],
   "source": [
    "class Hovergames:\n",
    "\n",
    "    def __str__(self):\n",
    "        return self.name\n",
    "\n",
    "    def __init__(self):\n",
    "        self.name = 'Hovergames'\n",
    "        self.lower_bound = dict()\n",
    "        self.upper_bound = dict()\n",
    "\n",
    "        # Maximum roll and pitch angle\n",
    "        max_angle = 50  # deg\n",
    "        max_angle_cmd = max_angle - 10  # deg\n",
    "\n",
    "        max_yawrate = 15  # deg/s\n",
    "        max_yawrate_cmd = max_yawrate - 5  # deg/s\n",
    "\n",
    "        self.lower_bound['x'] = -2000.0\n",
    "        self.upper_bound['x'] = 2000.0\n",
    "\n",
    "        self.lower_bound['y'] = -2000.0\n",
    "        self.upper_bound['y'] = 2000.0\n",
    "\n",
    "        self.lower_bound['z'] = -1.0\n",
    "        self.upper_bound['z'] = 3.0\n",
    "\n",
    "        self.lower_bound['vx'] = -4.0\n",
    "        self.upper_bound['vx'] = 4.0\n",
    "\n",
    "        self.lower_bound['vy'] = -4.0\n",
    "        self.upper_bound['vy'] = 4.0\n",
    "\n",
    "        self.lower_bound['vz'] = -1.0\n",
    "        self.upper_bound['vz'] = 4.0\n",
    "\n",
    "        self.lower_bound['phi'] = -np.pi / 180 * max_angle\n",
    "        self.upper_bound['phi'] = np.pi / 180 * max_angle\n",
    "\n",
    "        self.lower_bound['theta'] = -np.pi / 180 * max_angle\n",
    "        self.upper_bound['theta'] = np.pi / 180 * max_angle\n",
    "\n",
    "        self.lower_bound['psi'] = -np.pi / 180 * max_angle\n",
    "        self.upper_bound['psi'] = np.pi / 180 * max_angle\n",
    "\n",
    "        self.lower_bound['v'] = -1.0\n",
    "        self.upper_bound['v'] = 5.0\n",
    "\n",
    "        self.lower_bound['spline'] = -1.0\n",
    "        self.upper_bound['spline'] = 10000.0\n",
    "\n",
    "        self.lower_bound['phi_c'] = -np.pi / 180 * max_angle_cmd\n",
    "        self.upper_bound['phi_c'] = np.pi / 180 * max_angle_cmd\n",
    "\n",
    "        self.lower_bound['theta_c'] = -np.pi / 180 * max_angle_cmd\n",
    "        self.upper_bound['theta_c'] = np.pi / 180 * max_angle_cmd\n",
    "\n",
    "        self.lower_bound['dpsi_c'] = -np.pi / 180 * max_yawrate_cmd\n",
    "        self.upper_bound['dpsi_c'] = np.pi / 180 * max_yawrate_cmd\n",
    "\n",
    "        self.lower_bound['thrust_c'] = 5\n",
    "        self.upper_bound['thrust_c'] = 15.0\n",
    "\n",
    "        self.lower_bound['a'] = -1.0\n",
    "        self.upper_bound['a'] = 5.0\n"
   ]
  },
  {
   "cell_type": "code",
   "execution_count": 107,
   "id": "342f6717",
   "metadata": {},
   "outputs": [],
   "source": [
    "# --- Model options --- #\n",
    "model_options = dict()\n",
    "model_options['nonlin'] = True\n",
    "model_options['with_yaw'] = True\n",
    "if model_options['nonlin'] and not model_options['with_yaw']:\n",
    "    exit(\"Nonlinear model check failed: with_yaw should be set to True in order to use the nonlinear model!\"\n",
    "         \" Check hovergames_settings.py\")"
   ]
  },
  {
   "cell_type": "code",
   "execution_count": 108,
   "id": "557a356a",
   "metadata": {},
   "outputs": [
    {
     "name": "stdout",
     "output_type": "stream",
     "text": [
      "[[ 0.          0.          0.          1.          0.          0.\n",
      "   0.          0.          0.        ]\n",
      " [ 0.          0.          0.          0.          1.          0.\n",
      "   0.          0.          0.        ]\n",
      " [ 0.          0.          0.          0.          0.          1.\n",
      "   0.          0.          0.        ]\n",
      " [ 0.          0.          0.          0.          0.          0.\n",
      "   0.          9.81        0.        ]\n",
      " [ 0.          0.          0.          0.          0.          0.\n",
      "  -9.81        0.          0.        ]\n",
      " [ 0.          0.          0.          0.          0.          0.\n",
      "   0.          0.          0.        ]\n",
      " [ 0.          0.          0.          0.          0.          0.\n",
      "  -5.88235294  0.          0.        ]\n",
      " [ 0.          0.          0.          0.          0.          0.\n",
      "   0.         -5.88235294  0.        ]\n",
      " [ 0.          0.          0.          0.          0.          0.\n",
      "   0.          0.          0.        ]] [[0.         0.         0.         0.        ]\n",
      " [0.         0.         0.         0.        ]\n",
      " [0.         0.         0.         0.        ]\n",
      " [0.         0.         0.         0.        ]\n",
      " [0.         0.         0.         0.        ]\n",
      " [0.         0.         0.         1.        ]\n",
      " [6.11764706 0.         0.         0.        ]\n",
      " [0.         6.11764706 0.         0.        ]\n",
      " [0.         0.         1.         0.        ]]\n"
     ]
    }
   ],
   "source": [
    "robot = Hovergames() \n",
    "model = DroneModel(system=robot, options=model_options)\n",
    "modelGP = DroneGPModel(system=robot, options=model_options)"
   ]
  },
  {
   "cell_type": "code",
   "execution_count": 114,
   "id": "d3c35fcb",
   "metadata": {},
   "outputs": [
    {
     "name": "stdout",
     "output_type": "stream",
     "text": [
      "[SX(w_3) SX(w_4) SX(w_5) SX(0) SX(0) SX(-9.81) SX((-(w_6/0.17)))\n",
      " SX((-(w_7/0.17))) 0 0 SX(w_9)]\n",
      "this\n",
      "[[w_0, w_1]]\n",
      "(9, 1)\n",
      "(2, 1)\n",
      "[SX(w_3) SX(w_4) SX(w_5)\n",
      " SX(@1=0.30591, @2=-0.5, @3=30.9339, @4=4.78953, @5=(@1*exp((@2*((sq((0.623751-w_0))/@3)+(sq((1.67351-w_1))/@4))))), @6=(@1*exp((@2*((sq((2.49935-w_0))/@3)+(sq((-1.8205-w_1))/@4))))), @7=(@1*exp((@2*((sq((8.24224-w_0))/@3)+(sq((-0.135562-w_1))/@4))))), @8=(@1*exp((@2*((sq((7.56746-w_0))/@3)+(sq((6.63626-w_1))/@4))))), @9=(@1*exp((@2*((sq((2.29742-w_0))/@3)+(sq((9.2219-w_1))/@4))))), @10=(@1*exp((@2*((sq((-6.28364-w_0))/@3)+(sq((9.36616-w_1))/@4))))), @11=(@1*exp((@2*((sq((-5.9367-w_0))/@3)+(sq((1.53678-w_1))/@4))))), @12=(@1*exp((@2*((sq((-4.80235-w_0))/@3)+(sq((-1.74116-w_1))/@4))))), @13=(@1*exp((@2*((sq((-4.53498-w_0))/@3)+(sq((-3.14509-w_1))/@4))))), @14=(@1*exp((@2*((sq((-5.7966-w_0))/@3)+(sq((-10.0445-w_1))/@4))))), @15=(@1*exp((@2*((sq((-0.376693-w_0))/@3)+(sq((-9.96826-w_1))/@4))))), @16=(@1*exp((@2*((sq((4.42149-w_0))/@3)+(sq((-9.54355-w_1))/@4))))), @17=(@1*exp((@2*((sq((8.53755-w_0))/@3)+(sq((-9.72062-w_1))/@4))))), @18=(@1*exp((@2*((sq((3.65614-w_0))/@3)+(sq((-5.30026-w_1))/@4))))), @19=(@1*exp((@2*((sq((-1.57707-w_0))/@3)+(sq((-0.581915-w_1))/@4))))), @20=(@1*exp((@2*((sq((-9.0627-w_0))/@3)+(sq((-1.92385-w_1))/@4))))), @21=(@1*exp((@2*((sq((-9.84399-w_0))/@3)+(sq((0.332961-w_1))/@4))))), @22=(@1*exp((@2*((sq((-9.49027-w_0))/@3)+(sq((3.4844-w_1))/@4))))), @23=(@1*exp((@2*((sq((-8.97862-w_0))/@3)+(sq((6.79351-w_1))/@4))))), @24=(@1*exp((@2*((sq((-2.46276-w_0))/@3)+(sq((5.32705-w_1))/@4))))), @25=(@1*exp((@2*((sq((8.45131-w_0))/@3)+(sq((9.5683-w_1))/@4))))), @26=(@1*exp((@2*((sq((9.60026-w_0))/@3)+(sq((3.70801-w_1))/@4))))), @27=(@1*exp((@2*((sq((9.39901-w_0))/@3)+(sq((-3.30515-w_1))/@4))))), @28=(@1*exp((@2*((sq((9.6274-w_0))/@3)+(sq((-5.73801-w_1))/@4))))), @29=(@1*exp((@2*((sq((5.7499-w_0))/@3)+(sq((2.59246-w_1))/@4))))), @30=(@1*exp((@2*((sq((1.9121-w_0))/@3)+(sq((4.73523-w_1))/@4))))), @31=(@1*exp((@2*((sq((-8.78-w_0))/@3)+(sq((-3.05338-w_1))/@4))))), @32=(@1*exp((@2*((sq((-5.16362-w_0))/@3)+(sq((-4.19524-w_1))/@4))))), @33=(@1*exp((@2*((sq((-8.96925-w_0))/@3)+(sq((-8.39279-w_1))/@4))))), @34=(@1*exp((@2*((sq((-2.03988-w_0))/@3)+(sq((-6.64423-w_1))/@4))))), ((9.81*w_7)+(((((((((((((((((((((((((((((((2.72748*(1.80507*@5))+(1.97857*((-0.492594*@5)+(1.87108*@6))))+(-0.906995*(((-0.356735*@5)+(-0.793477*@6))+(2.04063*@7))))+(-0.121697*((((-0.0668436*@5)+(0.0189153*@6))+(-0.00459392*@7))+(1.80626*@8))))+(0.0270349*(((((0.0170765*@5)+(-0.00533843*@6))+(0.00244733*@7))+(-0.603122*@8))+(1.90305*@9))))+(-0.0541895*((((((-0.00618465*@5)+(0.00170133*@6))+(-0.000304231*@7))+(0.159008*@8))+(-0.625222*@9))+(1.9004*@10))))+(0.786095*(((((((-1.10636*@5)+(-0.0242483*@6))+(0.256385*@7))+(0.0320871*@8))+(-0.00876285*@9))+(-0.000421813*@10))+(2.09732*@11))))+(2.19869*((((((((0.100701*@5)+(-0.997358*@6))+(0.32092*@7))+(-0.00412159*@8))+(0.0012844*@9))+(0.000648697*@10))+(-0.637265*@11))+(2.12298*@12))))+(-4.1377*((((((((((((((((((((((((((((0.0733317*@5)+(-0.156913*@6))+(0.0764607*@7))+(-0.00528485*@8))+(0.00150961*@9))+(-0.00128854*@10))+(0.530177*@11))+(-2.73441*@12))+(3.22626*@13))+(-3.27031e-17*@14))+(-1.15312e-16*@15))+(1.36577e-17*@16))+(-3.23912e-17*@17))+(-1.00598e-16*@18))+(-3.04417e-16*@19))+(3.24865e-16*@20))+(4.82524e-17*@21))+(-2.16331e-17*@22))+(-4.66652e-18*@23))+(-3.17547e-18*@24))+(-1.63647e-18*@25))+(4.58689e-18*@26))+(1.08774e-17*@27))+(4.01256e-18*@28))+(-1.51059e-17*@29))+(-3.31987e-18*@30))+(-1.22013e-16*@31))+(-1.05268e-15*@32))))+(0.0878294*((((((((((((((((((((((((((((-0.00487669*@5)+(0.0147193*@6))+(-0.00614758*@7))+(0.000332934*@8))+(-9.56304e-05*@9))+(7.228e-05*@10))+(-0.0277472*@11))+(0.152289*@12))+(-0.199765*@13))+(1.80859*@33))+(6.32754e-18*@15))+(-3.71888e-18*@16))+(1.2359e-18*@17))+(3.09025e-18*@18))+(1.87723e-17*@19))+(-2.06892e-17*@20))+(-1.83912e-18*@21))+(7.81215e-19*@22))+(6.94106e-19*@23))+(1.33435e-19*@24))+(8.54201e-20*@25))+(1.01195e-19*@26))+(-9.16093e-19*@27))+(-5.76517e-19*@28))+(3.76079e-19*@29))+(1.37727e-19*@30))+(1.20895e-17*@31))+(5.05814e-17*@32))))+(0.160528*(((((((((((((((((((((((((((((0.0030302*@5)+(-0.00987787*@6))+(0.00403447*@7))+(-0.000204354*@8))+(5.88065e-05*@9))+(-4.28138e-05*@10))+(0.0160457*@11))+(-0.0892495*@12))+(0.119628*@13))+(-1.49741*@33))+(2.3436*@14))+(-5.09091e-18*@15))+(1.46857e-18*@16))+(-1.28664e-18*@17))+(-4.50601e-18*@18))+(-1.22546e-17*@19))+(1.65378e-17*@20))+(-1.62514e-18*@21))+(1.71664e-19*@22))+(-4.04484e-19*@23))+(-2.72247e-19*@24))+(-6.53285e-20*@25))+(7.60086e-20*@26))+(4.95729e-19*@27))+(8.15234e-19*@28))+(-1.08308e-18*@29))+(-1.85037e-19*@30))+(-1.31599e-17*@31))+(-1.63109e-17*@32))))+(-0.0728968*(((((((((((((((((((((((((((((-0.00150463*@5)+(0.00318235*@6))+(-0.00145314*@7))+(0.000106919*@8))+(-3.04868e-05*@9))+(2.61588e-05*@10))+(-0.0107828*@11))+(0.0585669*@12))+(-0.0753538*@13))+(0.653074*@33))+(-1.89462*@14))+(2.38701*@15))+(-1.12204e-18*@16))+(6.45004e-19*@17))+(1.99302e-18*@18))+(1.37476e-17*@19))+(-9.54678e-18*@20))+(-3.00675e-19*@21))+(7.57291e-19*@22))+(2.86531e-19*@23))+(-9.3466e-20*@24))+(4.54284e-20*@25))+(-1.28308e-19*@26))+(-4.42168e-19*@27))+(-6.92378e-19*@28))+(5.10071e-19*@29))+(1.17148e-19*@30))+(5.49993e-18*@31))+(1.65758e-17*@32))))+(0.106528*(((((((((((((((((((((((((((((0.00152153*@5)+(-0.0072485*@6))+(0.00263918*@7))+(-9.25693e-05*@8))+(2.69771e-05*@9))+(-1.39582e-05*@10))+(0.00380792*@11))+(-0.0222408*@12))+(0.0321531*@13))+(-0.400882*@33))+(1.37056*@14))+(-2.58756*@15))+(2.7168*@16))+(-5.20689e-16*@17))+(-1.00389e-18*@18))+(-4.0287e-18*@19))+(3.82942e-18*@20))+(-1.35402e-19*@21))+(-4.96429e-20*@22))+(-1.14444e-19*@23))+(-1.55024e-20*@24))+(-2.44484e-20*@25))+(1.24064e-19*@26))+(2.35169e-20*@27))+(7.18036e-19*@28))+(-2.28494e-19*@29))+(-1.68717e-19*@30))+(-3.64132e-18*@31))+(-8.04238e-18*@32))))+(-0.178341*(((((((((((((((((((((((((((((-0.000920308*@5)+(0.00523913*@6))+(-0.00197046*@7))+(5.54512e-05*@8))+(-1.63353e-05*@9))+(6.74524e-06*@10))+(-0.001259*@11))+(0.00805968*@12))+(-0.0133423*@13))+(0.267995*@33))+(-0.974013*@14))+(2.21629*@15))+(-3.82819*@16))+(3.3039*@17))+(5.18856e-19*@18))+(2.08087e-18*@19))+(-2.78269e-18*@20))+(2.32331e-19*@21))+(-8.54786e-20*@22))+(7.69667e-20*@23))+(-6.43411e-20*@24))+(2.0123e-20*@25))+(-5.88615e-20*@26))+(-4.99747e-20*@27))+(-4.02564e-19*@28))+(8.52074e-20*@29))+(1.64973e-19*@30))+(2.33929e-18*@31))+(3.14785e-18*@32))))+(0.597025*(((((((((((((((((((((((((((((0.103131*@5)+(-0.656964*@6))+(0.159389*@7))+(-0.00456384*@8))+(0.00133659*@9))+(-0.000139331*@10))+(-0.164127*@11))+(0.772898*@12))+(-0.784844*@13))+(0.0102894*@33))+(-0.123689*@14))+(0.304707*@15))+(-0.668725*@16))+(0.252678*@17))+(1.97706*@18))+(2.77576e-17*@19))+(-1.52634e-17*@20))+(-2.27971e-17*@21))+(8.40774e-18*@22))+(1.76919e-18*@23))+(-1.77109e-18*@24))+(1.13259e-19*@25))+(-1.51835e-18*@26))+(-5.71395e-18*@27))+(8.69064e-19*@28))+(9.72347e-18*@29))+(6.82232e-19*@30))+(4.45994e-18*@31))+(3.1908e-16*@32))))+(1.28217*(((((((((((((((((((((((((((((-1.48228*@5)+(-2.02545*@6))+(0.434278*@7))+(0.048721*@8))+(-0.0131694*@9))+(0.00471008*@10))+(-0.249369*@11))+(-3.86518*@12))+(1.84271*@13))+(-0.0823228*@33))+(0.0546853*@14))+(-0.0155419*@15))+(-0.0377824*@16))+(0.014898*@17))+(0.191977*@18))+(4.83265*@19))+(1.08036e-16*@20))+(5.5536e-17*@21))+(-8.64486e-18*@22))+(-2.96238e-18*@23))+(-1.32639e-18*@24))+(-6.60625e-19*@25))+(-6.66221e-19*@26))+(1.40374e-17*@27))+(-6.51006e-18*@28))+(-8.50041e-18*@29))+(4.88929e-18*@30))+(-3.51774e-17*@31))+(-5.03637e-16*@32))))+(0.971027*(((((((((((((((((((((((((((((-0.493475*@5)+(-0.0787887*@6))+(-0.12474*@7))+(0.018354*@8))+(-0.00507912*@9))+(0.00199982*@10))+(-0.251469*@11))+(-4.44227*@12))+(0.704131*@13))+(-0.0661578*@33))+(0.051816*@14))+(-0.0255976*@15))+(0.00565796*@16))+(-0.00245599*@17))+(0.0401657*@18))+(2.33531*@19))+(3.19749*@20))+(1.89202e-17*@21))+(-2.66982e-18*@22))+(-1.34318e-18*@23))+(-1.5631e-18*@24))+(-1.69011e-19*@25))+(2.79117e-19*@26))+(3.51429e-18*@27))+(-8.08232e-19*@28))+(-6.25484e-18*@29))+(2.0648e-18*@30))+(4.82919e-18*@31))+(-2.56805e-16*@32))))+(1.23294*(((((((((((((((((((((((((((((0.698578*@5)+(-0.25425*@6))+(-0.077575*@7))+(-0.01834*@8))+(0.00514814*@9))+(0.00124106*@10))+(-2.19368*@11))+(-0.262855*@12))+(0.959219*@13))+(-0.0211199*@33))+(0.020089*@14))+(-0.0235965*@15))+(0.0310581*@16))+(-0.0106621*@17))+(-0.0832183*@18))+(0.204602*@19))+(-1.86043*@20))+(3.32155*@21))+(-5.71692e-18*@22))+(-1.42923e-18*@23))+(6.98762e-19*@24))+(-2.60704e-19*@25))+(6.87131e-19*@26))+(5.5449e-18*@27))+(-8.2243e-19*@28))+(-5.90077e-18*@29))+(2.82252e-18*@30))+(1.48257e-17*@31))+(-2.72934e-16*@32))))+(-0.423476*((((((((((((((((((((((((((((0.235904*@5)+(-0.373665*@6))+(-0.0104343*@7))+(-0.0132249*@8))+(0.0130914*@9))+(-0.0530219*@10))+(-1.72595*@11))+(0.0791398*@12))+(-0.228697*@13))+(0.0092523*@33))+(-0.0126076*@14))+(0.0185043*@15))+(-0.0334045*@16))+(0.0122809*@17))+(0.0987792*@18))+(0.734927*@19))+(0.159384*@20))+(0.0308115*@21))+(2.27812*@22))+(-1.50178e-18*@24))+(1.6073e-19*@25))+(1.16931e-18*@26))+(-2.07707e-18*@27))+(-1.32856e-18*@28))+(-8.78729e-19*@29))+(7.75945e-19*@30))+(-1.53526e-17*@31))+(1.89339e-16*@32))))+(0.487523*(((((((((((((((((((((((((((((-0.0742899*@5)+(0.0981568*@6))+(0.00597341*@7))+(-0.0563839*@8))+(0.173771*@9))+(-1.00606*@10))+(0.495774*@11))+(-0.0688671*@12))+(0.112238*@13))+(-0.00407926*@33))+(0.00491985*@14))+(-0.0066106*@15))+(0.0111625*@16))+(-0.0040761*@17))+(-0.0322275*@18))+(-0.189083*@19))+(-0.099113*@20))+(0.105566*@21))+(-0.952556*@22))+(2.19659*@23))+(4.15325e-19*@24))+(-7.57867e-20*@25))+(-5.49879e-19*@26))+(4.88101e-19*@27))+(9.82275e-19*@28))+(1.38115e-19*@29))+(-2.79301e-19*@30))+(7.00847e-18*@31))+(-6.09494e-17*@32))))+(0.0908496*(((((((((((((((((((((((((((((-0.628964*@5)+(-0.247148*@6))+(0.130438*@7))+(-0.259502*@8))+(-0.197816*@9))+(0.104128*@10))+(-0.213046*@11))+(-0.664644*@12))+(0.263948*@13))+(-0.0108931*@33))+(0.00776693*@14))+(-0.00351179*@15))+(-0.00174706*@16))+(0.000758026*@17))+(0.0152641*@18))+(0.819085*@19))+(0.0159913*@20))+(0.291659*@21))+(-0.363489*@22))+(-0.758147*@23))+(2.14118*@24))+(-1.30475e-19*@25))+(-1.44972e-19*@26))+(1.85562e-18*@27))+(6.7159e-19*@28))+(-1.51189e-18*@29))+(-4.34001e-19*@30))+(7.11027e-18*@31))+(-1.18487e-16*@32))))+(0.0193784*(((((((((((((((((((((((((((((-0.0243229*@5)+(-0.0220059*@6))+(0.0111785*@7))+(-0.591151*@8))+(-1.14664*@9))+(0.327534*@10))+(-0.0548212*@11))+(-0.0283758*@12))+(0.013911*@13))+(-0.000440497*@33))+(0.000218382*@14))+(7.61746e-05*@15))+(-0.000586554*@16))+(0.000225981*@17))+(0.00226003*@18))+(0.0518333*@19))+(-0.0103933*@20))+(0.0393056*@21))+(-0.0102572*@22))+(-0.157953*@23))+(0.241478*@24))+(2.26996*@25))+(-2.69182e-20*@26))+(6.1526e-20*@27))+(1.73191e-19*@28))+(2.42407e-20*@29))+(-4.29599e-20*@30))+(9.42624e-19*@31))+(-5.89215e-18*@32))))+(0.0187085*(((((((((((((((((((((((((((((-0.524347*@5)+(0.158381*@6))+(-0.415694*@7))+(-0.916288*@8))+(0.127558*@9))+(-0.038643*@10))+(0.262012*@11))+(-0.513604*@12))+(0.0829204*@13))+(-0.00435759*@33))+(0.00506374*@14))+(-0.00611303*@15))+(0.0102847*@16))+(-0.00379224*@17))+(-0.0294055*@18))+(0.419925*@19))+(0.227622*@20))+(-0.146469*@21))+(-0.0620904*@22))+(0.00737756*@23))+(0.0606136*@24))+(0.243513*@25))+(2.0728*@26))+(3.37092e-19*@27))+(1.27137e-19*@28))+(-6.84126e-19*@29))+(2.59392e-19*@30))+(5.77772e-19*@31))+(-2.14881e-17*@32))))+(-0.0866027*(((((((((((((((((((((((((((((0.0418722*@5)+(-0.91421*@6))+(-0.527993*@7))+(-0.0471453*@8))+(0.00264923*@9))+(0.00755531*@10))+(-0.368394*@11))+(-0.732887*@12))+(0.634861*@13))+(-0.0154939*@33))+(0.043204*@14))+(-0.0910432*@15))+(0.217812*@16))+(-0.106617*@17))+(-0.721043*@18))+(0.966729*@19))+(-0.0933084*@20))+(0.214218*@21))+(0.096259*@22))+(-0.0265426*@23))+(0.0156405*@24))+(0.0140861*@25))+(0.108467*@26))+(2.20276*@27))+(4.30359e-19*@28))+(-5.2107e-18*@29))+(7.60859e-19*@30))+(-2.29366e-17*@31))+(-2.43898e-16*@32))))+(-0.35743*(((((((((((((((((((((((((((((-0.0230417*@5)+(0.71279*@6))+(0.17457*@7))+(0.0154648*@8))+(0.000538791*@9))+(-0.00999494*@10))+(0.222398*@11))+(-0.0111034*@12))+(0.217858*@13))+(0.037703*@33))+(-0.0641985*@14))+(0.0746528*@15))+(0.154452*@16))+(-0.496573*@17))+(-1.12807*@18))+(-0.520562*@19))+(-0.0638827*@20))+(0.0139809*@21))+(-0.0988356*@22))+(0.0276496*@23))+(-0.00470768*@24))+(-0.00520552*@25))+(-0.0357956*@26))+(-1.22618*@27))+(2.55326*@28))+(-2.21893e-18*@29))+(-1.07359e-21*@30))+(1.77474e-17*@31))+(-7.70438e-17*@32))))+(0.837387*(((((((((((((((((((((((((((((-3.04453*@5)+(-0.132164*@6))+(-0.767027*@7))+(0.337521*@8))+(-0.0510691*@9))+(-0.00508538*@10))+(1.22507*@11))+(-1.70117*@12))+(0.385478*@13))+(-0.0217963*@33))+(0.0227486*@14))+(-0.0232995*@15))+(0.0251693*@16))+(0.00622834*@17))+(-0.0409594*@18))+(1.81538*@19))+(0.689924*@20))+(-0.661085*@21))+(-0.186894*@22))+(0.0665255*@23))+(-0.0749681*@24))+(-0.0646615*@25))+(-2.33083*@26))+(0.284623*@27))+(-0.105988*@28))+(4.1499*@29))+(8.97966e-19*@30))+(-1.4405e-17*@31))+(-1.25866e-16*@32))))+(-0.572537*(((((((((((((((((((((((((((((-0.191822*@5)+(-0.231691*@6))+(0.593228*@7))+(-1.10146*@8))+(0.0834768*@9))+(-0.0587573*@10))+(-0.00803472*@11))+(-0.382162*@12))+(0.112656*@13))+(-0.00664174*@33))+(0.00118066*@14))+(0.00687187*@15))+(-0.0162855*@16))+(-0.00211357*@17))+(0.0480431*@18))+(0.481874*@19))+(0.151421*@20))+(-0.123732*@21))+(0.30851*@22))+(0.610839*@23))+(-2.52912*@24))+(0.290855*@25))+(0.362701*@26))+(-0.156133*@27))+(0.0560771*@28))+(-1.65292*@29))+(3.71077*@30))+(3.21748e-17*@31))+(-1.19062e-16*@32))))+(-0.2794*(((((((((((((((((((((((((((((0.734882*@5)+(0.564603*@6))+(-0.0583672*@7))+(0.00727828*@8))+(-0.00122095*@9))+(-0.0210277*@10))+(-0.849714*@11))+(4.87406*@12))+(-4.33638*@13))+(-0.201808*@33))+(0.148251*@14))+(-0.0383623*@15))+(-0.0533261*@16))+(0.0408323*@17))+(0.420373*@18))+(-1.70165*@19))+(-7.23767*@20))+(1.9434*@21))+(-0.148856*@22))+(0.0220823*@23))+(0.141078*@24))+(-0.00164121*@25))+(0.141703*@26))+(-0.133776*@27))+(-0.147812*@28))+(-0.28855*@29))+(-0.133075*@30))+(6.68726*@31))+(8.66877e-16*@32))))+(3.94522*(((((((((((((((((((((((((((((0.425976*@5)+(1.18234*@6))+(-0.206069*@7))+(0.0144148*@8))+(0.00646199*@9))+(0.0257831*@10))+(-0.0370834*@11))+(4.98222*@12))+(-8.36783*@13))+(-0.644761*@33))+(0.479891*@14))+(-0.367059*@15))+(0.304435*@16))+(-0.154009*@17))+(-0.523236*@18))+(-1.95416*@19))+(1.3457*@20))+(-0.869164*@21))+(0.233347*@22))+(-0.0588092*@23))+(-0.0332094*@24))+(-0.00743579*@25))+(0.0546661*@26))+(-0.165547*@27))+(0.275006*@28))+(-0.0797044*@29))+(-0.0668123*@30))+(-2.16293*@31))+(6.57091*@32))))+(-1.4991*((((((((((((((((((((((((((((((0.0366547*@5)+(0.128927*@6))+(-0.107694*@7))+(0.00787771*@8))+(0.00245276*@9))+(-0.0160228*@10))+(0.0543511*@11))+(-1.03936*@12))+(3.36586*@13))+(-0.690712*@33))+(0.35731*@14))+(-0.853645*@15))+(0.0464594*@16))+(0.062745*@17))+(-1.36019*@18))+(-0.0398961*@19))+(-1.44859*@20))+(0.462488*@21))+(-0.141573*@22))+(0.0326261*@23))+(0.0387727*@24))+(-0.00301685*@25))+(0.00425714*@26))+(0.213358*@27))+(0.36011*@28))+(0.0305036*@29))+(-0.0511525*@30))+(1.89694*@31))+(-4.10541*@32))+(3.00888*@34))))+(1.35966*(((((((((((((((((((((((((((((((-0.617859*@5)+(-6.0425*@6))+(-1.44709*@7))+(0.0495657*@8))+(-0.0157881*@9))+(0.0273428*@10))+(-0.618787*@11))+(-2.66358*@12))+(3.53292*@13))+(0.0405227*@33))+(-0.0546501*@14))+(-0.00575603*@15))+(0.0156409*@16))+(-0.140677*@17))+(-0.465493*@18))+(3.44757*@19))+(0.204271*@20))+(0.235176*@21))+(0.196741*@22))+(-0.116221*@23))+(0.24413*@24))+(-0.003182*@25))+(-0.218343*@26))+(-3.78993*@27))+(1.02946*@28))+(0.87944*@29))+(-0.290447*@30))+(-0.312671*@31))+(-1.54473*@32))+(0.275562*@34))+(7.79889*(@1*exp((@2*((sq((6.20881-w_0))/@3)+(sq((-2.24475-w_1))/@4)))))))))))\n",
      " SX(@1=0.037739, @2=-0.5, @3=34.0997, @4=35.2736, @5=(@1*exp((@2*((sq((0.105601-w_0))/@3)+(sq((0.645528-w_1))/@4))))), @6=(@1*exp((@2*((sq((3.60085-w_0))/@3)+(sq((-2.19969-w_1))/@4))))), @7=(@1*exp((@2*((sq((9.30025-w_0))/@3)+(sq((-0.252833-w_1))/@4))))), @8=(@1*exp((@2*((sq((6.02113-w_0))/@3)+(sq((8.0062-w_1))/@4))))), @9=(@1*exp((@2*((sq((1.96426-w_0))/@3)+(sq((10.0051-w_1))/@4))))), @10=(@1*exp((@2*((sq((-4.99337-w_0))/@3)+(sq((9.51463-w_1))/@4))))), @11=(@1*exp((@2*((sq((-5.95007-w_0))/@3)+(sq((4.30585-w_1))/@4))))), @12=(@1*exp((@2*((sq((-4.85155-w_0))/@3)+(sq((-1.05789-w_1))/@4))))), @13=(@1*exp((@2*((sq((-5.79064-w_0))/@3)+(sq((-3.60068-w_1))/@4))))), @14=(@1*exp((@2*((sq((-9.58731-w_0))/@3)+(sq((-9.72606-w_1))/@4))))), @15=(@1*exp((@2*((sq((-4.69302-w_0))/@3)+(sq((-10.4867-w_1))/@4))))), @16=(@1*exp((@2*((sq((0.339646-w_0))/@3)+(sq((-10.6122-w_1))/@4))))), @17=(@1*exp((@2*((sq((5.12495-w_0))/@3)+(sq((-10.0908-w_1))/@4))))), @18=(@1*exp((@2*((sq((8.88936-w_0))/@3)+(sq((-10.3912-w_1))/@4))))), @19=(@1*exp((@2*((sq((3.75048-w_0))/@3)+(sq((-6.39295-w_1))/@4))))), @20=(@1*exp((@2*((sq((-1.09489-w_0))/@3)+(sq((-3.51479-w_1))/@4))))), @21=(@1*exp((@2*((sq((-10.1785-w_0))/@3)+(sq((-3.08973-w_1))/@4))))), @22=(@1*exp((@2*((sq((-10.1425-w_0))/@3)+(sq((1.14174-w_1))/@4))))), @23=(@1*exp((@2*((sq((-10.272-w_0))/@3)+(sq((5.54181-w_1))/@4))))), @24=(@1*exp((@2*((sq((-9.56484-w_0))/@3)+(sq((9.55811-w_1))/@4))))), @25=(@1*exp((@2*((sq((-1.12091-w_0))/@3)+(sq((6.13311-w_1))/@4))))), @26=(@1*exp((@2*((sq((9.41936-w_0))/@3)+(sq((10.052-w_1))/@4))))), @27=(@1*exp((@2*((sq((10.0098-w_0))/@3)+(sq((4.91106-w_1))/@4))))), @28=(@1*exp((@2*((sq((10.4511-w_0))/@3)+(sq((-4.15009-w_1))/@4))))), @29=(@1*exp((@2*((sq((9.82013-w_0))/@3)+(sq((-7.14038-w_1))/@4))))), @30=(@1*exp((@2*((sq((6.08976-w_0))/@3)+(sq((2.38438-w_1))/@4))))), @31=(@1*exp((@2*((sq((2.36141-w_0))/@3)+(sq((4.0818-w_1))/@4))))), @32=(@1*exp((@2*((sq((-8.51806-w_0))/@3)+(sq((-5.75115-w_1))/@4))))), @33=(@1*exp((@2*((sq((-4.59752-w_0))/@3)+(sq((-6.05748-w_1))/@4))))), @34=(@1*exp((@2*((sq((-0.475126-w_0))/@3)+(sq((-7.36055-w_1))/@4))))), @35=(@1*exp((@2*((sq((7.06013-w_0))/@3)+(sq((-3.88576-w_1))/@4))))), ((-9.81*w_6)+(((((((((((((((((((((((((((((((-0.000702093*(5.08073*@5))+(0.00174859*(((((((((((((((((((((((((((((((-5.36565*@5)+(7.38945*@6))+(-7.38807e-16*@7))+(9.23508e-17*@8))+(-2.45554e-16*@9))+(1.34498e-16*@10))+(-4.74708e-16*@11))+(-2.1535e-16*@12))+(1.60333e-16*@13))+(-3.35484e-17*@14))+(-6.73232e-16*@15))+(-3.90593e-16*@16))+(7.05346e-16*@17))+(5.39025e-17*@18))+(-9.3069e-16*@19))+(9.22577e-16*@20))+(9.19462e-18*@21))+(2.35291e-17*@22))+(-9.5283e-18*@23))+(2.46964e-17*@24))+(-1.04836e-16*@25))+(-2.00574e-16*@26))+(2.75107e-16*@27))+(1.71879e-15*@28))+(1.4484e-17*@29))+(-7.05699e-17*@30))+(4.94985e-17*@31))+(-1.70384e-18*@32))+(7.10917e-18*@33))+(2.10271e-16*@34))+(2.28107e-15*@35))))+(-0.000842679*((((((((((((((((((((((((((((((1.86063*@5)+(-5.01795*@6))+(6.39504*@7))+(1.61755e-16*@9))+(-6.70755e-17*@10))+(3.83882e-16*@11))+(2.44354e-16*@12))+(-2.111e-16*@13))+(3.90383e-17*@14))+(4.1009e-16*@15))+(3.14823e-16*@16))+(-3.92808e-16*@17))+(1.98897e-16*@18))+(8.55236e-16*@19))+(-4.41309e-16*@20))+(-6.47144e-18*@21))+(-3.07238e-17*@22))+(1.61743e-17*@23))+(-1.98127e-18*@24))+(7.34995e-17*@25))+(1.51399e-16*@26))+(-7.74613e-17*@27))+(-9.75872e-16*@28))+(-4.82824e-17*@29))+(1.28273e-16*@30))+(-3.14248e-17*@31))+(5.46642e-19*@32))+(7.79694e-19*@33))+(-1.58432e-16*@34))+(-1.96559e-15*@35))))+(0.000461737*(((((((((((((((((((((((((((((((-2.03481*@5)+(1.52822*@6))+(-2.06375*@7))+(5.54596*@8))+(-3.33057e-17*@9))+(-1.90007e-18*@10))+(-5.24068e-17*@11))+(-6.97922e-17*@12))+(4.85575e-17*@13))+(6.63174e-18*@14))+(-8.94295e-17*@15))+(-1.16255e-16*@16))+(2.9271e-16*@17))+(-7.54198e-17*@18))+(-5.65857e-16*@19))+(1.16164e-16*@20))+(-5.66417e-18*@21))+(1.05932e-17*@22))+(-6.30925e-18*@23))+(-3.35094e-19*@24))+(-4.43405e-17*@25))+(-3.37821e-17*@26))+(6.94142e-17*@27))+(1.85502e-16*@28))+(-3.39489e-17*@29))+(-6.65042e-17*@30))+(1.92302e-17*@31))+(-2.51291e-18*@32))+(9.50135e-18*@33))+(1.52455e-17*@34))+(3.16192e-16*@35))))+(0.000147608*(((((((((((((((((((((((((((((((-1.23173*@5)+(0.591369*@6))+(1.02351*@7))+(-5.61699*@8))+(7.61322*@9))+(1.63223e-18*@10))+(-3.90502e-17*@11))+(-6.81519e-17*@12))+(-1.60962e-17*@13))+(2.22027e-17*@14))+(-1.00799e-16*@15))+(4.24449e-17*@16))+(2.77038e-17*@17))+(6.54821e-17*@18))+(-3.75683e-16*@19))+(1.68996e-16*@20))+(1.04588e-17*@21))+(3.30981e-19*@22))+(-5.11929e-18*@23))+(6.22131e-18*@24))+(-2.11353e-17*@25))+(-4.30198e-17*@26))+(1.26745e-16*@27))+(1.21447e-16*@28))+(-9.14213e-17*@29))+(-2.13199e-17*@30))+(2.26266e-17*@31))+(3.20434e-18*@32))+(-1.26926e-17*@33))+(4.99117e-17*@34))+(6.04263e-16*@35))))+(-0.0013546*(((((((((((((((((((((((((((((((-1.54536*@5)+(1.2269*@6))+(-0.761665*@7))+(2.74559*@8))+(-4.59835*@9))+(6.2063*@10))+(-8.5874e-17*@11))+(-2.77315e-17*@12))+(3.8191e-17*@13))+(-2.57071e-17*@14))+(-9.71186e-18*@15))+(-8.5419e-17*@16))+(3.14253e-16*@17))+(1.15702e-17*@18))+(-1.71558e-16*@19))+(-1.0207e-17*@20))+(3.7013e-18*@21))+(7.16878e-18*@22))+(-2.80909e-18*@23))+(-4.03814e-18*@24))+(-1.6881e-17*@25))+(-4.04488e-17*@26))+(1.08325e-16*@27))+(2.99159e-16*@28))+(3.26104e-17*@29))+(-3.37443e-17*@30))+(5.73417e-19*@31))+(-4.58164e-18*@32))+(1.86877e-17*@33))+(6.47138e-18*@34))+(-4.67071e-17*@35))))+(7.99167e-05*(((((((((((((((((((((((((((((((-5.07977*@5)+(2.92064*@6))+(-0.456727*@7))+(-0.344608*@8))+(1.78048*@9))+(-5.13549*@10))+(8.12557*@11))+(-2.6455e-16*@12))+(3.63369e-17*@13))+(3.12364e-17*@14))+(-1.42119e-16*@15))+(-2.07512e-16*@16))+(6.03631e-16*@17))+(2.86628e-17*@18))+(-1.06918e-15*@19))+(5.42278e-16*@20))+(-2.8104e-17*@21))+(3.61647e-17*@22))+(7.67953e-18*@23))+(-3.1193e-17*@24))+(-5.6301e-17*@25))+(-4.33269e-17*@26))+(1.40948e-16*@27))+(2.59697e-16*@28))+(-1.40195e-16*@29))+(-7.52149e-17*@30))+(5.61087e-18*@31))+(1.85251e-18*@32))+(-1.24405e-17*@33))+(1.52464e-16*@34))+(2.14411e-15*@35))))+(0.00153612*((((((((((((((((((((((((((((((-4.28131*@5)+(0.590931*@6))+(0.315675*@7))+(0.670732*@8))+(-0.114082*@9))+(2.50058*@10))+(-5.07682*@11))+(8.36831*@12))+(-3.38475e-17*@14))+(-2.6328e-17*@15))+(-5.57765e-17*@16))+(7.78032e-17*@17))+(-6.90323e-17*@18))+(-2.814e-18*@19))+(2.85235e-18*@20))+(1.5817e-17*@21))+(9.91811e-18*@22))+(-1.69027e-17*@23))+(1.63804e-17*@24))+(7.22581e-18*@25))+(-1.12156e-17*@26))+(3.49236e-17*@27))+(2.33217e-16*@28))+(2.6032e-17*@29))+(-1.78185e-17*@30))+(-2.26182e-17*@31))+(-2.37679e-18*@32))+(1.18118e-17*@33))+(-2.52057e-17*@34))+(-3.34648e-16*@35))))+(-0.00315279*(((((((((((((((((((((((((((((((3.74048*@5)+(-1.39196*@6))+(0.22656*@7))+(-0.456371*@8))+(0.0972547*@9))+(-1.39372*@10))+(4.105*@11))+(-15.4932*@12))+(12.7538*@13))+(5.67048e-17*@14))+(6.98773e-17*@15))+(1.59883e-16*@16))+(-2.89087e-16*@17))+(1.08929e-16*@18))+(2.93661e-16*@19))+(-1.61885e-16*@20))+(-2.15352e-17*@21))+(-2.43031e-17*@22))+(1.69963e-17*@23))+(-1.04592e-17*@24))+(2.43098e-17*@25))+(7.15105e-18*@26))+(-1.52465e-17*@27))+(-3.70799e-16*@28))+(4.51781e-17*@29))+(7.82976e-17*@30))+(-1.86947e-17*@31))+(1.58225e-18*@32))+(-9.38272e-18*@33))+(4.41146e-19*@34))+(-1.53206e-19*@35))))+(0.00229389*(((((((((((((((((((((((((((((((-0.792987*@5)+(0.497819*@6))+(-0.162088*@7))+(0.0745071*@8))+(-0.0515399*@9))+(0.186549*@10))+(-0.97984*@11))+(6.27293*@12))+(-7.8019*@13))+(6.28136*@14))+(1.72672e-17*@15))+(-9.79873e-17*@16))+(1.34245e-16*@17))+(5.86364e-19*@18))+(-1.77166e-16*@19))+(1.26428e-16*@20))+(8.52683e-18*@21))+(5.66961e-18*@22))+(-5.51082e-18*@23))+(2.04568e-18*@24))+(-7.29475e-18*@25))+(-4.39021e-18*@26))+(1.39107e-17*@27))+(1.47912e-16*@28))+(-5.00623e-17*@29))+(-2.06804e-17*@30))+(1.70377e-17*@31))+(-6.73812e-19*@32))+(4.76569e-18*@33))+(-3.12161e-18*@34))+(-8.71165e-17*@35))))+(0.000405518*(((((((((((((((((((((((((((((((-0.080555*@5)+(-0.955915*@6))+(0.464701*@7))+(-0.0299706*@8))+(0.0650739*@9))+(-0.176026*@10))+(-0.0369603*@11))+(2.78921*@12))+(-3.9963*@13))+(-3.8168*@14))+(7.40069*@15))+(2.56727e-17*@16))+(-4.70526e-17*@17))+(-6.31549e-19*@18))+(2.9589e-16*@19))+(-2.99752e-17*@20))+(-7.93588e-18*@21))+(1.14346e-17*@22))+(5.58847e-18*@23))+(-4.93211e-18*@24))+(-1.23424e-17*@25))+(2.76869e-17*@26))+(-3.73782e-17*@27))+(-2.11248e-16*@28))+(-7.00651e-17*@29))+(-2.4184e-17*@30))+(5.21287e-17*@31))+(2.21615e-18*@32))+(-8.33498e-18*@33))+(-1.27234e-17*@34))+(-2.05382e-16*@35))))+(-0.000378821*((((((((((((((((((((((((((((((2.09387*@5)+(-3.58241*@6))+(1.08134*@7))+(-0.046296*@8))+(-0.153608*@9))+(0.0959942*@10))+(-0.350068*@11))+(-0.738268*@12))+(0.666878*@13))+(3.14345*@14))+(-7.4938*@15))+(8.1347*@16))+(-1.10131e-15*@17))+(4.67813e-16*@18))+(5.1702e-16*@19))+(-2.2378e-16*@20))+(-5.47426e-17*@21))+(-4.73616e-18*@22))+(4.0008e-18*@23))+(-1.09879e-17*@24))+(6.93518e-17*@25))+(1.53497e-16*@26))+(-4.99256e-16*@27))+(-8.47649e-16*@28))+(-1.75335e-16*@29))+(1.0659e-16*@30))+(2.1909e-17*@31))+(-2.11432e-17*@32))+(8.05429e-17*@33))+(-2.92542e-16*@34))))+(-0.000152557*(((((((((((((((((((((((((((((((2.1074*@5)+(-2.63063*@6))+(-0.270299*@7))+(0.387769*@8))+(-0.484359*@9))+(0.236845*@10))+(-0.491327*@11))+(-0.561601*@12))+(0.398278*@13))+(-1.83567*@14))+(4.88653*@15))+(-8.28355*@16))+(8.50426*@17))+(-1.68471e-15*@18))+(8.71851e-16*@19))+(-4.83697e-16*@20))+(1.06623e-16*@21))+(-8.37305e-17*@22))+(1.28032e-17*@23))+(6.77956e-18*@24))+(2.2937e-18*@25))+(-8.2879e-17*@26))+(3.76739e-16*@27))+(2.90331e-16*@28))+(2.94802e-16*@29))+(1.48699e-16*@30))+(-7.93957e-17*@31))+(1.99942e-17*@32))+(-9.53098e-17*@33))+(9.5957e-17*@34))+(-1.60891e-15*@35))))+(6.71202e-05*(((((((((((((((((((((((((((((((-0.860219*@5)+(1.9085*@6))+(-1.29852*@7))+(0.37337*@8))+(-0.171259*@9))+(0.00847748*@10))+(0.206139*@11))+(0.00624303*@12))+(-0.0728267*@13))+(0.885062*@14))+(-2.80928*@15))+(6.43123*@16))+(-12.1875*@17))+(10.0892*@18))+(-1.0572e-15*@19))+(4.76187e-16*@20))+(-1.03742e-16*@21))+(1.25285e-16*@22))+(4.0483e-18*@23))+(-2.47725e-17*@24))+(-3.88842e-17*@25))+(6.4802e-17*@26))+(-2.69914e-16*@27))+(-3.49305e-16*@28))+(-1.09513e-16*@29))+(-1.81665e-16*@30))+(1.34846e-16*@31))+(-1.94402e-17*@32))+(8.54896e-17*@33))+(-6.73378e-17*@34))+(1.0572e-15*@35))))+(-0.000116687*(((((((((((((((((((((((((((((((4.08336*@5)+(-11.719*@6))+(1.24488*@7))+(0.7043*@8))+(-0.557104*@9))+(-0.0353856*@10))+(-0.141341*@11))+(-0.662252*@12))+(-0.788182*@13))+(0.237382*@14))+(0.457801*@15))+(-2.12185*@16))+(-7.44177*@17))+(0.897514*@18))+(15.3639*@19))+(-2.79165e-15*@20))+(-3.15312e-17*@21))+(1.12668e-16*@22))+(1.24824e-16*@23))+(-7.22039e-17*@24))+(9.16103e-16*@25))+(9.16681e-16*@26))+(-1.27242e-15*@27))+(-5.06152e-15*@28))+(3.63799e-15*@29))+(4.7112e-16*@30))+(4.78721e-16*@31))+(-4.18175e-17*@32))+(4.30434e-16*@33))+(-1.69095e-15*@34))+(-1.57106e-15*@35))))+(-0.00196701*(((((((((((((((((((((((((((((((-5.33122*@5)+(-1.67812*@6))+(1.76497*@7))+(-0.0605993*@8))+(0.895794*@9))+(-1.39306*@10))+(3.63056*@11))+(-4.32875*@12))+(-4.17297*@13))+(1.59082*@14))+(-1.03926*@15))+(-2.44927*@16))+(4.24114*@17))+(-0.426648*@18))+(-6.38674*@19))+(15.5198*@20))+(9.56488e-17*@21))+(-1.12873e-16*@22))+(-3.1513e-17*@23))+(4.14425e-18*@24))+(-2.18485e-16*@25))+(-1.38459e-16*@26))+(1.5917e-16*@27))+(6.62234e-16*@28))+(-1.20906e-15*@29))+(2.07749e-16*@30))+(-4.60438e-16*@31))+(5.75758e-18*@32))+(-1.15271e-16*@33))+(1.94872e-16*@34))+(-2.79299e-15*@35))))+(0.000679702*(((((((((((((((((((((((((((((((1.38783*@5)+(-2.63018*@6))+(0.579118*@7))+(-0.0678474*@8))+(-0.169861*@9))+(0.637661*@10))+(-1.28041*@11))+(-0.759039*@12))+(-9.35387*@13))+(-3.63945*@14))+(3.88311*@15))+(-2.31522*@16))+(1.08132*@17))+(-0.115552*@18))+(-0.351701*@19))+(5.47777*@20))+(9.67478*@21))+(-4.18782e-17*@22))+(-2.09171e-18*@23))+(2.0923e-17*@24))+(1.14698e-17*@25))+(-1.4287e-17*@26))+(1.03791e-16*@27))+(4.64282e-17*@28))+(-9.85103e-17*@29))+(6.62721e-17*@30))+(-5.39068e-17*@31))+(7.13266e-19*@32))+(2.2862e-18*@33))+(-7.98097e-17*@34))+(-1.2006e-15*@35))))+(-0.00043299*(((((((((((((((((((((((((((((((3.39595*@5)+(-1.99656*@6))+(0.318613*@7))+(-0.337168*@8))+(0.120995*@9))+(1.97827*@10))+(-7.34719*@11))+(-1.80644*@12))+(3.54554*@13))+(2.77621*@14))+(-1.39717*@15))+(0.297022*@16))+(-0.0198575*@17))+(-0.0445539*@18))+(0.641091*@19))+(-0.726221*@20))+(-9.50717*@21))+(11.9937*@22))+(-1.30436e-18*@23))+(1.04323e-17*@24))+(1.33232e-16*@25))+(1.32629e-16*@26))+(-3.65389e-16*@27))+(-2.75286e-16*@28))+(5.1805e-16*@29))+(1.42728e-16*@30))+(-1.49788e-16*@31))+(-2.76017e-18*@32))+(3.63837e-17*@33))+(-2.01129e-16*@34))+(-2.83959e-15*@35))))+(0.00330027*(((((((((((((((((((((((((((((((1.40738*@5)+(-0.758852*@6))+(0.23323*@7))+(-1.08074*@8))+(1.91753*@9))+(-2.75353*@10))+(-3.90455*@11))+(4.79274*@12))+(-1.35224*@13))+(-1.06723*@14))+(0.272322*@15))+(0.209603*@16))+(-0.258033*@17))+(-0.0957443*@18))+(0.961528*@19))+(-2.39932*@20))+(4.55347*@21))+(-10.3836*@22))+(11.2711*@23))+(4.88418e-18*@24))+(5.13005e-17*@25))+(2.51102e-17*@26))+(-5.60017e-17*@27))+(-1.059e-16*@28))+(5.58966e-17*@29))+(-8.21635e-17*@30))+(1.20914e-16*@31))+(5.68065e-19*@32))+(2.17747e-17*@33))+(-6.64978e-17*@34))+(9.36571e-16*@35))))+(0.00332787*(((((((((((((((((((((((((((((((-0.15283*@5)+(-0.179323*@6))+(0.265247*@7))+(-1.2713*@8))+(2.64935*@9))+(-7.4378*@10))+(4.22637*@11))+(-1.73384*@12))+(-0.289014*@13))+(0.212101*@14))+(0.199899*@15))+(-0.1231*@16))+(0.0469839*@17))+(-0.0375645*@18))+(-0.0524564*@19))+(0.733301*@20))+(-1.35654*@21))+(5.44063*@22))+(-11.916*@23))+(12.4103*@24))+(-3.79101e-17*@25))+(-4.72057e-17*@26))+(1.44019e-16*@27))+(-9.10767e-17*@28))+(1.86863e-16*@29))+(-6.31806e-18*@30))+(-9.06517e-19*@31))+(7.25932e-18*@32))+(-3.95291e-17*@33))+(1.30537e-16*@34))+(5.38276e-16*@35))))+(0.00264634*(((((((((((((((((((((((((((((((-10.1074*@5)+(3.32003*@6))+(-0.352792*@7))+(0.505476*@8))+(-5.49682*@9))+(-4.0586*@10))+(-6.50185*@11))+(3.3171*@12))+(-0.775612*@13))+(0.417911*@14))+(-0.609162*@15))+(-0.0331761*@16))+(0.0291221*@17))+(0.0643524*@18))+(-1.22136*@19))+(2.8235*@20))+(-1.30292*@21))+(1.94051*@22))+(0.479877*@23))+(2.22054*@24))+(14.8903*@25))+(-2.07123e-16*@26))+(7.25612e-16*@27))+(2.3172e-16*@28))+(-5.45907e-16*@29))+(8.38527e-17*@30))+(-1.43508e-16*@31))+(2.13477e-18*@32))+(-6.1154e-17*@33))+(2.39402e-16*@34))+(-3.42422e-16*@35))))+(-0.000646006*(((((((((((((((((((((((((((((((0.385348*@5)+(1.34864*@6))+(0.155522*@7))+(-9.39155*@8))+(1.66528*@9))+(-1.41886*@10))+(-1.38202*@11))+(-0.659997*@12))+(1.02998*@13))+(-0.0681658*@14))+(-0.0704337*@15))+(0.345203*@16))+(0.163645*@17))+(-0.0527203*@18))+(-0.838419*@19))+(-1.0182*@20))+(-0.288391*@21))+(0.461836*@22))+(0.209923*@23))+(0.612201*@24))+(2.92369*@25))+(8.95234*@26))+(1.86826e-16*@27))+(7.90047e-17*@28))+(-3.19518e-16*@29))+(-1.26887e-18*@30))+(-5.6233e-17*@31))+(5.44513e-18*@32))+(-5.78733e-17*@33))+(1.86291e-16*@34))+(7.94737e-16*@35))))+(6.76909e-06*(((((((((((((((((((((((((((((((-0.502195*@5)+(2.74919*@6))+(-6.9862*@7))+(-5.87203*@8))+(4.15713*@9))+(-1.63321*@10))+(0.867059*@11))+(0.429534*@12))+(0.343912*@13))+(-0.174406*@14))+(0.353818*@15))+(-0.183084*@16))+(-1.36966*@17))+(1.21079*@18))+(1.28528*@19))+(-1.80715*@20))+(0.036401*@21))+(-0.388326*@22))+(-0.185925*@23))+(0.695988*@24))+(-0.561494*@25))+(-3.37574*@26))+(11.4598*@27))+(-5.02755e-16*@28))+(1.46252e-16*@29))+(-1.27866e-16*@30))+(1.75864e-16*@31))+(1.2588e-17*@32))+(-4.57225e-17*@33))+(1.59235e-16*@34))+(8.81508e-16*@35))))+(0.00115873*(((((((((((((((((((((((((((((((0.547543*@5)+(3.06683*@6))+(-11.814*@7))+(0.657289*@8))+(-0.0196491*@9))+(0.312906*@10))+(0.198441*@11))+(-1.00201*@12))+(0.471496*@13))+(0.130205*@14))+(-0.428109*@15))+(0.621427*@16))+(3.89878*@17))+(-5.57*@18))+(-4.76586*@19))+(0.315029*@20))+(-0.0312488*@21))+(0.140829*@22))+(0.00782515*@23))+(-0.152615*@24))+(-0.704456*@25))+(-1.80359*@26))+(4.64753*@27))+(12.0344*@28))+(-1.69245e-15*@29))+(-2.42541e-16*@30))+(-2.52312e-16*@31))+(2.55042e-17*@32))+(-2.06225e-16*@33))+(6.01061e-16*@34))+(1.79589e-15*@35))))+(-0.00165755*(((((((((((((((((((((((((((((((-0.106441*@5)+(0.0353169*@6))+(4.17918*@7))+(-0.842915*@8))+(0.486294*@9))+(-0.0926088*@10))+(0.164015*@11))+(-0.427065*@12))+(-0.146133*@13))+(0.345358*@14))+(-0.936091*@15))+(1.52671*@16))+(1.66442*@17))+(-9.84457*@18))+(-3.66645*@19))+(1.38809*@20))+(-0.00465044*@21))+(0.0768727*@22))+(-0.0321029*@23))+(0.0211774*@24))+(-0.180837*@25))+(0.125181*@26))+(-0.0174832*@27))+(-14.2027*@28))+(20.0534*@29))+(7.75978e-17*@30))+(-1.55196e-16*@31))+(2.93762e-17*@32))+(-2.07266e-16*@33))+(6.15353e-16*@34))+(2.28552e-15*@35))))+(8.53772e-05*((((((((((((((((((((((((((((((-4.08302*@5)+(-7.82842*@6))+(-7.98973*@7))+(-8.71054*@8))+(2.67581*@9))+(-0.272062*@10))+(1.32585*@11))+(1.73577*@12))+(-2.03668*@13))+(0.289871*@14))+(-0.224606*@15))+(-0.865152*@16))+(0.141102*@17))+(-0.762914*@18))+(2.85819*@19))+(4.05315*@20))+(0.167934*@21))+(-0.432874*@22))+(-0.290711*@23))+(0.00438025*@24))+(-1.22317*@25))+(3.88291*@26))+(-2.97379*@27))+(4.05403*@28))+(-0.635772*@29))+(17.103*@30))+(-2.07026e-18*@32))+(7.75543e-17*@33))+(-3.09157e-16*@34))+(-3.64359e-15*@35))))+(-0.000317398*(((((((((((((((((((((((((((((((-8.58315*@5)+(0.337431*@6))+(3.12008*@7))+(-5.02055*@8))+(0.193975*@9))+(2.69339*@10))+(2.34481*@11))+(2.0216*@12))+(-0.776086*@13))+(0.164785*@14))+(-0.195447*@15))+(-0.332227*@16))+(-0.381737*@17))+(0.286807*@18))+(0.900733*@19))+(1.92796*@20))+(-0.216314*@21))+(-0.559307*@22))+(-0.126218*@23))+(-1.03651*@24))+(-10.0216*@25))+(1.9348*@26))+(1.14843*@27))+(-0.42649*@28))+(-0.422768*@29))+(-9.74988*@30))+(20.9751*@31))+(-8.03974e-18*@32))+(9.02133e-17*@33))+(-3.19561e-16*@34))+(2.35219e-15*@35))))+(0.00571414*(((((((((((((((((((((((((((((((1.41336*@5)+(-0.360193*@6))+(0.076061*@7))+(0.302323*@8))+(0.243973*@9))+(0.0156133*@10))+(0.251959*@11))+(2.38905*@12))+(-11.2081*@13))+(-6.0804*@14))+(-1.25766*@15))+(0.925602*@16))+(-0.406807*@17))+(0.0596961*@18))+(-0.14199*@19))+(0.991458*@20))+(-10.9491*@21))+(4.34129*@22))+(-1.07287*@23))+(0.000214734*@24))+(-0.553033*@25))+(-0.191151*@26))+(0.128866*@27))+(-0.0328428*@28))+(0.145735*@29))+(-0.20126*@30))+(-0.685755*@31))+(20.9458*@32))+(-2.0778e-17*@33))+(2.37719e-17*@34))+(-7.26684e-17*@35))))+(0.00543563*(((((((((((((((((((((((((((((((3.37153*@5)+(2.14427*@6))+(-0.285983*@7))+(0.135802*@8))+(0.307647*@9))+(-0.274887*@10))+(1.16386*@11))+(1.18448*@12))+(-10.3533*@13))+(1.99724*@14))+(-6.24346*@15))+(-0.393997*@16))+(1.21585*@17))+(-0.433668*@18))+(-0.908596*@19))+(-8.74795*@20))+(3.07487*@21))+(1.39239*@22))+(-1.55933*@23))+(0.510374*@24))+(-0.795824*@25))+(-0.106178*@26))+(0.3283*@27))+(0.093637*@28))+(-0.00759371*@29))+(-0.783084*@30))+(-0.681517*@31))+(-7.20916*@32))+(21.4768*@33))+(3.71696e-16*@34))+(6.28934e-16*@35))))+(-0.00246895*(((((((((((((((((((((((((((((((2.10995*@5)+(1.79788*@6))+(0.35288*@7))+(-0.208557*@8))+(0.164928*@9))+(0.124024*@10))+(-0.569387*@11))+(3.21668*@12))+(1.41988*@13))+(0.688528*@14))+(-0.535149*@15))+(-8.44594*@16))+(2.10702*@17))+(0.279806*@18))+(-7.32384*@19))+(-9.63778*@20))+(-0.203009*@21))+(-0.602338*@22))+(0.117612*@23))+(0.0740175*@24))+(-0.434045*@25))+(0.277713*@26))+(-0.472156*@27))+(0.159845*@28))+(0.414828*@29))+(0.172959*@30))+(-0.356028*@31))+(1.5119*@32))+(-7.98114*@33))+(21.6903*@34))+(-2.13228e-15*@35))))+(-0.00356456*(((((((((((((((((((((((((((((((2.21771*@5)+(-8.98636*@6))+(-5.14503*@7))+(0.0237744*@8))+(0.0318529*@9))+(0.299263*@10))+(-0.272472*@11))+(-0.750733*@12))+(-0.665626*@13))+(0.508379*@14))+(-1.45002*@15))+(1.72229*@16))+(-1.07252*@17))+(2.12595*@18))+(-8.34963*@19))+(2.79882*@20))+(0.132267*@21))+(0.215767*@22))+(0.0999567*@23))+(-0.0640322*@24))+(-1.06165*@25))+(-0.840358*@26))+(2.71656*@27))+(-4.04515*@28))+(-4.54677*@29))+(-1.73173*@30))+(1.6723*@31))+(0.0910506*@32))+(-0.635625*@33))+(2.83245*@34))+(21.5365*@35))))))\n",
      " SX(0) SX((-5.88235*w_6)) SX((-5.88235*w_7)) SX(0) 0 SX(w_9)]\n"
     ]
    }
   ],
   "source": [
    "x0 = [0,0,0,0,0,0,0,0,0,0,0]\n",
    "u0 = [0,0,0,0,0]\n",
    "test = model.continuous_model(w,u0)\n",
    "print(test)\n",
    "test = modelGP.continuous_model(w,u0)\n",
    "print(test)"
   ]
  },
  {
   "cell_type": "code",
   "execution_count": 115,
   "id": "d11a3199",
   "metadata": {},
   "outputs": [
    {
     "data": {
      "text/plain": [
       "(11, 1)"
      ]
     },
     "execution_count": 115,
     "metadata": {},
     "output_type": "execute_result"
    }
   ],
   "source": [
    "w.shape"
   ]
  },
  {
   "cell_type": "code",
   "execution_count": 110,
   "id": "c1999389",
   "metadata": {},
   "outputs": [],
   "source": [
    "w = casadi.SX.sym('w', 11)"
   ]
  },
  {
   "cell_type": "code",
   "execution_count": 111,
   "id": "0a30b4d3",
   "metadata": {},
   "outputs": [
    {
     "ename": "TypeError",
     "evalue": "f() missing 9 required positional arguments: 'x3', 'x4', 'x5', 'x6', 'x7', 'x8', 'x9', 'x10', and 'x11'",
     "output_type": "error",
     "traceback": [
      "\u001b[0;31m---------------------------------------------------------------------------\u001b[0m",
      "\u001b[0;31mTypeError\u001b[0m                                 Traceback (most recent call last)",
      "Cell \u001b[0;32mIn [111], line 1\u001b[0m\n\u001b[0;32m----> 1\u001b[0m f1 \u001b[38;5;241m=\u001b[39m cs\u001b[38;5;241m.\u001b[39mFunction(\u001b[38;5;124m'\u001b[39m\u001b[38;5;124mf\u001b[39m\u001b[38;5;124m'\u001b[39m,[x1,x2],[\u001b[43mf\u001b[49m\u001b[43m(\u001b[49m\u001b[43mx1\u001b[49m\u001b[43m,\u001b[49m\u001b[43mx2\u001b[49m\u001b[43m)\u001b[49m]);\n\u001b[1;32m      2\u001b[0m f1(\u001b[38;5;241m-\u001b[39m\u001b[38;5;241m9\u001b[39m,\u001b[38;5;241m0\u001b[39m)\n",
      "\u001b[0;31mTypeError\u001b[0m: f() missing 9 required positional arguments: 'x3', 'x4', 'x5', 'x6', 'x7', 'x8', 'x9', 'x10', and 'x11'"
     ]
    }
   ],
   "source": [
    "f1 = cs.Function('f',[x1,x2],[f(x1,x2)]);\n",
    "f1(-9,0)"
   ]
  },
  {
   "cell_type": "code",
   "execution_count": 112,
   "id": "df397fcf",
   "metadata": {},
   "outputs": [],
   "source": [
    "x1 = cs.SX.sym('x_1', 1)\n",
    "x2 = cs.SX.sym('x_2', 1)\n",
    "x3 = cs.SX.sym('x_3', 1)\n",
    "x4 = cs.SX.sym('x_4', 1)\n",
    "x5 = cs.SX.sym('x_5', 1)\n",
    "x6 = cs.SX.sym('x_6', 1)\n",
    "x7 = cs.SX.sym('x_7', 1)\n",
    "x8 = cs.SX.sym('x_8', 1)\n",
    "x9 = cs.SX.sym('x_9', 1)\n",
    "x10 = cs.SX.sym('x_10', 1)\n",
    "x11 = cs.SX.sym('x_11', 1)"
   ]
  },
  {
   "cell_type": "code",
   "execution_count": 126,
   "id": "1c573c51",
   "metadata": {},
   "outputs": [
    {
     "name": "stdout",
     "output_type": "stream",
     "text": [
      "this\n",
      "[[x_1, x_2]]\n",
      "(9, 1)\n",
      "(2, 1)\n"
     ]
    },
    {
     "data": {
      "text/plain": [
       "DM([0, 0, 0, 2.79305, -0.000165787, 0, -0, -0, 0, 0, 0])"
      ]
     },
     "execution_count": 126,
     "metadata": {},
     "output_type": "execute_result"
    }
   ],
   "source": [
    "def f(x1, x2, x3, x4, x5, x6, x7, x8, x9 ,x10, x11):\n",
    "    X = casadi.vertcat(x1, x2, x3, x4, x5, x6, x7, x8, x9 ,x10, x11)\n",
    "    u0 = [0,0,0,0,0]\n",
    "    mean = modelGP.continuous_model(X,u0)\n",
    "    return mean\n",
    "f1 = cs.Function('f',[x1, x2, x3, x4, x5, x6, x7, x8, x9 ,x10, x11],[f(x1, x2, x3, x4, x5, x6, x7, x8, x9 ,x10, x11)])\n",
    "f1(-5,0,0,0,0,0,0,0,0,0,0)"
   ]
  },
  {
   "cell_type": "code",
   "execution_count": 94,
   "id": "a3aba64b",
   "metadata": {},
   "outputs": [
    {
     "name": "stdout",
     "output_type": "stream",
     "text": [
      "this\n",
      "[[x_5, x_6]]\n",
      "@1=0.30591, @2=-0.5, @3=30.9339, @4=4.78953, @5=(@1*exp((@2*((sq((0.623751-x_5))/@3)+(sq((1.67351-x_6))/@4))))), @6=(@1*exp((@2*((sq((2.49935-x_5))/@3)+(sq((-1.8205-x_6))/@4))))), @7=(@1*exp((@2*((sq((8.24224-x_5))/@3)+(sq((-0.135562-x_6))/@4))))), @8=(@1*exp((@2*((sq((7.56746-x_5))/@3)+(sq((6.63626-x_6))/@4))))), @9=(@1*exp((@2*((sq((2.29742-x_5))/@3)+(sq((9.2219-x_6))/@4))))), @10=(@1*exp((@2*((sq((-6.28364-x_5))/@3)+(sq((9.36616-x_6))/@4))))), @11=(@1*exp((@2*((sq((-5.9367-x_5))/@3)+(sq((1.53678-x_6))/@4))))), @12=(@1*exp((@2*((sq((-4.80235-x_5))/@3)+(sq((-1.74116-x_6))/@4))))), @13=(@1*exp((@2*((sq((-4.53498-x_5))/@3)+(sq((-3.14509-x_6))/@4))))), @14=(@1*exp((@2*((sq((-5.7966-x_5))/@3)+(sq((-10.0445-x_6))/@4))))), @15=(@1*exp((@2*((sq((-0.376693-x_5))/@3)+(sq((-9.96826-x_6))/@4))))), @16=(@1*exp((@2*((sq((4.42149-x_5))/@3)+(sq((-9.54355-x_6))/@4))))), @17=(@1*exp((@2*((sq((8.53755-x_5))/@3)+(sq((-9.72062-x_6))/@4))))), @18=(@1*exp((@2*((sq((3.65614-x_5))/@3)+(sq((-5.30026-x_6))/@4))))), @19=(@1*exp((@2*((sq((-1.57707-x_5))/@3)+(sq((-0.581915-x_6))/@4))))), @20=(@1*exp((@2*((sq((-9.0627-x_5))/@3)+(sq((-1.92385-x_6))/@4))))), @21=(@1*exp((@2*((sq((-9.84399-x_5))/@3)+(sq((0.332961-x_6))/@4))))), @22=(@1*exp((@2*((sq((-9.49027-x_5))/@3)+(sq((3.4844-x_6))/@4))))), @23=(@1*exp((@2*((sq((-8.97862-x_5))/@3)+(sq((6.79351-x_6))/@4))))), @24=(@1*exp((@2*((sq((-2.46276-x_5))/@3)+(sq((5.32705-x_6))/@4))))), @25=(@1*exp((@2*((sq((8.45131-x_5))/@3)+(sq((9.5683-x_6))/@4))))), @26=(@1*exp((@2*((sq((9.60026-x_5))/@3)+(sq((3.70801-x_6))/@4))))), @27=(@1*exp((@2*((sq((9.39901-x_5))/@3)+(sq((-3.30515-x_6))/@4))))), @28=(@1*exp((@2*((sq((9.6274-x_5))/@3)+(sq((-5.73801-x_6))/@4))))), @29=(@1*exp((@2*((sq((5.7499-x_5))/@3)+(sq((2.59246-x_6))/@4))))), @30=(@1*exp((@2*((sq((1.9121-x_5))/@3)+(sq((4.73523-x_6))/@4))))), @31=(@1*exp((@2*((sq((-8.78-x_5))/@3)+(sq((-3.05338-x_6))/@4))))), @32=(@1*exp((@2*((sq((-5.16362-x_5))/@3)+(sq((-4.19524-x_6))/@4))))), @33=(@1*exp((@2*((sq((-8.96925-x_5))/@3)+(sq((-8.39279-x_6))/@4))))), @34=(@1*exp((@2*((sq((-2.03988-x_5))/@3)+(sq((-6.64423-x_6))/@4))))), @35=0.037739, @36=34.0997, @37=35.2736, @38=(@35*exp((@2*((sq((0.105601-x_5))/@36)+(sq((0.645528-x_6))/@37))))), @39=(@35*exp((@2*((sq((3.60085-x_5))/@36)+(sq((-2.19969-x_6))/@37))))), @40=(@35*exp((@2*((sq((9.30025-x_5))/@36)+(sq((-0.252833-x_6))/@37))))), @41=(@35*exp((@2*((sq((6.02113-x_5))/@36)+(sq((8.0062-x_6))/@37))))), @42=(@35*exp((@2*((sq((1.96426-x_5))/@36)+(sq((10.0051-x_6))/@37))))), @43=(@35*exp((@2*((sq((-4.99337-x_5))/@36)+(sq((9.51463-x_6))/@37))))), @44=(@35*exp((@2*((sq((-5.95007-x_5))/@36)+(sq((4.30585-x_6))/@37))))), @45=(@35*exp((@2*((sq((-4.85155-x_5))/@36)+(sq((-1.05789-x_6))/@37))))), @46=(@35*exp((@2*((sq((-5.79064-x_5))/@36)+(sq((-3.60068-x_6))/@37))))), @47=(@35*exp((@2*((sq((-9.58731-x_5))/@36)+(sq((-9.72606-x_6))/@37))))), @48=(@35*exp((@2*((sq((-4.69302-x_5))/@36)+(sq((-10.4867-x_6))/@37))))), @49=(@35*exp((@2*((sq((0.339646-x_5))/@36)+(sq((-10.6122-x_6))/@37))))), @50=(@35*exp((@2*((sq((5.12495-x_5))/@36)+(sq((-10.0908-x_6))/@37))))), @51=(@35*exp((@2*((sq((8.88936-x_5))/@36)+(sq((-10.3912-x_6))/@37))))), @52=(@35*exp((@2*((sq((3.75048-x_5))/@36)+(sq((-6.39295-x_6))/@37))))), @53=(@35*exp((@2*((sq((-1.09489-x_5))/@36)+(sq((-3.51479-x_6))/@37))))), @54=(@35*exp((@2*((sq((-10.1785-x_5))/@36)+(sq((-3.08973-x_6))/@37))))), @55=(@35*exp((@2*((sq((-10.1425-x_5))/@36)+(sq((1.14174-x_6))/@37))))), @56=(@35*exp((@2*((sq((-10.272-x_5))/@36)+(sq((5.54181-x_6))/@37))))), @57=(@35*exp((@2*((sq((-9.56484-x_5))/@36)+(sq((9.55811-x_6))/@37))))), @58=(@35*exp((@2*((sq((-1.12091-x_5))/@36)+(sq((6.13311-x_6))/@37))))), @59=(@35*exp((@2*((sq((9.41936-x_5))/@36)+(sq((10.052-x_6))/@37))))), @60=(@35*exp((@2*((sq((10.0098-x_5))/@36)+(sq((4.91106-x_6))/@37))))), @61=(@35*exp((@2*((sq((10.4511-x_5))/@36)+(sq((-4.15009-x_6))/@37))))), @62=(@35*exp((@2*((sq((9.82013-x_5))/@36)+(sq((-7.14038-x_6))/@37))))), @63=(@35*exp((@2*((sq((6.08976-x_5))/@36)+(sq((2.38438-x_6))/@37))))), @64=(@35*exp((@2*((sq((2.36141-x_5))/@36)+(sq((4.0818-x_6))/@37))))), @65=(@35*exp((@2*((sq((-8.51806-x_5))/@36)+(sq((-5.75115-x_6))/@37))))), @66=(@35*exp((@2*((sq((-4.59752-x_5))/@36)+(sq((-6.05748-x_6))/@37))))), @67=(@35*exp((@2*((sq((-0.475126-x_5))/@36)+(sq((-7.36055-x_6))/@37))))), @68=(@35*exp((@2*((sq((7.06013-x_5))/@36)+(sq((-3.88576-x_6))/@37))))), [(((((((((((((((((((((((((((((((2.72748*(1.80507*@5))+(1.97857*((-0.492594*@5)+(1.87108*@6))))+(-0.906995*(((-0.356735*@5)+(-0.793477*@6))+(2.04063*@7))))+(-0.121697*((((-0.0668436*@5)+(0.0189153*@6))+(-0.00459392*@7))+(1.80626*@8))))+(0.0270349*(((((0.0170765*@5)+(-0.00533843*@6))+(0.00244733*@7))+(-0.603122*@8))+(1.90305*@9))))+(-0.0541895*((((((-0.00618465*@5)+(0.00170133*@6))+(-0.000304231*@7))+(0.159008*@8))+(-0.625222*@9))+(1.9004*@10))))+(0.786095*(((((((-1.10636*@5)+(-0.0242483*@6))+(0.256385*@7))+(0.0320871*@8))+(-0.00876285*@9))+(-0.000421813*@10))+(2.09732*@11))))+(2.19869*((((((((0.100701*@5)+(-0.997358*@6))+(0.32092*@7))+(-0.00412159*@8))+(0.0012844*@9))+(0.000648697*@10))+(-0.637265*@11))+(2.12298*@12))))+(-4.1377*((((((((((((((((((((((((((((0.0733317*@5)+(-0.156913*@6))+(0.0764607*@7))+(-0.00528485*@8))+(0.00150961*@9))+(-0.00128854*@10))+(0.530177*@11))+(-2.73441*@12))+(3.22626*@13))+(-3.27031e-17*@14))+(-1.15312e-16*@15))+(1.36577e-17*@16))+(-3.23912e-17*@17))+(-1.00598e-16*@18))+(-3.04417e-16*@19))+(3.24865e-16*@20))+(4.82524e-17*@21))+(-2.16331e-17*@22))+(-4.66652e-18*@23))+(-3.17547e-18*@24))+(-1.63647e-18*@25))+(4.58689e-18*@26))+(1.08774e-17*@27))+(4.01256e-18*@28))+(-1.51059e-17*@29))+(-3.31987e-18*@30))+(-1.22013e-16*@31))+(-1.05268e-15*@32))))+(0.0878294*((((((((((((((((((((((((((((-0.00487669*@5)+(0.0147193*@6))+(-0.00614758*@7))+(0.000332934*@8))+(-9.56304e-05*@9))+(7.228e-05*@10))+(-0.0277472*@11))+(0.152289*@12))+(-0.199765*@13))+(1.80859*@33))+(6.32754e-18*@15))+(-3.71888e-18*@16))+(1.2359e-18*@17))+(3.09025e-18*@18))+(1.87723e-17*@19))+(-2.06892e-17*@20))+(-1.83912e-18*@21))+(7.81215e-19*@22))+(6.94106e-19*@23))+(1.33435e-19*@24))+(8.54201e-20*@25))+(1.01195e-19*@26))+(-9.16093e-19*@27))+(-5.76517e-19*@28))+(3.76079e-19*@29))+(1.37727e-19*@30))+(1.20895e-17*@31))+(5.05814e-17*@32))))+(0.160528*(((((((((((((((((((((((((((((0.0030302*@5)+(-0.00987787*@6))+(0.00403447*@7))+(-0.000204354*@8))+(5.88065e-05*@9))+(-4.28138e-05*@10))+(0.0160457*@11))+(-0.0892495*@12))+(0.119628*@13))+(-1.49741*@33))+(2.3436*@14))+(-5.09091e-18*@15))+(1.46857e-18*@16))+(-1.28664e-18*@17))+(-4.50601e-18*@18))+(-1.22546e-17*@19))+(1.65378e-17*@20))+(-1.62514e-18*@21))+(1.71664e-19*@22))+(-4.04484e-19*@23))+(-2.72247e-19*@24))+(-6.53285e-20*@25))+(7.60086e-20*@26))+(4.95729e-19*@27))+(8.15234e-19*@28))+(-1.08308e-18*@29))+(-1.85037e-19*@30))+(-1.31599e-17*@31))+(-1.63109e-17*@32))))+(-0.0728968*(((((((((((((((((((((((((((((-0.00150463*@5)+(0.00318235*@6))+(-0.00145314*@7))+(0.000106919*@8))+(-3.04868e-05*@9))+(2.61588e-05*@10))+(-0.0107828*@11))+(0.0585669*@12))+(-0.0753538*@13))+(0.653074*@33))+(-1.89462*@14))+(2.38701*@15))+(-1.12204e-18*@16))+(6.45004e-19*@17))+(1.99302e-18*@18))+(1.37476e-17*@19))+(-9.54678e-18*@20))+(-3.00675e-19*@21))+(7.57291e-19*@22))+(2.86531e-19*@23))+(-9.3466e-20*@24))+(4.54284e-20*@25))+(-1.28308e-19*@26))+(-4.42168e-19*@27))+(-6.92378e-19*@28))+(5.10071e-19*@29))+(1.17148e-19*@30))+(5.49993e-18*@31))+(1.65758e-17*@32))))+(0.106528*(((((((((((((((((((((((((((((0.00152153*@5)+(-0.0072485*@6))+(0.00263918*@7))+(-9.25693e-05*@8))+(2.69771e-05*@9))+(-1.39582e-05*@10))+(0.00380792*@11))+(-0.0222408*@12))+(0.0321531*@13))+(-0.400882*@33))+(1.37056*@14))+(-2.58756*@15))+(2.7168*@16))+(-5.20689e-16*@17))+(-1.00389e-18*@18))+(-4.0287e-18*@19))+(3.82942e-18*@20))+(-1.35402e-19*@21))+(-4.96429e-20*@22))+(-1.14444e-19*@23))+(-1.55024e-20*@24))+(-2.44484e-20*@25))+(1.24064e-19*@26))+(2.35169e-20*@27))+(7.18036e-19*@28))+(-2.28494e-19*@29))+(-1.68717e-19*@30))+(-3.64132e-18*@31))+(-8.04238e-18*@32))))+(-0.178341*(((((((((((((((((((((((((((((-0.000920308*@5)+(0.00523913*@6))+(-0.00197046*@7))+(5.54512e-05*@8))+(-1.63353e-05*@9))+(6.74524e-06*@10))+(-0.001259*@11))+(0.00805968*@12))+(-0.0133423*@13))+(0.267995*@33))+(-0.974013*@14))+(2.21629*@15))+(-3.82819*@16))+(3.3039*@17))+(5.18856e-19*@18))+(2.08087e-18*@19))+(-2.78269e-18*@20))+(2.32331e-19*@21))+(-8.54786e-20*@22))+(7.69667e-20*@23))+(-6.43411e-20*@24))+(2.0123e-20*@25))+(-5.88615e-20*@26))+(-4.99747e-20*@27))+(-4.02564e-19*@28))+(8.52074e-20*@29))+(1.64973e-19*@30))+(2.33929e-18*@31))+(3.14785e-18*@32))))+(0.597025*(((((((((((((((((((((((((((((0.103131*@5)+(-0.656964*@6))+(0.159389*@7))+(-0.00456384*@8))+(0.00133659*@9))+(-0.000139331*@10))+(-0.164127*@11))+(0.772898*@12))+(-0.784844*@13))+(0.0102894*@33))+(-0.123689*@14))+(0.304707*@15))+(-0.668725*@16))+(0.252678*@17))+(1.97706*@18))+(2.77576e-17*@19))+(-1.52634e-17*@20))+(-2.27971e-17*@21))+(8.40774e-18*@22))+(1.76919e-18*@23))+(-1.77109e-18*@24))+(1.13259e-19*@25))+(-1.51835e-18*@26))+(-5.71395e-18*@27))+(8.69064e-19*@28))+(9.72347e-18*@29))+(6.82232e-19*@30))+(4.45994e-18*@31))+(3.1908e-16*@32))))+(1.28217*(((((((((((((((((((((((((((((-1.48228*@5)+(-2.02545*@6))+(0.434278*@7))+(0.048721*@8))+(-0.0131694*@9))+(0.00471008*@10))+(-0.249369*@11))+(-3.86518*@12))+(1.84271*@13))+(-0.0823228*@33))+(0.0546853*@14))+(-0.0155419*@15))+(-0.0377824*@16))+(0.014898*@17))+(0.191977*@18))+(4.83265*@19))+(1.08036e-16*@20))+(5.5536e-17*@21))+(-8.64486e-18*@22))+(-2.96238e-18*@23))+(-1.32639e-18*@24))+(-6.60625e-19*@25))+(-6.66221e-19*@26))+(1.40374e-17*@27))+(-6.51006e-18*@28))+(-8.50041e-18*@29))+(4.88929e-18*@30))+(-3.51774e-17*@31))+(-5.03637e-16*@32))))+(0.971027*(((((((((((((((((((((((((((((-0.493475*@5)+(-0.0787887*@6))+(-0.12474*@7))+(0.018354*@8))+(-0.00507912*@9))+(0.00199982*@10))+(-0.251469*@11))+(-4.44227*@12))+(0.704131*@13))+(-0.0661578*@33))+(0.051816*@14))+(-0.0255976*@15))+(0.00565796*@16))+(-0.00245599*@17))+(0.0401657*@18))+(2.33531*@19))+(3.19749*@20))+(1.89202e-17*@21))+(-2.66982e-18*@22))+(-1.34318e-18*@23))+(-1.5631e-18*@24))+(-1.69011e-19*@25))+(2.79117e-19*@26))+(3.51429e-18*@27))+(-8.08232e-19*@28))+(-6.25484e-18*@29))+(2.0648e-18*@30))+(4.82919e-18*@31))+(-2.56805e-16*@32))))+(1.23294*(((((((((((((((((((((((((((((0.698578*@5)+(-0.25425*@6))+(-0.077575*@7))+(-0.01834*@8))+(0.00514814*@9))+(0.00124106*@10))+(-2.19368*@11))+(-0.262855*@12))+(0.959219*@13))+(-0.0211199*@33))+(0.020089*@14))+(-0.0235965*@15))+(0.0310581*@16))+(-0.0106621*@17))+(-0.0832183*@18))+(0.204602*@19))+(-1.86043*@20))+(3.32155*@21))+(-5.71692e-18*@22))+(-1.42923e-18*@23))+(6.98762e-19*@24))+(-2.60704e-19*@25))+(6.87131e-19*@26))+(5.5449e-18*@27))+(-8.2243e-19*@28))+(-5.90077e-18*@29))+(2.82252e-18*@30))+(1.48257e-17*@31))+(-2.72934e-16*@32))))+(-0.423476*((((((((((((((((((((((((((((0.235904*@5)+(-0.373665*@6))+(-0.0104343*@7))+(-0.0132249*@8))+(0.0130914*@9))+(-0.0530219*@10))+(-1.72595*@11))+(0.0791398*@12))+(-0.228697*@13))+(0.0092523*@33))+(-0.0126076*@14))+(0.0185043*@15))+(-0.0334045*@16))+(0.0122809*@17))+(0.0987792*@18))+(0.734927*@19))+(0.159384*@20))+(0.0308115*@21))+(2.27812*@22))+(-1.50178e-18*@24))+(1.6073e-19*@25))+(1.16931e-18*@26))+(-2.07707e-18*@27))+(-1.32856e-18*@28))+(-8.78729e-19*@29))+(7.75945e-19*@30))+(-1.53526e-17*@31))+(1.89339e-16*@32))))+(0.487523*(((((((((((((((((((((((((((((-0.0742899*@5)+(0.0981568*@6))+(0.00597341*@7))+(-0.0563839*@8))+(0.173771*@9))+(-1.00606*@10))+(0.495774*@11))+(-0.0688671*@12))+(0.112238*@13))+(-0.00407926*@33))+(0.00491985*@14))+(-0.0066106*@15))+(0.0111625*@16))+(-0.0040761*@17))+(-0.0322275*@18))+(-0.189083*@19))+(-0.099113*@20))+(0.105566*@21))+(-0.952556*@22))+(2.19659*@23))+(4.15325e-19*@24))+(-7.57867e-20*@25))+(-5.49879e-19*@26))+(4.88101e-19*@27))+(9.82275e-19*@28))+(1.38115e-19*@29))+(-2.79301e-19*@30))+(7.00847e-18*@31))+(-6.09494e-17*@32))))+(0.0908496*(((((((((((((((((((((((((((((-0.628964*@5)+(-0.247148*@6))+(0.130438*@7))+(-0.259502*@8))+(-0.197816*@9))+(0.104128*@10))+(-0.213046*@11))+(-0.664644*@12))+(0.263948*@13))+(-0.0108931*@33))+(0.00776693*@14))+(-0.00351179*@15))+(-0.00174706*@16))+(0.000758026*@17))+(0.0152641*@18))+(0.819085*@19))+(0.0159913*@20))+(0.291659*@21))+(-0.363489*@22))+(-0.758147*@23))+(2.14118*@24))+(-1.30475e-19*@25))+(-1.44972e-19*@26))+(1.85562e-18*@27))+(6.7159e-19*@28))+(-1.51189e-18*@29))+(-4.34001e-19*@30))+(7.11027e-18*@31))+(-1.18487e-16*@32))))+(0.0193784*(((((((((((((((((((((((((((((-0.0243229*@5)+(-0.0220059*@6))+(0.0111785*@7))+(-0.591151*@8))+(-1.14664*@9))+(0.327534*@10))+(-0.0548212*@11))+(-0.0283758*@12))+(0.013911*@13))+(-0.000440497*@33))+(0.000218382*@14))+(7.61746e-05*@15))+(-0.000586554*@16))+(0.000225981*@17))+(0.00226003*@18))+(0.0518333*@19))+(-0.0103933*@20))+(0.0393056*@21))+(-0.0102572*@22))+(-0.157953*@23))+(0.241478*@24))+(2.26996*@25))+(-2.69182e-20*@26))+(6.1526e-20*@27))+(1.73191e-19*@28))+(2.42407e-20*@29))+(-4.29599e-20*@30))+(9.42624e-19*@31))+(-5.89215e-18*@32))))+(0.0187085*(((((((((((((((((((((((((((((-0.524347*@5)+(0.158381*@6))+(-0.415694*@7))+(-0.916288*@8))+(0.127558*@9))+(-0.038643*@10))+(0.262012*@11))+(-0.513604*@12))+(0.0829204*@13))+(-0.00435759*@33))+(0.00506374*@14))+(-0.00611303*@15))+(0.0102847*@16))+(-0.00379224*@17))+(-0.0294055*@18))+(0.419925*@19))+(0.227622*@20))+(-0.146469*@21))+(-0.0620904*@22))+(0.00737756*@23))+(0.0606136*@24))+(0.243513*@25))+(2.0728*@26))+(3.37092e-19*@27))+(1.27137e-19*@28))+(-6.84126e-19*@29))+(2.59392e-19*@30))+(5.77772e-19*@31))+(-2.14881e-17*@32))))+(-0.0866027*(((((((((((((((((((((((((((((0.0418722*@5)+(-0.91421*@6))+(-0.527993*@7))+(-0.0471453*@8))+(0.00264923*@9))+(0.00755531*@10))+(-0.368394*@11))+(-0.732887*@12))+(0.634861*@13))+(-0.0154939*@33))+(0.043204*@14))+(-0.0910432*@15))+(0.217812*@16))+(-0.106617*@17))+(-0.721043*@18))+(0.966729*@19))+(-0.0933084*@20))+(0.214218*@21))+(0.096259*@22))+(-0.0265426*@23))+(0.0156405*@24))+(0.0140861*@25))+(0.108467*@26))+(2.20276*@27))+(4.30359e-19*@28))+(-5.2107e-18*@29))+(7.60859e-19*@30))+(-2.29366e-17*@31))+(-2.43898e-16*@32))))+(-0.35743*(((((((((((((((((((((((((((((-0.0230417*@5)+(0.71279*@6))+(0.17457*@7))+(0.0154648*@8))+(0.000538791*@9))+(-0.00999494*@10))+(0.222398*@11))+(-0.0111034*@12))+(0.217858*@13))+(0.037703*@33))+(-0.0641985*@14))+(0.0746528*@15))+(0.154452*@16))+(-0.496573*@17))+(-1.12807*@18))+(-0.520562*@19))+(-0.0638827*@20))+(0.0139809*@21))+(-0.0988356*@22))+(0.0276496*@23))+(-0.00470768*@24))+(-0.00520552*@25))+(-0.0357956*@26))+(-1.22618*@27))+(2.55326*@28))+(-2.21893e-18*@29))+(-1.07359e-21*@30))+(1.77474e-17*@31))+(-7.70438e-17*@32))))+(0.837387*(((((((((((((((((((((((((((((-3.04453*@5)+(-0.132164*@6))+(-0.767027*@7))+(0.337521*@8))+(-0.0510691*@9))+(-0.00508538*@10))+(1.22507*@11))+(-1.70117*@12))+(0.385478*@13))+(-0.0217963*@33))+(0.0227486*@14))+(-0.0232995*@15))+(0.0251693*@16))+(0.00622834*@17))+(-0.0409594*@18))+(1.81538*@19))+(0.689924*@20))+(-0.661085*@21))+(-0.186894*@22))+(0.0665255*@23))+(-0.0749681*@24))+(-0.0646615*@25))+(-2.33083*@26))+(0.284623*@27))+(-0.105988*@28))+(4.1499*@29))+(8.97966e-19*@30))+(-1.4405e-17*@31))+(-1.25866e-16*@32))))+(-0.572537*(((((((((((((((((((((((((((((-0.191822*@5)+(-0.231691*@6))+(0.593228*@7))+(-1.10146*@8))+(0.0834768*@9))+(-0.0587573*@10))+(-0.00803472*@11))+(-0.382162*@12))+(0.112656*@13))+(-0.00664174*@33))+(0.00118066*@14))+(0.00687187*@15))+(-0.0162855*@16))+(-0.00211357*@17))+(0.0480431*@18))+(0.481874*@19))+(0.151421*@20))+(-0.123732*@21))+(0.30851*@22))+(0.610839*@23))+(-2.52912*@24))+(0.290855*@25))+(0.362701*@26))+(-0.156133*@27))+(0.0560771*@28))+(-1.65292*@29))+(3.71077*@30))+(3.21748e-17*@31))+(-1.19062e-16*@32))))+(-0.2794*(((((((((((((((((((((((((((((0.734882*@5)+(0.564603*@6))+(-0.0583672*@7))+(0.00727828*@8))+(-0.00122095*@9))+(-0.0210277*@10))+(-0.849714*@11))+(4.87406*@12))+(-4.33638*@13))+(-0.201808*@33))+(0.148251*@14))+(-0.0383623*@15))+(-0.0533261*@16))+(0.0408323*@17))+(0.420373*@18))+(-1.70165*@19))+(-7.23767*@20))+(1.9434*@21))+(-0.148856*@22))+(0.0220823*@23))+(0.141078*@24))+(-0.00164121*@25))+(0.141703*@26))+(-0.133776*@27))+(-0.147812*@28))+(-0.28855*@29))+(-0.133075*@30))+(6.68726*@31))+(8.66877e-16*@32))))+(3.94522*(((((((((((((((((((((((((((((0.425976*@5)+(1.18234*@6))+(-0.206069*@7))+(0.0144148*@8))+(0.00646199*@9))+(0.0257831*@10))+(-0.0370834*@11))+(4.98222*@12))+(-8.36783*@13))+(-0.644761*@33))+(0.479891*@14))+(-0.367059*@15))+(0.304435*@16))+(-0.154009*@17))+(-0.523236*@18))+(-1.95416*@19))+(1.3457*@20))+(-0.869164*@21))+(0.233347*@22))+(-0.0588092*@23))+(-0.0332094*@24))+(-0.00743579*@25))+(0.0546661*@26))+(-0.165547*@27))+(0.275006*@28))+(-0.0797044*@29))+(-0.0668123*@30))+(-2.16293*@31))+(6.57091*@32))))+(-1.4991*((((((((((((((((((((((((((((((0.0366547*@5)+(0.128927*@6))+(-0.107694*@7))+(0.00787771*@8))+(0.00245276*@9))+(-0.0160228*@10))+(0.0543511*@11))+(-1.03936*@12))+(3.36586*@13))+(-0.690712*@33))+(0.35731*@14))+(-0.853645*@15))+(0.0464594*@16))+(0.062745*@17))+(-1.36019*@18))+(-0.0398961*@19))+(-1.44859*@20))+(0.462488*@21))+(-0.141573*@22))+(0.0326261*@23))+(0.0387727*@24))+(-0.00301685*@25))+(0.00425714*@26))+(0.213358*@27))+(0.36011*@28))+(0.0305036*@29))+(-0.0511525*@30))+(1.89694*@31))+(-4.10541*@32))+(3.00888*@34))))+(1.35966*(((((((((((((((((((((((((((((((-0.617859*@5)+(-6.0425*@6))+(-1.44709*@7))+(0.0495657*@8))+(-0.0157881*@9))+(0.0273428*@10))+(-0.618787*@11))+(-2.66358*@12))+(3.53292*@13))+(0.0405227*@33))+(-0.0546501*@14))+(-0.00575603*@15))+(0.0156409*@16))+(-0.140677*@17))+(-0.465493*@18))+(3.44757*@19))+(0.204271*@20))+(0.235176*@21))+(0.196741*@22))+(-0.116221*@23))+(0.24413*@24))+(-0.003182*@25))+(-0.218343*@26))+(-3.78993*@27))+(1.02946*@28))+(0.87944*@29))+(-0.290447*@30))+(-0.312671*@31))+(-1.54473*@32))+(0.275562*@34))+(7.79889*(@1*exp((@2*((sq((6.20881-x_5))/@3)+(sq((-2.24475-x_6))/@4))))))))), (((((((((((((((((((((((((((((((-0.000702093*(5.08073*@38))+(0.00174859*(((((((((((((((((((((((((((((((-5.36565*@38)+(7.38945*@39))+(-7.38807e-16*@40))+(9.23508e-17*@41))+(-2.45554e-16*@42))+(1.34498e-16*@43))+(-4.74708e-16*@44))+(-2.1535e-16*@45))+(1.60333e-16*@46))+(-3.35484e-17*@47))+(-6.73232e-16*@48))+(-3.90593e-16*@49))+(7.05346e-16*@50))+(5.39025e-17*@51))+(-9.3069e-16*@52))+(9.22577e-16*@53))+(9.19462e-18*@54))+(2.35291e-17*@55))+(-9.5283e-18*@56))+(2.46964e-17*@57))+(-1.04836e-16*@58))+(-2.00574e-16*@59))+(2.75107e-16*@60))+(1.71879e-15*@61))+(1.4484e-17*@62))+(-7.05699e-17*@63))+(4.94985e-17*@64))+(-1.70384e-18*@65))+(7.10917e-18*@66))+(2.10271e-16*@67))+(2.28107e-15*@68))))+(-0.000842679*((((((((((((((((((((((((((((((1.86063*@38)+(-5.01795*@39))+(6.39504*@40))+(1.61755e-16*@42))+(-6.70755e-17*@43))+(3.83882e-16*@44))+(2.44354e-16*@45))+(-2.111e-16*@46))+(3.90383e-17*@47))+(4.1009e-16*@48))+(3.14823e-16*@49))+(-3.92808e-16*@50))+(1.98897e-16*@51))+(8.55236e-16*@52))+(-4.41309e-16*@53))+(-6.47144e-18*@54))+(-3.07238e-17*@55))+(1.61743e-17*@56))+(-1.98127e-18*@57))+(7.34995e-17*@58))+(1.51399e-16*@59))+(-7.74613e-17*@60))+(-9.75872e-16*@61))+(-4.82824e-17*@62))+(1.28273e-16*@63))+(-3.14248e-17*@64))+(5.46642e-19*@65))+(7.79694e-19*@66))+(-1.58432e-16*@67))+(-1.96559e-15*@68))))+(0.000461737*(((((((((((((((((((((((((((((((-2.03481*@38)+(1.52822*@39))+(-2.06375*@40))+(5.54596*@41))+(-3.33057e-17*@42))+(-1.90007e-18*@43))+(-5.24068e-17*@44))+(-6.97922e-17*@45))+(4.85575e-17*@46))+(6.63174e-18*@47))+(-8.94295e-17*@48))+(-1.16255e-16*@49))+(2.9271e-16*@50))+(-7.54198e-17*@51))+(-5.65857e-16*@52))+(1.16164e-16*@53))+(-5.66417e-18*@54))+(1.05932e-17*@55))+(-6.30925e-18*@56))+(-3.35094e-19*@57))+(-4.43405e-17*@58))+(-3.37821e-17*@59))+(6.94142e-17*@60))+(1.85502e-16*@61))+(-3.39489e-17*@62))+(-6.65042e-17*@63))+(1.92302e-17*@64))+(-2.51291e-18*@65))+(9.50135e-18*@66))+(1.52455e-17*@67))+(3.16192e-16*@68))))+(0.000147608*(((((((((((((((((((((((((((((((-1.23173*@38)+(0.591369*@39))+(1.02351*@40))+(-5.61699*@41))+(7.61322*@42))+(1.63223e-18*@43))+(-3.90502e-17*@44))+(-6.81519e-17*@45))+(-1.60962e-17*@46))+(2.22027e-17*@47))+(-1.00799e-16*@48))+(4.24449e-17*@49))+(2.77038e-17*@50))+(6.54821e-17*@51))+(-3.75683e-16*@52))+(1.68996e-16*@53))+(1.04588e-17*@54))+(3.30981e-19*@55))+(-5.11929e-18*@56))+(6.22131e-18*@57))+(-2.11353e-17*@58))+(-4.30198e-17*@59))+(1.26745e-16*@60))+(1.21447e-16*@61))+(-9.14213e-17*@62))+(-2.13199e-17*@63))+(2.26266e-17*@64))+(3.20434e-18*@65))+(-1.26926e-17*@66))+(4.99117e-17*@67))+(6.04263e-16*@68))))+(-0.0013546*(((((((((((((((((((((((((((((((-1.54536*@38)+(1.2269*@39))+(-0.761665*@40))+(2.74559*@41))+(-4.59835*@42))+(6.2063*@43))+(-8.5874e-17*@44))+(-2.77315e-17*@45))+(3.8191e-17*@46))+(-2.57071e-17*@47))+(-9.71186e-18*@48))+(-8.5419e-17*@49))+(3.14253e-16*@50))+(1.15702e-17*@51))+(-1.71558e-16*@52))+(-1.0207e-17*@53))+(3.7013e-18*@54))+(7.16878e-18*@55))+(-2.80909e-18*@56))+(-4.03814e-18*@57))+(-1.6881e-17*@58))+(-4.04488e-17*@59))+(1.08325e-16*@60))+(2.99159e-16*@61))+(3.26104e-17*@62))+(-3.37443e-17*@63))+(5.73417e-19*@64))+(-4.58164e-18*@65))+(1.86877e-17*@66))+(6.47138e-18*@67))+(-4.67071e-17*@68))))+(7.99167e-05*(((((((((((((((((((((((((((((((-5.07977*@38)+(2.92064*@39))+(-0.456727*@40))+(-0.344608*@41))+(1.78048*@42))+(-5.13549*@43))+(8.12557*@44))+(-2.6455e-16*@45))+(3.63369e-17*@46))+(3.12364e-17*@47))+(-1.42119e-16*@48))+(-2.07512e-16*@49))+(6.03631e-16*@50))+(2.86628e-17*@51))+(-1.06918e-15*@52))+(5.42278e-16*@53))+(-2.8104e-17*@54))+(3.61647e-17*@55))+(7.67953e-18*@56))+(-3.1193e-17*@57))+(-5.6301e-17*@58))+(-4.33269e-17*@59))+(1.40948e-16*@60))+(2.59697e-16*@61))+(-1.40195e-16*@62))+(-7.52149e-17*@63))+(5.61087e-18*@64))+(1.85251e-18*@65))+(-1.24405e-17*@66))+(1.52464e-16*@67))+(2.14411e-15*@68))))+(0.00153612*((((((((((((((((((((((((((((((-4.28131*@38)+(0.590931*@39))+(0.315675*@40))+(0.670732*@41))+(-0.114082*@42))+(2.50058*@43))+(-5.07682*@44))+(8.36831*@45))+(-3.38475e-17*@47))+(-2.6328e-17*@48))+(-5.57765e-17*@49))+(7.78032e-17*@50))+(-6.90323e-17*@51))+(-2.814e-18*@52))+(2.85235e-18*@53))+(1.5817e-17*@54))+(9.91811e-18*@55))+(-1.69027e-17*@56))+(1.63804e-17*@57))+(7.22581e-18*@58))+(-1.12156e-17*@59))+(3.49236e-17*@60))+(2.33217e-16*@61))+(2.6032e-17*@62))+(-1.78185e-17*@63))+(-2.26182e-17*@64))+(-2.37679e-18*@65))+(1.18118e-17*@66))+(-2.52057e-17*@67))+(-3.34648e-16*@68))))+(-0.00315279*(((((((((((((((((((((((((((((((3.74048*@38)+(-1.39196*@39))+(0.22656*@40))+(-0.456371*@41))+(0.0972547*@42))+(-1.39372*@43))+(4.105*@44))+(-15.4932*@45))+(12.7538*@46))+(5.67048e-17*@47))+(6.98773e-17*@48))+(1.59883e-16*@49))+(-2.89087e-16*@50))+(1.08929e-16*@51))+(2.93661e-16*@52))+(-1.61885e-16*@53))+(-2.15352e-17*@54))+(-2.43031e-17*@55))+(1.69963e-17*@56))+(-1.04592e-17*@57))+(2.43098e-17*@58))+(7.15105e-18*@59))+(-1.52465e-17*@60))+(-3.70799e-16*@61))+(4.51781e-17*@62))+(7.82976e-17*@63))+(-1.86947e-17*@64))+(1.58225e-18*@65))+(-9.38272e-18*@66))+(4.41146e-19*@67))+(-1.53206e-19*@68))))+(0.00229389*(((((((((((((((((((((((((((((((-0.792987*@38)+(0.497819*@39))+(-0.162088*@40))+(0.0745071*@41))+(-0.0515399*@42))+(0.186549*@43))+(-0.97984*@44))+(6.27293*@45))+(-7.8019*@46))+(6.28136*@47))+(1.72672e-17*@48))+(-9.79873e-17*@49))+(1.34245e-16*@50))+(5.86364e-19*@51))+(-1.77166e-16*@52))+(1.26428e-16*@53))+(8.52683e-18*@54))+(5.66961e-18*@55))+(-5.51082e-18*@56))+(2.04568e-18*@57))+(-7.29475e-18*@58))+(-4.39021e-18*@59))+(1.39107e-17*@60))+(1.47912e-16*@61))+(-5.00623e-17*@62))+(-2.06804e-17*@63))+(1.70377e-17*@64))+(-6.73812e-19*@65))+(4.76569e-18*@66))+(-3.12161e-18*@67))+(-8.71165e-17*@68))))+(0.000405518*(((((((((((((((((((((((((((((((-0.080555*@38)+(-0.955915*@39))+(0.464701*@40))+(-0.0299706*@41))+(0.0650739*@42))+(-0.176026*@43))+(-0.0369603*@44))+(2.78921*@45))+(-3.9963*@46))+(-3.8168*@47))+(7.40069*@48))+(2.56727e-17*@49))+(-4.70526e-17*@50))+(-6.31549e-19*@51))+(2.9589e-16*@52))+(-2.99752e-17*@53))+(-7.93588e-18*@54))+(1.14346e-17*@55))+(5.58847e-18*@56))+(-4.93211e-18*@57))+(-1.23424e-17*@58))+(2.76869e-17*@59))+(-3.73782e-17*@60))+(-2.11248e-16*@61))+(-7.00651e-17*@62))+(-2.4184e-17*@63))+(5.21287e-17*@64))+(2.21615e-18*@65))+(-8.33498e-18*@66))+(-1.27234e-17*@67))+(-2.05382e-16*@68))))+(-0.000378821*((((((((((((((((((((((((((((((2.09387*@38)+(-3.58241*@39))+(1.08134*@40))+(-0.046296*@41))+(-0.153608*@42))+(0.0959942*@43))+(-0.350068*@44))+(-0.738268*@45))+(0.666878*@46))+(3.14345*@47))+(-7.4938*@48))+(8.1347*@49))+(-1.10131e-15*@50))+(4.67813e-16*@51))+(5.1702e-16*@52))+(-2.2378e-16*@53))+(-5.47426e-17*@54))+(-4.73616e-18*@55))+(4.0008e-18*@56))+(-1.09879e-17*@57))+(6.93518e-17*@58))+(1.53497e-16*@59))+(-4.99256e-16*@60))+(-8.47649e-16*@61))+(-1.75335e-16*@62))+(1.0659e-16*@63))+(2.1909e-17*@64))+(-2.11432e-17*@65))+(8.05429e-17*@66))+(-2.92542e-16*@67))))+(-0.000152557*(((((((((((((((((((((((((((((((2.1074*@38)+(-2.63063*@39))+(-0.270299*@40))+(0.387769*@41))+(-0.484359*@42))+(0.236845*@43))+(-0.491327*@44))+(-0.561601*@45))+(0.398278*@46))+(-1.83567*@47))+(4.88653*@48))+(-8.28355*@49))+(8.50426*@50))+(-1.68471e-15*@51))+(8.71851e-16*@52))+(-4.83697e-16*@53))+(1.06623e-16*@54))+(-8.37305e-17*@55))+(1.28032e-17*@56))+(6.77956e-18*@57))+(2.2937e-18*@58))+(-8.2879e-17*@59))+(3.76739e-16*@60))+(2.90331e-16*@61))+(2.94802e-16*@62))+(1.48699e-16*@63))+(-7.93957e-17*@64))+(1.99942e-17*@65))+(-9.53098e-17*@66))+(9.5957e-17*@67))+(-1.60891e-15*@68))))+(6.71202e-05*(((((((((((((((((((((((((((((((-0.860219*@38)+(1.9085*@39))+(-1.29852*@40))+(0.37337*@41))+(-0.171259*@42))+(0.00847748*@43))+(0.206139*@44))+(0.00624303*@45))+(-0.0728267*@46))+(0.885062*@47))+(-2.80928*@48))+(6.43123*@49))+(-12.1875*@50))+(10.0892*@51))+(-1.0572e-15*@52))+(4.76187e-16*@53))+(-1.03742e-16*@54))+(1.25285e-16*@55))+(4.0483e-18*@56))+(-2.47725e-17*@57))+(-3.88842e-17*@58))+(6.4802e-17*@59))+(-2.69914e-16*@60))+(-3.49305e-16*@61))+(-1.09513e-16*@62))+(-1.81665e-16*@63))+(1.34846e-16*@64))+(-1.94402e-17*@65))+(8.54896e-17*@66))+(-6.73378e-17*@67))+(1.0572e-15*@68))))+(-0.000116687*(((((((((((((((((((((((((((((((4.08336*@38)+(-11.719*@39))+(1.24488*@40))+(0.7043*@41))+(-0.557104*@42))+(-0.0353856*@43))+(-0.141341*@44))+(-0.662252*@45))+(-0.788182*@46))+(0.237382*@47))+(0.457801*@48))+(-2.12185*@49))+(-7.44177*@50))+(0.897514*@51))+(15.3639*@52))+(-2.79165e-15*@53))+(-3.15312e-17*@54))+(1.12668e-16*@55))+(1.24824e-16*@56))+(-7.22039e-17*@57))+(9.16103e-16*@58))+(9.16681e-16*@59))+(-1.27242e-15*@60))+(-5.06152e-15*@61))+(3.63799e-15*@62))+(4.7112e-16*@63))+(4.78721e-16*@64))+(-4.18175e-17*@65))+(4.30434e-16*@66))+(-1.69095e-15*@67))+(-1.57106e-15*@68))))+(-0.00196701*(((((((((((((((((((((((((((((((-5.33122*@38)+(-1.67812*@39))+(1.76497*@40))+(-0.0605993*@41))+(0.895794*@42))+(-1.39306*@43))+(3.63056*@44))+(-4.32875*@45))+(-4.17297*@46))+(1.59082*@47))+(-1.03926*@48))+(-2.44927*@49))+(4.24114*@50))+(-0.426648*@51))+(-6.38674*@52))+(15.5198*@53))+(9.56488e-17*@54))+(-1.12873e-16*@55))+(-3.1513e-17*@56))+(4.14425e-18*@57))+(-2.18485e-16*@58))+(-1.38459e-16*@59))+(1.5917e-16*@60))+(6.62234e-16*@61))+(-1.20906e-15*@62))+(2.07749e-16*@63))+(-4.60438e-16*@64))+(5.75758e-18*@65))+(-1.15271e-16*@66))+(1.94872e-16*@67))+(-2.79299e-15*@68))))+(0.000679702*(((((((((((((((((((((((((((((((1.38783*@38)+(-2.63018*@39))+(0.579118*@40))+(-0.0678474*@41))+(-0.169861*@42))+(0.637661*@43))+(-1.28041*@44))+(-0.759039*@45))+(-9.35387*@46))+(-3.63945*@47))+(3.88311*@48))+(-2.31522*@49))+(1.08132*@50))+(-0.115552*@51))+(-0.351701*@52))+(5.47777*@53))+(9.67478*@54))+(-4.18782e-17*@55))+(-2.09171e-18*@56))+(2.0923e-17*@57))+(1.14698e-17*@58))+(-1.4287e-17*@59))+(1.03791e-16*@60))+(4.64282e-17*@61))+(-9.85103e-17*@62))+(6.62721e-17*@63))+(-5.39068e-17*@64))+(7.13266e-19*@65))+(2.2862e-18*@66))+(-7.98097e-17*@67))+(-1.2006e-15*@68))))+(-0.00043299*(((((((((((((((((((((((((((((((3.39595*@38)+(-1.99656*@39))+(0.318613*@40))+(-0.337168*@41))+(0.120995*@42))+(1.97827*@43))+(-7.34719*@44))+(-1.80644*@45))+(3.54554*@46))+(2.77621*@47))+(-1.39717*@48))+(0.297022*@49))+(-0.0198575*@50))+(-0.0445539*@51))+(0.641091*@52))+(-0.726221*@53))+(-9.50717*@54))+(11.9937*@55))+(-1.30436e-18*@56))+(1.04323e-17*@57))+(1.33232e-16*@58))+(1.32629e-16*@59))+(-3.65389e-16*@60))+(-2.75286e-16*@61))+(5.1805e-16*@62))+(1.42728e-16*@63))+(-1.49788e-16*@64))+(-2.76017e-18*@65))+(3.63837e-17*@66))+(-2.01129e-16*@67))+(-2.83959e-15*@68))))+(0.00330027*(((((((((((((((((((((((((((((((1.40738*@38)+(-0.758852*@39))+(0.23323*@40))+(-1.08074*@41))+(1.91753*@42))+(-2.75353*@43))+(-3.90455*@44))+(4.79274*@45))+(-1.35224*@46))+(-1.06723*@47))+(0.272322*@48))+(0.209603*@49))+(-0.258033*@50))+(-0.0957443*@51))+(0.961528*@52))+(-2.39932*@53))+(4.55347*@54))+(-10.3836*@55))+(11.2711*@56))+(4.88418e-18*@57))+(5.13005e-17*@58))+(2.51102e-17*@59))+(-5.60017e-17*@60))+(-1.059e-16*@61))+(5.58966e-17*@62))+(-8.21635e-17*@63))+(1.20914e-16*@64))+(5.68065e-19*@65))+(2.17747e-17*@66))+(-6.64978e-17*@67))+(9.36571e-16*@68))))+(0.00332787*(((((((((((((((((((((((((((((((-0.15283*@38)+(-0.179323*@39))+(0.265247*@40))+(-1.2713*@41))+(2.64935*@42))+(-7.4378*@43))+(4.22637*@44))+(-1.73384*@45))+(-0.289014*@46))+(0.212101*@47))+(0.199899*@48))+(-0.1231*@49))+(0.0469839*@50))+(-0.0375645*@51))+(-0.0524564*@52))+(0.733301*@53))+(-1.35654*@54))+(5.44063*@55))+(-11.916*@56))+(12.4103*@57))+(-3.79101e-17*@58))+(-4.72057e-17*@59))+(1.44019e-16*@60))+(-9.10767e-17*@61))+(1.86863e-16*@62))+(-6.31806e-18*@63))+(-9.06517e-19*@64))+(7.25932e-18*@65))+(-3.95291e-17*@66))+(1.30537e-16*@67))+(5.38276e-16*@68))))+(0.00264634*(((((((((((((((((((((((((((((((-10.1074*@38)+(3.32003*@39))+(-0.352792*@40))+(0.505476*@41))+(-5.49682*@42))+(-4.0586*@43))+(-6.50185*@44))+(3.3171*@45))+(-0.775612*@46))+(0.417911*@47))+(-0.609162*@48))+(-0.0331761*@49))+(0.0291221*@50))+(0.0643524*@51))+(-1.22136*@52))+(2.8235*@53))+(-1.30292*@54))+(1.94051*@55))+(0.479877*@56))+(2.22054*@57))+(14.8903*@58))+(-2.07123e-16*@59))+(7.25612e-16*@60))+(2.3172e-16*@61))+(-5.45907e-16*@62))+(8.38527e-17*@63))+(-1.43508e-16*@64))+(2.13477e-18*@65))+(-6.1154e-17*@66))+(2.39402e-16*@67))+(-3.42422e-16*@68))))+(-0.000646006*(((((((((((((((((((((((((((((((0.385348*@38)+(1.34864*@39))+(0.155522*@40))+(-9.39155*@41))+(1.66528*@42))+(-1.41886*@43))+(-1.38202*@44))+(-0.659997*@45))+(1.02998*@46))+(-0.0681658*@47))+(-0.0704337*@48))+(0.345203*@49))+(0.163645*@50))+(-0.0527203*@51))+(-0.838419*@52))+(-1.0182*@53))+(-0.288391*@54))+(0.461836*@55))+(0.209923*@56))+(0.612201*@57))+(2.92369*@58))+(8.95234*@59))+(1.86826e-16*@60))+(7.90047e-17*@61))+(-3.19518e-16*@62))+(-1.26887e-18*@63))+(-5.6233e-17*@64))+(5.44513e-18*@65))+(-5.78733e-17*@66))+(1.86291e-16*@67))+(7.94737e-16*@68))))+(6.76909e-06*(((((((((((((((((((((((((((((((-0.502195*@38)+(2.74919*@39))+(-6.9862*@40))+(-5.87203*@41))+(4.15713*@42))+(-1.63321*@43))+(0.867059*@44))+(0.429534*@45))+(0.343912*@46))+(-0.174406*@47))+(0.353818*@48))+(-0.183084*@49))+(-1.36966*@50))+(1.21079*@51))+(1.28528*@52))+(-1.80715*@53))+(0.036401*@54))+(-0.388326*@55))+(-0.185925*@56))+(0.695988*@57))+(-0.561494*@58))+(-3.37574*@59))+(11.4598*@60))+(-5.02755e-16*@61))+(1.46252e-16*@62))+(-1.27866e-16*@63))+(1.75864e-16*@64))+(1.2588e-17*@65))+(-4.57225e-17*@66))+(1.59235e-16*@67))+(8.81508e-16*@68))))+(0.00115873*(((((((((((((((((((((((((((((((0.547543*@38)+(3.06683*@39))+(-11.814*@40))+(0.657289*@41))+(-0.0196491*@42))+(0.312906*@43))+(0.198441*@44))+(-1.00201*@45))+(0.471496*@46))+(0.130205*@47))+(-0.428109*@48))+(0.621427*@49))+(3.89878*@50))+(-5.57*@51))+(-4.76586*@52))+(0.315029*@53))+(-0.0312488*@54))+(0.140829*@55))+(0.00782515*@56))+(-0.152615*@57))+(-0.704456*@58))+(-1.80359*@59))+(4.64753*@60))+(12.0344*@61))+(-1.69245e-15*@62))+(-2.42541e-16*@63))+(-2.52312e-16*@64))+(2.55042e-17*@65))+(-2.06225e-16*@66))+(6.01061e-16*@67))+(1.79589e-15*@68))))+(-0.00165755*(((((((((((((((((((((((((((((((-0.106441*@38)+(0.0353169*@39))+(4.17918*@40))+(-0.842915*@41))+(0.486294*@42))+(-0.0926088*@43))+(0.164015*@44))+(-0.427065*@45))+(-0.146133*@46))+(0.345358*@47))+(-0.936091*@48))+(1.52671*@49))+(1.66442*@50))+(-9.84457*@51))+(-3.66645*@52))+(1.38809*@53))+(-0.00465044*@54))+(0.0768727*@55))+(-0.0321029*@56))+(0.0211774*@57))+(-0.180837*@58))+(0.125181*@59))+(-0.0174832*@60))+(-14.2027*@61))+(20.0534*@62))+(7.75978e-17*@63))+(-1.55196e-16*@64))+(2.93762e-17*@65))+(-2.07266e-16*@66))+(6.15353e-16*@67))+(2.28552e-15*@68))))+(8.53772e-05*((((((((((((((((((((((((((((((-4.08302*@38)+(-7.82842*@39))+(-7.98973*@40))+(-8.71054*@41))+(2.67581*@42))+(-0.272062*@43))+(1.32585*@44))+(1.73577*@45))+(-2.03668*@46))+(0.289871*@47))+(-0.224606*@48))+(-0.865152*@49))+(0.141102*@50))+(-0.762914*@51))+(2.85819*@52))+(4.05315*@53))+(0.167934*@54))+(-0.432874*@55))+(-0.290711*@56))+(0.00438025*@57))+(-1.22317*@58))+(3.88291*@59))+(-2.97379*@60))+(4.05403*@61))+(-0.635772*@62))+(17.103*@63))+(-2.07026e-18*@65))+(7.75543e-17*@66))+(-3.09157e-16*@67))+(-3.64359e-15*@68))))+(-0.000317398*(((((((((((((((((((((((((((((((-8.58315*@38)+(0.337431*@39))+(3.12008*@40))+(-5.02055*@41))+(0.193975*@42))+(2.69339*@43))+(2.34481*@44))+(2.0216*@45))+(-0.776086*@46))+(0.164785*@47))+(-0.195447*@48))+(-0.332227*@49))+(-0.381737*@50))+(0.286807*@51))+(0.900733*@52))+(1.92796*@53))+(-0.216314*@54))+(-0.559307*@55))+(-0.126218*@56))+(-1.03651*@57))+(-10.0216*@58))+(1.9348*@59))+(1.14843*@60))+(-0.42649*@61))+(-0.422768*@62))+(-9.74988*@63))+(20.9751*@64))+(-8.03974e-18*@65))+(9.02133e-17*@66))+(-3.19561e-16*@67))+(2.35219e-15*@68))))+(0.00571414*(((((((((((((((((((((((((((((((1.41336*@38)+(-0.360193*@39))+(0.076061*@40))+(0.302323*@41))+(0.243973*@42))+(0.0156133*@43))+(0.251959*@44))+(2.38905*@45))+(-11.2081*@46))+(-6.0804*@47))+(-1.25766*@48))+(0.925602*@49))+(-0.406807*@50))+(0.0596961*@51))+(-0.14199*@52))+(0.991458*@53))+(-10.9491*@54))+(4.34129*@55))+(-1.07287*@56))+(0.000214734*@57))+(-0.553033*@58))+(-0.191151*@59))+(0.128866*@60))+(-0.0328428*@61))+(0.145735*@62))+(-0.20126*@63))+(-0.685755*@64))+(20.9458*@65))+(-2.0778e-17*@66))+(2.37719e-17*@67))+(-7.26684e-17*@68))))+(0.00543563*(((((((((((((((((((((((((((((((3.37153*@38)+(2.14427*@39))+(-0.285983*@40))+(0.135802*@41))+(0.307647*@42))+(-0.274887*@43))+(1.16386*@44))+(1.18448*@45))+(-10.3533*@46))+(1.99724*@47))+(-6.24346*@48))+(-0.393997*@49))+(1.21585*@50))+(-0.433668*@51))+(-0.908596*@52))+(-8.74795*@53))+(3.07487*@54))+(1.39239*@55))+(-1.55933*@56))+(0.510374*@57))+(-0.795824*@58))+(-0.106178*@59))+(0.3283*@60))+(0.093637*@61))+(-0.00759371*@62))+(-0.783084*@63))+(-0.681517*@64))+(-7.20916*@65))+(21.4768*@66))+(3.71696e-16*@67))+(6.28934e-16*@68))))+(-0.00246895*(((((((((((((((((((((((((((((((2.10995*@38)+(1.79788*@39))+(0.35288*@40))+(-0.208557*@41))+(0.164928*@42))+(0.124024*@43))+(-0.569387*@44))+(3.21668*@45))+(1.41988*@46))+(0.688528*@47))+(-0.535149*@48))+(-8.44594*@49))+(2.10702*@50))+(0.279806*@51))+(-7.32384*@52))+(-9.63778*@53))+(-0.203009*@54))+(-0.602338*@55))+(0.117612*@56))+(0.0740175*@57))+(-0.434045*@58))+(0.277713*@59))+(-0.472156*@60))+(0.159845*@61))+(0.414828*@62))+(0.172959*@63))+(-0.356028*@64))+(1.5119*@65))+(-7.98114*@66))+(21.6903*@67))+(-2.13228e-15*@68))))+(-0.00356456*(((((((((((((((((((((((((((((((2.21771*@38)+(-8.98636*@39))+(-5.14503*@40))+(0.0237744*@41))+(0.0318529*@42))+(0.299263*@43))+(-0.272472*@44))+(-0.750733*@45))+(-0.665626*@46))+(0.508379*@47))+(-1.45002*@48))+(1.72229*@49))+(-1.07252*@50))+(2.12595*@51))+(-8.34963*@52))+(2.79882*@53))+(0.132267*@54))+(0.215767*@55))+(0.0999567*@56))+(-0.0640322*@57))+(-1.06165*@58))+(-0.840358*@59))+(2.71656*@60))+(-4.04515*@61))+(-4.54677*@62))+(-1.73173*@63))+(1.6723*@64))+(0.0910506*@65))+(-0.635625*@66))+(2.83245*@67))+(21.5365*@68))))]\n"
     ]
    },
    {
     "ename": "NotImplementedError",
     "evalue": "Wrong number or type of arguments for overloaded function '_vertcat'.\n  Possible prototypes are:\n    _vertcat([Sparsity])\n    _vertcat([DM])\n    _vertcat([SX])\n    _vertcat([MX])\n  You have: '(([int|SX],SX))'\n",
     "output_type": "error",
     "traceback": [
      "\u001b[0;31m---------------------------------------------------------------------------\u001b[0m",
      "\u001b[0;31mNotImplementedError\u001b[0m                       Traceback (most recent call last)",
      "Cell \u001b[0;32mIn [94], line 1\u001b[0m\n\u001b[0;32m----> 1\u001b[0m f1 \u001b[38;5;241m=\u001b[39m cs\u001b[38;5;241m.\u001b[39mFunction(\u001b[38;5;124m'\u001b[39m\u001b[38;5;124mf\u001b[39m\u001b[38;5;124m'\u001b[39m,[x1,x2],[\u001b[43mf\u001b[49m\u001b[43m(\u001b[49m\u001b[43mx1\u001b[49m\u001b[43m,\u001b[49m\u001b[43mx2\u001b[49m\u001b[43m)\u001b[49m]);\n\u001b[1;32m      2\u001b[0m f1(\u001b[38;5;241m-\u001b[39m\u001b[38;5;241m9\u001b[39m,\u001b[38;5;241m0\u001b[39m)\n",
      "Cell \u001b[0;32mIn [87], line 4\u001b[0m, in \u001b[0;36mf\u001b[0;34m(x1, x2)\u001b[0m\n\u001b[1;32m      2\u001b[0m X \u001b[38;5;241m=\u001b[39m [x1, x2, \u001b[38;5;241m0\u001b[39m, \u001b[38;5;241m0\u001b[39m, \u001b[38;5;241m0\u001b[39m, \u001b[38;5;241m0\u001b[39m,\u001b[38;5;241m0\u001b[39m ,\u001b[38;5;241m0\u001b[39m ,\u001b[38;5;241m0\u001b[39m ,\u001b[38;5;241m0\u001b[39m, \u001b[38;5;241m0\u001b[39m]\n\u001b[1;32m      3\u001b[0m u0 \u001b[38;5;241m=\u001b[39m [\u001b[38;5;241m0\u001b[39m,\u001b[38;5;241m0\u001b[39m,\u001b[38;5;241m0\u001b[39m,\u001b[38;5;241m0\u001b[39m,\u001b[38;5;241m0\u001b[39m]\n\u001b[0;32m----> 4\u001b[0m mean \u001b[38;5;241m=\u001b[39m \u001b[43mmodelGP\u001b[49m\u001b[38;5;241;43m.\u001b[39;49m\u001b[43mcontinuous_model\u001b[49m\u001b[43m(\u001b[49m\u001b[43mX\u001b[49m\u001b[43m,\u001b[49m\u001b[43mu0\u001b[49m\u001b[43m)\u001b[49m\n\u001b[1;32m      5\u001b[0m \u001b[38;5;28;01mreturn\u001b[39;00m mean\n",
      "Cell \u001b[0;32mIn [88], line 134\u001b[0m, in \u001b[0;36mDroneGPModel.continuous_model\u001b[0;34m(self, x, u)\u001b[0m\n\u001b[1;32m    129\u001b[0m \u001b[38;5;28mprint\u001b[39m(d_mean)\n\u001b[1;32m    130\u001b[0m \u001b[38;5;66;03m# d_mean = [test(x_gp[0], x_gp[1]),  test(x_gp[0], x_gp[1])]\u001b[39;00m\n\u001b[1;32m    131\u001b[0m \u001b[38;5;66;03m# print(d_mean)\u001b[39;00m\n\u001b[1;32m    132\u001b[0m \n\u001b[1;32m    133\u001b[0m \u001b[38;5;66;03m# Compute the mean of the next state\u001b[39;00m\n\u001b[0;32m--> 134\u001b[0m x_full \u001b[38;5;241m=\u001b[39m \u001b[43mcasadi\u001b[49m\u001b[38;5;241;43m.\u001b[39;49m\u001b[43mvertcat\u001b[49m\u001b[43m(\u001b[49m\u001b[43mx_mean\u001b[49m\u001b[43m,\u001b[49m\u001b[43m \u001b[49m\u001b[43md_mean\u001b[49m\u001b[43m)\u001b[49m\n\u001b[1;32m    135\u001b[0m \u001b[38;5;28mprint\u001b[39m(x_mean)\n\u001b[1;32m    136\u001b[0m \u001b[38;5;28mprint\u001b[39m(x_mean\u001b[38;5;241m.\u001b[39mshape)\n",
      "File \u001b[0;32m~/uav_mpcc/src/lmpcc/lmpcc/python_forces_code/venv/lib/python3.8/site-packages/casadi/casadi.py:466\u001b[0m, in \u001b[0;36mvertcat\u001b[0;34m(*args)\u001b[0m\n\u001b[0;32m--> 466\u001b[0m \u001b[38;5;28;01mdef\u001b[39;00m \u001b[38;5;21mvertcat\u001b[39m(\u001b[38;5;241m*\u001b[39margs): \u001b[38;5;28;01mreturn\u001b[39;00m \u001b[43m_vertcat\u001b[49m\u001b[43m(\u001b[49m\u001b[43margs\u001b[49m\u001b[43m)\u001b[49m\n",
      "File \u001b[0;32m~/uav_mpcc/src/lmpcc/lmpcc/python_forces_code/venv/lib/python3.8/site-packages/casadi/casadi.py:20001\u001b[0m, in \u001b[0;36m_vertcat\u001b[0;34m(*args)\u001b[0m\n\u001b[1;32m  19989\u001b[0m \u001b[38;5;28;01mdef\u001b[39;00m \u001b[38;5;21m_vertcat\u001b[39m(\u001b[38;5;241m*\u001b[39margs) \u001b[38;5;241m-\u001b[39m\u001b[38;5;241m>\u001b[39m \u001b[38;5;124m\"\u001b[39m\u001b[38;5;124mcasadi::Matrix< casadi::SXElem >\u001b[39m\u001b[38;5;124m\"\u001b[39m:\n\u001b[1;32m  19990\u001b[0m     \u001b[38;5;124;03m\"\"\"\u001b[39;00m\n\u001b[1;32m  19991\u001b[0m \n\u001b[1;32m  19992\u001b[0m \n\u001b[0;32m   (...)\u001b[0m\n\u001b[1;32m  19999\u001b[0m \n\u001b[1;32m  20000\u001b[0m \u001b[38;5;124;03m    \"\"\"\u001b[39;00m\n\u001b[0;32m> 20001\u001b[0m     \u001b[38;5;28;01mreturn\u001b[39;00m \u001b[43m_casadi\u001b[49m\u001b[38;5;241;43m.\u001b[39;49m\u001b[43m_vertcat\u001b[49m\u001b[43m(\u001b[49m\u001b[38;5;241;43m*\u001b[39;49m\u001b[43margs\u001b[49m\u001b[43m)\u001b[49m\n",
      "\u001b[0;31mNotImplementedError\u001b[0m: Wrong number or type of arguments for overloaded function '_vertcat'.\n  Possible prototypes are:\n    _vertcat([Sparsity])\n    _vertcat([DM])\n    _vertcat([SX])\n    _vertcat([MX])\n  You have: '(([int|SX],SX))'\n"
     ]
    }
   ],
   "source": [
    "f1 = cs.Function('f',[x1,x2],[f(x1,x2)]);\n",
    "f1(-9,0)"
   ]
  },
  {
   "cell_type": "code",
   "execution_count": null,
   "id": "544392b3",
   "metadata": {},
   "outputs": [],
   "source": []
  },
  {
   "cell_type": "code",
   "execution_count": null,
   "id": "6429074b",
   "metadata": {},
   "outputs": [],
   "source": []
  }
 ],
 "metadata": {
  "kernelspec": {
   "display_name": "venv",
   "language": "python",
   "name": "venv"
  },
  "language_info": {
   "codemirror_mode": {
    "name": "ipython",
    "version": 3
   },
   "file_extension": ".py",
   "mimetype": "text/x-python",
   "name": "python",
   "nbconvert_exporter": "python",
   "pygments_lexer": "ipython3",
   "version": "3.8.10"
  }
 },
 "nbformat": 4,
 "nbformat_minor": 5
}
