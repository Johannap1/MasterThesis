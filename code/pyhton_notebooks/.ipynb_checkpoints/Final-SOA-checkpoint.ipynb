{
 "cells": [
  {
   "cell_type": "markdown",
   "id": "d5feb7e8",
   "metadata": {},
   "source": [
    "# Final performance comparison for state-of-the-art"
   ]
  },
  {
   "cell_type": "code",
   "execution_count": 34,
   "id": "124e57d4",
   "metadata": {},
   "outputs": [],
   "source": [
    "# General \n",
    "import sys\n",
    "import math\n",
    "import time\n",
    "import numpy as np\n",
    "import pandas as pd\n",
    "#Plotting\n",
    "import matplotlib.pyplot as plt\n",
    "from mpl_toolkits import mplot3d\n",
    "from matplotlib import cm\n",
    "#GPyTorch\n",
    "import torch\n",
    "import gpytorch\n",
    "from torch.utils.data import TensorDataset, DataLoader\n",
    "from gpytorch.models import ApproximateGP\n",
    "from gpytorch.variational import CholeskyVariationalDistribution\n",
    "from gpytorch.variational import VariationalStrategy\n",
    "import tqdm\n",
    "#Sklearn \n",
    "from sklearn.model_selection import train_test_split\n",
    "from sklearn.metrics import mean_absolute_error\n",
    "from sklearn.metrics import mean_squared_error"
   ]
  },
  {
   "cell_type": "code",
   "execution_count": 46,
   "id": "bbc84b66",
   "metadata": {},
   "outputs": [],
   "source": [
    "def plot_wind_field(X=None, y=None, res=8, title=None, name=None):\n",
    "    fig, ax = plt.subplots(1, 1)\n",
    "    plt.axis('equal')\n",
    "    plt.grid(linestyle=':')\n",
    "    q = plt.quiver(X[::res, 0], X[::res, 1], y[::res,0], y[::res,1], scale=2.54*0.05, color='r',\n",
    "                   units='width', scale_units=\"inches\", width=0.003)\n",
    "    plt.title(title, fontsize=16)\n",
    "    plt.xlabel('x [m]', fontsize=14)\n",
    "    plt.ylabel('y [m]', fontsize=14)\n",
    "    plt.rc('xtick', labelsize=14) \n",
    "    plt.rc('ytick', labelsize=14) \n",
    "    plt.ioff()\n",
    "    plt.autoscale()\n",
    "    if not name==None:\n",
    "        plt.savefig(name,  bbox_inches=\"tight\")\n",
    "    plt.show()"
   ]
  },
  {
   "cell_type": "code",
   "execution_count": 49,
   "id": "cd06d210",
   "metadata": {},
   "outputs": [],
   "source": [
    "class Data:\n",
    "    def __init__(self, X=None, y=None):\n",
    "        self.X = X\n",
    "        self.y = y\n",
    "    def set_data(self, X, y):\n",
    "        self.X = X\n",
    "        self.y = y\n",
    "        self.read_data_torch()\n",
    "    def read_data_torch(self):\n",
    "        self.X_train =  torch.FloatTensor(self.X)\n",
    "        self.y_train =  torch.FloatTensor(self.y)\n",
    "        self.X_test =  torch.FloatTensor(self.X)\n",
    "        self.y_test =  torch.FloatTensor(self.y)\n",
    "    def read_data(self, inp):\n",
    "        return"
   ]
  },
  {
   "cell_type": "code",
   "execution_count": 52,
   "id": "c74c40de",
   "metadata": {},
   "outputs": [],
   "source": [
    "class GPModel(ApproximateGP):\n",
    "    def __init__(self, inducing_points):\n",
    "        variational_distribution = CholeskyVariationalDistribution(inducing_points.size(0))\n",
    "        variational_strategy = VariationalStrategy(self, inducing_points, variational_distribution, learn_inducing_locations=True)\n",
    "        super(GPModel, self).__init__(variational_strategy)\n",
    "        self.mean_module = gpytorch.means.ZeroMean()\n",
    "        self.covar_module = gpytorch.kernels.ScaleKernel(gpytorch.kernels.RBFKernel(ard_num_dims=2))\n",
    "        #self.covar_module = gpytorch.kernels.ScaleKernel(gpytorch.kernels.MaternKernel(nu=0.5, ard_num_dims=2))\n",
    "\n",
    "    def forward(self, x):\n",
    "        mean_x = self.mean_module(x)\n",
    "        covar_x = self.covar_module(x)\n",
    "        return gpytorch.distributions.MultivariateNormal(mean_x, covar_x)"
   ]
  },
  {
   "cell_type": "code",
   "execution_count": 53,
   "id": "c2fda3cd",
   "metadata": {},
   "outputs": [],
   "source": [
    "class SparseGPyTorchRegression:\n",
    "    def __init__(self, data, batch_size, epochs):\n",
    "        # Change dataset to torch tensor\n",
    "        self.data = data\n",
    "        data.read_data(\"torch\")\n",
    "        self.likelihood = []\n",
    "        self.model = []\n",
    "        self.batch_size = batch_size\n",
    "        self.n_epochs = epochs\n",
    "        self.sigma_f = []\n",
    "        self.length_scale = []\n",
    "        self.sigma_n = []\n",
    "    def fit(self):\n",
    "        for i in range(self.data.y.shape[1]):\n",
    "            train_dataset = TensorDataset(self.data.X_train, self.data.y_train[:,i])\n",
    "            train_loader = DataLoader(train_dataset, batch_size=self.batch_size, shuffle=True)\n",
    "            inducing_points = self.data.X_train[::int(self.data.y.shape[0]/30), :]\n",
    "            model = GPModel(inducing_points=inducing_points)\n",
    "            likelihood = gpytorch.likelihoods.GaussianLikelihood()\n",
    "            model.train()\n",
    "            likelihood.train()\n",
    "            # Use the adam optimizer\n",
    "            optimizer = torch.optim.Adam([\n",
    "                {'params': model.parameters()},\n",
    "                {'params': likelihood.parameters()},\n",
    "            ], lr=0.01)\n",
    "            # \"Loss\" for GPs - the marginal log likelihood\n",
    "            mll = gpytorch.mlls.VariationalELBO(likelihood, model, num_data=self.data.y_train[:,i].size(0))\n",
    "            num_epochs = self.n_epochs\n",
    "            epochs_iter = tqdm.notebook.tqdm(range(num_epochs), desc=\"Epoch\")\n",
    "            for i in epochs_iter:\n",
    "                # Within each iteration, we will go over each minibatch of data\n",
    "                minibatch_iter = tqdm.notebook.tqdm(train_loader, desc=\"Minibatch\", leave=False)\n",
    "                for x_batch, y_batch in minibatch_iter:\n",
    "                    optimizer.zero_grad()\n",
    "                    output = model(x_batch)\n",
    "                    loss = -mll(output, y_batch)\n",
    "                    minibatch_iter.set_postfix(loss=loss.item())\n",
    "                    loss.backward()\n",
    "                    optimizer.step()\n",
    "            self.likelihood.append(likelihood)\n",
    "            self.model.append(model)\n",
    "        #self.save_kernel_params()\n",
    "        \n",
    "    def get_kernel_params(self):\n",
    "        for i in range(self.data.y.shape[1]):\n",
    "            self.sigma_f.append(self.model[i].covar_module.outputscale.item())\n",
    "            self.length_scale.append([self.model[i].covar_module.base_kernel.lengthscale.detach().numpy().item(0),\n",
    "                                      self.model[i].covar_module.base_kernel.lengthscale.detach().numpy().item(1)])\n",
    "            self.sigma_n.append(self.likelihood[i].noise_covar.noise.item())\n",
    "    def save_kernel_params(self):\n",
    "        self.get_kernel_params()\n",
    "        for i in range(self.data.y.shape[1]):\n",
    "            name = \"gpytorch_y\" + str(i+1) + \"_\" + str(self.batch_size) + \"_\" + str(self.n_epochs)\n",
    "            self.data.save_kernel_params(name, self.length_scale[i], self.sigma_f[i], self.variance[i], self.sigma_n[i])\n",
    "    def predict(self, X_test=None):\n",
    "        if X_test == None:\n",
    "            X_test = self.X_test\n",
    "        self.mean = np.empty(X_test.shape)\n",
    "        self.upper = np.empty(X_test.shape)\n",
    "        self.lower = np.empty(X_test.shape)\n",
    "        for i in range(self.data.y.shape[1]):\n",
    "            self.model[i].eval()\n",
    "            self.likelihood[i].eval()\n",
    "            observed_pred = (self.model[i](X_test))\n",
    "            self.mean[:,i] = observed_pred.mean.detach().numpy()\n",
    "            lower, upper = observed_pred.confidence_region()\n",
    "            self.upper[:,i] = upper.detach().numpy()\n",
    "            self.lower[:,i] = lower.detach().numpy()\n",
    "    def get_covar(self, X_test):\n",
    "        for i in range(self.data.y.shape[1]):\n",
    "            self.model[i].eval()\n",
    "            self.likelihood[i].eval()\n",
    "            observed_pred = (self.model[i](X_test))\n",
    "            covar = observed_pred.covariance_matrix.detach().numpy()\n",
    "            print(covar)\n",
    "        #name = \"gpytorch\" + \"_\" + str(self.batch_size) + \"_\" + str(self.n_epochs)\n",
    "        #self.data.save_prediction(name, self.mean, self.upper, self.lower)\n",
    "    def save_model(self, type):\n",
    "        for i in range(self.data.y.shape[1]):\n",
    "            print(self.model[i].state_dict())\n",
    "            name = \"gpytorch_y\" + str(i+1) + type + \"_model.pth\"\n",
    "            torch.save(self.model[i].state_dict(), name)"
   ]
  },
  {
   "cell_type": "code",
   "execution_count": 55,
   "id": "6f170972",
   "metadata": {},
   "outputs": [],
   "source": [
    "def create_grid(start, stop, res, array_type = None):\n",
    "    x = np.linspace(start, stop, res)\n",
    "    y = np.linspace(start, stop, res)\n",
    "    x, y = np.meshgrid(x, y)\n",
    "    if array_type is None:\n",
    "        X = np.stack((x.flatten(), y.flatten()), axis=-1)\n",
    "    else:\n",
    "        X = torch.FloatTensor(np.stack((x.flatten(), y.flatten()), axis=-1))\n",
    "    return X, x, y"
   ]
  },
  {
   "cell_type": "markdown",
   "id": "457a5f54",
   "metadata": {},
   "source": [
    "# Training the GP"
   ]
  },
  {
   "cell_type": "markdown",
   "id": "d1e529d3",
   "metadata": {},
   "source": [
    "## First Iteration"
   ]
  },
  {
   "cell_type": "code",
   "execution_count": 47,
   "id": "b6ac24c1",
   "metadata": {},
   "outputs": [
    {
     "data": {
      "image/png": "[encoded data removed]",
      "text/plain": [
       "<Figure size 640x480 with 1 Axes>"
      ]
     },
     "metadata": {},
     "output_type": "display_data"
    }
   ],
   "source": [
    "data_it0 = pd.read_csv('/home/johanna/MasterThesis/Wind_data/soa_comp/lmpcc_simplesim_it0.csv')\n",
    "data_it0 = data_it0.to_numpy()\n",
    "x = data_it0[1:,0]\n",
    "y = data_it0[1:,1]\n",
    "# Plot the path data\n",
    "fig, ax = plt.subplots()\n",
    "ax.scatter(x, y)\n",
    "plt.show()"
   ]
  },
  {
   "cell_type": "code",
   "execution_count": 50,
   "id": "067009bc",
   "metadata": {},
   "outputs": [
    {
     "data": {
      "image/png": "[encoded data removed]",
      "text/plain": [
       "<Figure size 640x480 with 1 Axes>"
      ]
     },
     "metadata": {},
     "output_type": "display_data"
    }
   ],
   "source": [
    "# Plot the wind data\n",
    "vx = data_it0[1:,2]\n",
    "vy = data_it0[1:,4]\n",
    "vx_pred = data_it0[:-1,3]\n",
    "vy_pred = data_it0[:-1,5]\n",
    "diff_x = (vx-vx_pred)\n",
    "diff_y = (vy-vy_pred)\n",
    "X_data = np.vstack([x,y]).transpose()\n",
    "y_data = np.vstack([diff_x,diff_y]).transpose()\n",
    "plot_wind_field(X_data, y_data, None, None)"
   ]
  },
  {
   "cell_type": "code",
   "execution_count": 62,
   "id": "0c468ebc",
   "metadata": {},
   "outputs": [
    {
     "data": {
      "application/vnd.jupyter.widget-view+json": {
       "model_id": "591877d639394963b3b984e0d0f84581",
       "version_major": 2,
       "version_minor": 0
      },
      "text/plain": [
       "Epoch:   0%|          | 0/20 [00:00<?, ?it/s]"
      ]
     },
     "metadata": {},
     "output_type": "display_data"
    },
    {
     "data": {
      "application/vnd.jupyter.widget-view+json": {
       "model_id": "",
       "version_major": 2,
       "version_minor": 0
      },
      "text/plain": [
       "Minibatch:   0%|          | 0/14 [00:00<?, ?it/s]"
      ]
     },
     "metadata": {},
     "output_type": "display_data"
    },
    {
     "data": {
      "application/vnd.jupyter.widget-view+json": {
       "model_id": "",
       "version_major": 2,
       "version_minor": 0
      },
      "text/plain": [
       "Minibatch:   0%|          | 0/14 [00:00<?, ?it/s]"
      ]
     },
     "metadata": {},
     "output_type": "display_data"
    },
    {
     "data": {
      "application/vnd.jupyter.widget-view+json": {
       "model_id": "",
       "version_major": 2,
       "version_minor": 0
      },
      "text/plain": [
       "Minibatch:   0%|          | 0/14 [00:00<?, ?it/s]"
      ]
     },
     "metadata": {},
     "output_type": "display_data"
    },
    {
     "data": {
      "application/vnd.jupyter.widget-view+json": {
       "model_id": "",
       "version_major": 2,
       "version_minor": 0
      },
      "text/plain": [
       "Minibatch:   0%|          | 0/14 [00:00<?, ?it/s]"
      ]
     },
     "metadata": {},
     "output_type": "display_data"
    },
    {
     "data": {
      "application/vnd.jupyter.widget-view+json": {
       "model_id": "",
       "version_major": 2,
       "version_minor": 0
      },
      "text/plain": [
       "Minibatch:   0%|          | 0/14 [00:00<?, ?it/s]"
      ]
     },
     "metadata": {},
     "output_type": "display_data"
    },
    {
     "data": {
      "application/vnd.jupyter.widget-view+json": {
       "model_id": "",
       "version_major": 2,
       "version_minor": 0
      },
      "text/plain": [
       "Minibatch:   0%|          | 0/14 [00:00<?, ?it/s]"
      ]
     },
     "metadata": {},
     "output_type": "display_data"
    },
    {
     "data": {
      "application/vnd.jupyter.widget-view+json": {
       "model_id": "",
       "version_major": 2,
       "version_minor": 0
      },
      "text/plain": [
       "Minibatch:   0%|          | 0/14 [00:00<?, ?it/s]"
      ]
     },
     "metadata": {},
     "output_type": "display_data"
    },
    {
     "data": {
      "application/vnd.jupyter.widget-view+json": {
       "model_id": "",
       "version_major": 2,
       "version_minor": 0
      },
      "text/plain": [
       "Minibatch:   0%|          | 0/14 [00:00<?, ?it/s]"
      ]
     },
     "metadata": {},
     "output_type": "display_data"
    },
    {
     "data": {
      "application/vnd.jupyter.widget-view+json": {
       "model_id": "",
       "version_major": 2,
       "version_minor": 0
      },
      "text/plain": [
       "Minibatch:   0%|          | 0/14 [00:00<?, ?it/s]"
      ]
     },
     "metadata": {},
     "output_type": "display_data"
    },
    {
     "data": {
      "application/vnd.jupyter.widget-view+json": {
       "model_id": "",
       "version_major": 2,
       "version_minor": 0
      },
      "text/plain": [
       "Minibatch:   0%|          | 0/14 [00:00<?, ?it/s]"
      ]
     },
     "metadata": {},
     "output_type": "display_data"
    },
    {
     "data": {
      "application/vnd.jupyter.widget-view+json": {
       "model_id": "",
       "version_major": 2,
       "version_minor": 0
      },
      "text/plain": [
       "Minibatch:   0%|          | 0/14 [00:00<?, ?it/s]"
      ]
     },
     "metadata": {},
     "output_type": "display_data"
    },
    {
     "data": {
      "application/vnd.jupyter.widget-view+json": {
       "model_id": "",
       "version_major": 2,
       "version_minor": 0
      },
      "text/plain": [
       "Minibatch:   0%|          | 0/14 [00:00<?, ?it/s]"
      ]
     },
     "metadata": {},
     "output_type": "display_data"
    },
    {
     "data": {
      "application/vnd.jupyter.widget-view+json": {
       "model_id": "",
       "version_major": 2,
       "version_minor": 0
      },
      "text/plain": [
       "Minibatch:   0%|          | 0/14 [00:00<?, ?it/s]"
      ]
     },
     "metadata": {},
     "output_type": "display_data"
    },
    {
     "data": {
      "application/vnd.jupyter.widget-view+json": {
       "model_id": "",
       "version_major": 2,
       "version_minor": 0
      },
      "text/plain": [
       "Minibatch:   0%|          | 0/14 [00:00<?, ?it/s]"
      ]
     },
     "metadata": {},
     "output_type": "display_data"
    },
    {
     "data": {
      "application/vnd.jupyter.widget-view+json": {
       "model_id": "",
       "version_major": 2,
       "version_minor": 0
      },
      "text/plain": [
       "Minibatch:   0%|          | 0/14 [00:00<?, ?it/s]"
      ]
     },
     "metadata": {},
     "output_type": "display_data"
    },
    {
     "data": {
      "application/vnd.jupyter.widget-view+json": {
       "model_id": "",
       "version_major": 2,
       "version_minor": 0
      },
      "text/plain": [
       "Minibatch:   0%|          | 0/14 [00:00<?, ?it/s]"
      ]
     },
     "metadata": {},
     "output_type": "display_data"
    },
    {
     "data": {
      "application/vnd.jupyter.widget-view+json": {
       "model_id": "",
       "version_major": 2,
       "version_minor": 0
      },
      "text/plain": [
       "Minibatch:   0%|          | 0/14 [00:00<?, ?it/s]"
      ]
     },
     "metadata": {},
     "output_type": "display_data"
    },
    {
     "data": {
      "application/vnd.jupyter.widget-view+json": {
       "model_id": "",
       "version_major": 2,
       "version_minor": 0
      },
      "text/plain": [
       "Minibatch:   0%|          | 0/14 [00:00<?, ?it/s]"
      ]
     },
     "metadata": {},
     "output_type": "display_data"
    },
    {
     "data": {
      "application/vnd.jupyter.widget-view+json": {
       "model_id": "",
       "version_major": 2,
       "version_minor": 0
      },
      "text/plain": [
       "Minibatch:   0%|          | 0/14 [00:00<?, ?it/s]"
      ]
     },
     "metadata": {},
     "output_type": "display_data"
    },
    {
     "data": {
      "application/vnd.jupyter.widget-view+json": {
       "model_id": "",
       "version_major": 2,
       "version_minor": 0
      },
      "text/plain": [
       "Minibatch:   0%|          | 0/14 [00:00<?, ?it/s]"
      ]
     },
     "metadata": {},
     "output_type": "display_data"
    },
    {
     "data": {
      "application/vnd.jupyter.widget-view+json": {
       "model_id": "c2b6d0fd567f4c338d770c107e79ef8c",
       "version_major": 2,
       "version_minor": 0
      },
      "text/plain": [
       "Epoch:   0%|          | 0/20 [00:00<?, ?it/s]"
      ]
     },
     "metadata": {},
     "output_type": "display_data"
    },
    {
     "data": {
      "application/vnd.jupyter.widget-view+json": {
       "model_id": "",
       "version_major": 2,
       "version_minor": 0
      },
      "text/plain": [
       "Minibatch:   0%|          | 0/14 [00:00<?, ?it/s]"
      ]
     },
     "metadata": {},
     "output_type": "display_data"
    },
    {
     "data": {
      "application/vnd.jupyter.widget-view+json": {
       "model_id": "",
       "version_major": 2,
       "version_minor": 0
      },
      "text/plain": [
       "Minibatch:   0%|          | 0/14 [00:00<?, ?it/s]"
      ]
     },
     "metadata": {},
     "output_type": "display_data"
    },
    {
     "data": {
      "application/vnd.jupyter.widget-view+json": {
       "model_id": "",
       "version_major": 2,
       "version_minor": 0
      },
      "text/plain": [
       "Minibatch:   0%|          | 0/14 [00:00<?, ?it/s]"
      ]
     },
     "metadata": {},
     "output_type": "display_data"
    },
    {
     "data": {
      "application/vnd.jupyter.widget-view+json": {
       "model_id": "",
       "version_major": 2,
       "version_minor": 0
      },
      "text/plain": [
       "Minibatch:   0%|          | 0/14 [00:00<?, ?it/s]"
      ]
     },
     "metadata": {},
     "output_type": "display_data"
    },
    {
     "data": {
      "application/vnd.jupyter.widget-view+json": {
       "model_id": "",
       "version_major": 2,
       "version_minor": 0
      },
      "text/plain": [
       "Minibatch:   0%|          | 0/14 [00:00<?, ?it/s]"
      ]
     },
     "metadata": {},
     "output_type": "display_data"
    },
    {
     "data": {
      "application/vnd.jupyter.widget-view+json": {
       "model_id": "",
       "version_major": 2,
       "version_minor": 0
      },
      "text/plain": [
       "Minibatch:   0%|          | 0/14 [00:00<?, ?it/s]"
      ]
     },
     "metadata": {},
     "output_type": "display_data"
    },
    {
     "data": {
      "application/vnd.jupyter.widget-view+json": {
       "model_id": "",
       "version_major": 2,
       "version_minor": 0
      },
      "text/plain": [
       "Minibatch:   0%|          | 0/14 [00:00<?, ?it/s]"
      ]
     },
     "metadata": {},
     "output_type": "display_data"
    },
    {
     "data": {
      "application/vnd.jupyter.widget-view+json": {
       "model_id": "",
       "version_major": 2,
       "version_minor": 0
      },
      "text/plain": [
       "Minibatch:   0%|          | 0/14 [00:00<?, ?it/s]"
      ]
     },
     "metadata": {},
     "output_type": "display_data"
    },
    {
     "data": {
      "application/vnd.jupyter.widget-view+json": {
       "model_id": "",
       "version_major": 2,
       "version_minor": 0
      },
      "text/plain": [
       "Minibatch:   0%|          | 0/14 [00:00<?, ?it/s]"
      ]
     },
     "metadata": {},
     "output_type": "display_data"
    },
    {
     "data": {
      "application/vnd.jupyter.widget-view+json": {
       "model_id": "",
       "version_major": 2,
       "version_minor": 0
      },
      "text/plain": [
       "Minibatch:   0%|          | 0/14 [00:00<?, ?it/s]"
      ]
     },
     "metadata": {},
     "output_type": "display_data"
    },
    {
     "data": {
      "application/vnd.jupyter.widget-view+json": {
       "model_id": "",
       "version_major": 2,
       "version_minor": 0
      },
      "text/plain": [
       "Minibatch:   0%|          | 0/14 [00:00<?, ?it/s]"
      ]
     },
     "metadata": {},
     "output_type": "display_data"
    },
    {
     "data": {
      "application/vnd.jupyter.widget-view+json": {
       "model_id": "",
       "version_major": 2,
       "version_minor": 0
      },
      "text/plain": [
       "Minibatch:   0%|          | 0/14 [00:00<?, ?it/s]"
      ]
     },
     "metadata": {},
     "output_type": "display_data"
    },
    {
     "data": {
      "application/vnd.jupyter.widget-view+json": {
       "model_id": "",
       "version_major": 2,
       "version_minor": 0
      },
      "text/plain": [
       "Minibatch:   0%|          | 0/14 [00:00<?, ?it/s]"
      ]
     },
     "metadata": {},
     "output_type": "display_data"
    },
    {
     "data": {
      "application/vnd.jupyter.widget-view+json": {
       "model_id": "",
       "version_major": 2,
       "version_minor": 0
      },
      "text/plain": [
       "Minibatch:   0%|          | 0/14 [00:00<?, ?it/s]"
      ]
     },
     "metadata": {},
     "output_type": "display_data"
    },
    {
     "data": {
      "application/vnd.jupyter.widget-view+json": {
       "model_id": "",
       "version_major": 2,
       "version_minor": 0
      },
      "text/plain": [
       "Minibatch:   0%|          | 0/14 [00:00<?, ?it/s]"
      ]
     },
     "metadata": {},
     "output_type": "display_data"
    },
    {
     "data": {
      "application/vnd.jupyter.widget-view+json": {
       "model_id": "",
       "version_major": 2,
       "version_minor": 0
      },
      "text/plain": [
       "Minibatch:   0%|          | 0/14 [00:00<?, ?it/s]"
      ]
     },
     "metadata": {},
     "output_type": "display_data"
    },
    {
     "data": {
      "application/vnd.jupyter.widget-view+json": {
       "model_id": "",
       "version_major": 2,
       "version_minor": 0
      },
      "text/plain": [
       "Minibatch:   0%|          | 0/14 [00:00<?, ?it/s]"
      ]
     },
     "metadata": {},
     "output_type": "display_data"
    },
    {
     "data": {
      "application/vnd.jupyter.widget-view+json": {
       "model_id": "",
       "version_major": 2,
       "version_minor": 0
      },
      "text/plain": [
       "Minibatch:   0%|          | 0/14 [00:00<?, ?it/s]"
      ]
     },
     "metadata": {},
     "output_type": "display_data"
    },
    {
     "data": {
      "application/vnd.jupyter.widget-view+json": {
       "model_id": "",
       "version_major": 2,
       "version_minor": 0
      },
      "text/plain": [
       "Minibatch:   0%|          | 0/14 [00:00<?, ?it/s]"
      ]
     },
     "metadata": {},
     "output_type": "display_data"
    },
    {
     "data": {
      "application/vnd.jupyter.widget-view+json": {
       "model_id": "",
       "version_major": 2,
       "version_minor": 0
      },
      "text/plain": [
       "Minibatch:   0%|          | 0/14 [00:00<?, ?it/s]"
      ]
     },
     "metadata": {},
     "output_type": "display_data"
    },
    {
     "name": "stdout",
     "output_type": "stream",
     "text": [
      "OrderedDict([('variational_strategy.inducing_points', tensor([[ 0.0381, -5.6268],\n",
      "        [-0.2850, -5.1205],\n",
      "        [ 0.1382, -5.1605],\n",
      "        [-0.0477, -4.8033],\n",
      "        [ 0.1501, -4.6122],\n",
      "        [-0.0405, -4.3464],\n",
      "        [ 0.2537, -4.1415],\n",
      "        [ 0.0099, -3.8516],\n",
      "        [ 0.3487, -3.6576],\n",
      "        [ 0.1397, -3.4021],\n",
      "        [ 0.1998, -3.1455],\n",
      "        [ 0.4921, -2.9413],\n",
      "        [ 0.2221, -2.6152],\n",
      "        [ 0.3648, -2.3585],\n",
      "        [ 0.4708, -2.0644],\n",
      "        [ 0.7337, -1.9719],\n",
      "        [ 0.6694, -1.4529],\n",
      "        [ 1.0808, -1.4505],\n",
      "        [ 1.0217, -1.0754],\n",
      "        [ 1.2647, -0.9007],\n",
      "        [ 1.4840, -0.5786],\n",
      "        [ 1.3501, -0.3126],\n",
      "        [ 1.6192,  0.1378],\n",
      "        [ 1.5413,  0.4731],\n",
      "        [ 1.3713,  0.6608],\n",
      "        [ 1.3783,  1.0598],\n",
      "        [ 1.2170,  1.3604],\n",
      "        [ 1.1022,  1.7126],\n",
      "        [ 1.0168,  1.9797],\n",
      "        [ 1.0030,  2.4158],\n",
      "        [ 0.5651,  2.3591],\n",
      "        [ 0.5498,  2.8043],\n",
      "        [ 0.6227,  3.0998],\n",
      "        [ 0.3410,  3.4911],\n",
      "        [ 0.2816,  3.8395]])), ('variational_strategy.variational_params_initialized', tensor(1)), ('variational_strategy.updated_strategy', tensor(True)), ('variational_strategy._variational_distribution.variational_mean', tensor([ 0.0002, -0.0307, -0.0405,  0.0222,  0.0261,  0.0816,  0.0442,  0.1067,\n",
      "         0.0529,  0.0909,  0.0671,  0.0117,  0.0769,  0.0312,  0.0236, -0.0123,\n",
      "         0.0750,  0.0105,  0.1005,  0.0836,  0.1008,  0.1002,  0.0835,  0.0408,\n",
      "         0.0107, -0.0077, -0.0381, -0.0388, -0.0335, -0.0321, -0.0321, -0.0225,\n",
      "        -0.0199, -0.0140, -0.0184])), ('variational_strategy._variational_distribution.chol_variational_covar', tensor([[ 3.0612e-01,  0.0000e+00,  0.0000e+00,  ...,  0.0000e+00,\n",
      "          0.0000e+00,  0.0000e+00],\n",
      "        [-5.4263e-01,  6.0366e-01,  0.0000e+00,  ...,  0.0000e+00,\n",
      "          0.0000e+00,  0.0000e+00],\n",
      "        [-2.6826e-01, -5.9456e-01,  6.2099e-01,  ...,  0.0000e+00,\n",
      "          0.0000e+00,  0.0000e+00],\n",
      "        ...,\n",
      "        [-6.5405e-03, -5.5591e-03,  8.4479e-03,  ...,  8.5029e-01,\n",
      "          0.0000e+00,  0.0000e+00],\n",
      "        [-6.3600e-03,  9.6606e-05,  1.0210e-02,  ..., -2.5718e-01,\n",
      "          8.8018e-01,  0.0000e+00],\n",
      "        [-4.8873e-03,  1.3218e-02,  8.5765e-03,  ..., -1.0025e-01,\n",
      "         -1.1558e-01,  9.7537e-01]])), ('covar_module.raw_outputscale', tensor(-1.4257)), ('covar_module.base_kernel.raw_lengthscale', tensor([[2.1575, 2.1094]])), ('covar_module.base_kernel.raw_lengthscale_constraint.lower_bound', tensor(0.)), ('covar_module.base_kernel.raw_lengthscale_constraint.upper_bound', tensor(inf)), ('covar_module.raw_outputscale_constraint.lower_bound', tensor(0.)), ('covar_module.raw_outputscale_constraint.upper_bound', tensor(inf))])\n",
      "OrderedDict([('variational_strategy.inducing_points', tensor([[-0.0357, -5.6308],\n",
      "        [-0.3247, -5.2522],\n",
      "        [ 0.3407, -5.2587],\n",
      "        [-0.1890, -4.8806],\n",
      "        [ 0.0882, -4.6323],\n",
      "        [ 0.1747, -4.3464],\n",
      "        [-0.0088, -4.1138],\n",
      "        [ 0.2549, -3.8575],\n",
      "        [ 0.1061, -3.5614],\n",
      "        [ 0.3560, -3.3125],\n",
      "        [ 0.1888, -3.0994],\n",
      "        [ 0.4826, -2.9205],\n",
      "        [ 0.2291, -2.6339],\n",
      "        [ 0.3967, -2.3789],\n",
      "        [ 0.3878, -2.1072],\n",
      "        [ 0.6041, -2.0011],\n",
      "        [ 0.7265, -1.7686],\n",
      "        [ 0.7541, -1.3240],\n",
      "        [ 1.1977, -1.1861],\n",
      "        [ 1.2364, -0.8703],\n",
      "        [ 1.3809, -0.5861],\n",
      "        [ 1.5458, -0.1958],\n",
      "        [ 1.4169, -0.0158],\n",
      "        [ 1.6096,  0.4798],\n",
      "        [ 1.3273,  0.6425],\n",
      "        [ 1.4193,  1.0682],\n",
      "        [ 1.1205,  1.3457],\n",
      "        [ 1.1413,  1.7051],\n",
      "        [ 0.9448,  1.9566],\n",
      "        [ 0.9442,  2.3165],\n",
      "        [ 0.6088,  2.4850],\n",
      "        [ 0.6808,  2.6683],\n",
      "        [ 0.6206,  3.0448],\n",
      "        [ 0.3612,  3.4092],\n",
      "        [ 0.2777,  3.8554]])), ('variational_strategy.variational_params_initialized', tensor(1)), ('variational_strategy.updated_strategy', tensor(True)), ('variational_strategy._variational_distribution.variational_mean', tensor([-0.0028, -0.0507, -0.0367, -0.0159, -0.0066,  0.0069,  0.0289,  0.0100,\n",
      "         0.0340, -0.0007,  0.0240, -0.0231,  0.0191, -0.0207, -0.0251, -0.0410,\n",
      "        -0.0415, -0.0250, -0.0449, -0.0070,  0.0050,  0.0072,  0.0032, -0.0037,\n",
      "        -0.0143, -0.0261, -0.0369, -0.0345, -0.0342, -0.0293, -0.0248, -0.0195,\n",
      "        -0.0211, -0.0180, -0.0149])), ('variational_strategy._variational_distribution.chol_variational_covar', tensor([[ 0.3056,  0.0000,  0.0000,  ...,  0.0000,  0.0000,  0.0000],\n",
      "        [-0.4817,  0.6821,  0.0000,  ...,  0.0000,  0.0000,  0.0000],\n",
      "        [-0.3516, -0.5518,  0.6171,  ...,  0.0000,  0.0000,  0.0000],\n",
      "        ...,\n",
      "        [ 0.0066, -0.0047,  0.0128,  ...,  0.7927,  0.0000,  0.0000],\n",
      "        [ 0.0086, -0.0072,  0.0118,  ..., -0.3202,  0.8451,  0.0000],\n",
      "        [ 0.0109,  0.0051,  0.0023,  ..., -0.1545, -0.1683,  0.9417]])), ('covar_module.raw_outputscale', tensor(-1.4127)), ('covar_module.base_kernel.raw_lengthscale', tensor([[2.1617, 2.1276]])), ('covar_module.base_kernel.raw_lengthscale_constraint.lower_bound', tensor(0.)), ('covar_module.base_kernel.raw_lengthscale_constraint.upper_bound', tensor(inf)), ('covar_module.raw_outputscale_constraint.lower_bound', tensor(0.)), ('covar_module.raw_outputscale_constraint.upper_bound', tensor(inf))])\n"
     ]
    }
   ],
   "source": [
    "# Train the wind data \n",
    "data_it0 = Data()\n",
    "data_it0.set_data(X_data,y_data)\n",
    "sparse_gp_torch = SparseGPyTorchRegression(data_it0, 5, 20)\n",
    "train = True\n",
    "if train:\n",
    "    sparse_gp_torch.fit()\n",
    "sparse_gp_torch.save_model(\"_soa_it0\")\n",
    "# Also save training data\n",
    "np.savez('soa_it0',X=X_data,y=y_data)"
   ]
  },
  {
   "cell_type": "code",
   "execution_count": null,
   "id": "faf104c9",
   "metadata": {},
   "outputs": [],
   "source": []
  }
 ],
 "metadata": {
  "kernelspec": {
   "display_name": "Python 3 (ipykernel)",
   "language": "python",
   "name": "python3"
  },
  "language_info": {
   "codemirror_mode": {
    "name": "ipython",
    "version": 3
   },
   "file_extension": ".py",
   "mimetype": "text/x-python",
   "name": "python",
   "nbconvert_exporter": "python",
   "pygments_lexer": "ipython3",
   "version": "3.8.10"
  }
 },
 "nbformat": 4,
 "nbformat_minor": 5
}
