{
 "cells": [
  {
   "cell_type": "code",
   "execution_count": 110,
   "id": "e6853a59",
   "metadata": {},
   "outputs": [],
   "source": [
    "# Sigma Point Transform\n",
    "import numpy as np"
   ]
  },
  {
   "cell_type": "code",
   "execution_count": 111,
   "id": "4483d0b9",
   "metadata": {},
   "outputs": [],
   "source": [
    "A = np.array([[0,0,1,0],[0,0,0,1],[0,0,0,0],[0,0,0,0]])\n",
    "Bd = np.array([0.00125,0,0.05,0])"
   ]
  },
  {
   "cell_type": "code",
   "execution_count": 112,
   "id": "d5d65d9c",
   "metadata": {},
   "outputs": [],
   "source": [
    "mu = 2.6278\n",
    "sigma = np.sqrt(0.0078745)\n",
    "s = np.random.normal(mu, sigma, 100000)"
   ]
  },
  {
   "cell_type": "code",
   "execution_count": 113,
   "id": "e1ce33e0",
   "metadata": {},
   "outputs": [],
   "source": [
    "x_next = np.zeros([100000,4])\n",
    "x = np.zeros([4])\n",
    "for i in range(len(s)):\n",
    "    x_next[i] = Bd*s[i]"
   ]
  },
  {
   "cell_type": "code",
   "execution_count": 114,
   "id": "2d33b072",
   "metadata": {},
   "outputs": [
    {
     "data": {
      "text/plain": [
       "array([0.00341437, 0.00318314, 0.0033125 , ..., 0.00333352, 0.00306722,\n",
       "       0.00322348])"
      ]
     },
     "execution_count": 114,
     "metadata": {},
     "output_type": "execute_result"
    }
   ],
   "source": [
    "x_next[:,0]"
   ]
  },
  {
   "cell_type": "code",
   "execution_count": 115,
   "id": "fdb82aa5",
   "metadata": {},
   "outputs": [],
   "source": [
    "a = np.mean(x_next[:,0])\n",
    "b = np.mean(x_next[:,2])\n",
    "c = np.std(x_next[:,0])\n",
    "d = np.std(x_next[:,2])"
   ]
  },
  {
   "cell_type": "code",
   "execution_count": 116,
   "id": "63692487",
   "metadata": {},
   "outputs": [
    {
     "name": "stdout",
     "output_type": "stream",
     "text": [
      "1.237766871759909e-08\n",
      "1.9804269948158545e-05\n"
     ]
    }
   ],
   "source": [
    "print(c ** 2)\n",
    "print(d ** 2)"
   ]
  },
  {
   "cell_type": "code",
   "execution_count": 108,
   "id": "4574e983",
   "metadata": {},
   "outputs": [
    {
     "data": {
      "text/plain": [
       "array([0.00035077, 0.        , 0.01403077, 0.        ])"
      ]
     },
     "execution_count": 108,
     "metadata": {},
     "output_type": "execute_result"
    }
   ],
   "source": [
    "Bd * (np.sqrt(0.078745))"
   ]
  },
  {
   "cell_type": "code",
   "execution_count": 102,
   "id": "d1990c62",
   "metadata": {},
   "outputs": [
    {
     "data": {
      "text/plain": [
       "0.07874500000000001"
      ]
     },
     "execution_count": 102,
     "metadata": {},
     "output_type": "execute_result"
    }
   ],
   "source": [
    "sigma ** 2"
   ]
  },
  {
   "cell_type": "code",
   "execution_count": null,
   "id": "3ca18a3c",
   "metadata": {},
   "outputs": [],
   "source": []
  }
 ],
 "metadata": {
  "kernelspec": {
   "display_name": "Python 3 (ipykernel)",
   "language": "python",
   "name": "python3"
  },
  "language_info": {
   "codemirror_mode": {
    "name": "ipython",
    "version": 3
   },
   "file_extension": ".py",
   "mimetype": "text/x-python",
   "name": "python",
   "nbconvert_exporter": "python",
   "pygments_lexer": "ipython3",
   "version": "3.8.10"
  }
 },
 "nbformat": 4,
 "nbformat_minor": 5
}
